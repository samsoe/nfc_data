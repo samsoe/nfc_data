{
 "cells": [
  {
   "cell_type": "code",
   "execution_count": 1,
   "metadata": {
    "collapsed": true
   },
   "outputs": [],
   "source": [
    "#!/usr/bin/env python2.7"
   ]
  },
  {
   "cell_type": "markdown",
   "metadata": {},
   "source": [
    "Just some quick resources for wx data while I am thinking of it....\n",
    "mesowest is a great one. it has all of the government weather stations: http://mesowest.utah.edu/\n",
    "wunderground has the mpg wx stations: mpgweather.com\n",
    "More to come!"
   ]
  },
  {
   "cell_type": "markdown",
   "metadata": {},
   "source": [
    "Next step for wx data: is there a way to automatically download this while we are recording for NFCs. So all the wx stations of interest from start date x to end date x are archived either in real time or not. The archived files are in whatever format for us to import into analysis and analysis software. Think ready to go with little manipulation required by us.\n",
    "Typical weather variables we are interested in:\n",
    "temp, wind speed and direction, ceiling height (only available at major airports, I believe), cloud cover, barometric pressure, etc. There maybe more I am forgetting....\n",
    "As far as radar, I want the Nexrad wx radar from Montana doppler radar sites. I have to track down the websites for this yet. But here is an example of someone who makes maps from available data. http://www.pauljhurtado.com/US_Composite_Radar/\n",
    "Ultimately, what I want is a csv or txt with the raw radar values from these sorts of images. I want the pixel values at our monitoring sites and then buffered at 300 and 600m from point center and and get focal statistics for each. Does that make sense?"
   ]
  },
  {
   "cell_type": "code",
   "execution_count": 2,
   "metadata": {
    "collapsed": true
   },
   "outputs": [],
   "source": [
    "# Store url\n",
    "url = 'https://www.wunderground.com/personal-weather-station/dashboard?ID=KMTFLORE2'"
   ]
  },
  {
   "cell_type": "code",
   "execution_count": 3,
   "metadata": {},
   "outputs": [
    {
     "data": {
      "text/plain": [
       "requests.models.Response"
      ]
     },
     "execution_count": 3,
     "metadata": {},
     "output_type": "execute_result"
    }
   ],
   "source": [
    "# Import `requests`\n",
    "import requests\n",
    "\n",
    "# Make the request and check object type\n",
    "r = requests.get(url)\n",
    "type(r)"
   ]
  },
  {
   "cell_type": "code",
   "execution_count": 4,
   "metadata": {
    "collapsed": true
   },
   "outputs": [],
   "source": [
    "# Extract HTML from Response object and print\n",
    "html = r.text\n",
    "#print(html)"
   ]
  },
  {
   "cell_type": "code",
   "execution_count": 5,
   "metadata": {},
   "outputs": [
    {
     "data": {
      "text/plain": [
       "bs4.BeautifulSoup"
      ]
     },
     "execution_count": 5,
     "metadata": {},
     "output_type": "execute_result"
    }
   ],
   "source": [
    "# Import BeautifulSoup from bs4\n",
    "from bs4 import BeautifulSoup\n",
    "\n",
    "\n",
    "# Create a BeautifulSoup object from the HTML\n",
    "soup = BeautifulSoup(html, \"html5lib\")\n",
    "type(soup)"
   ]
  },
  {
   "cell_type": "code",
   "execution_count": 6,
   "metadata": {},
   "outputs": [],
   "source": [
    "# establish categories\n",
    "wx_cats = ['date_time', 'temp', 'feels_like', 'wind_speed', 'wind_direction', 'gusts', 'dew_point', 'humidity', 'precip_rate', 'accum_precip', 'pressure', 'solar']\n",
    "#print(wx_cats)"
   ]
  },
  {
   "cell_type": "code",
   "execution_count": 7,
   "metadata": {
    "collapsed": true
   },
   "outputs": [],
   "source": [
    "wx_values = []\n",
    "wx_element = soup.findAll('span', class_='wx-value')\n",
    "for value in wx_element:\n",
    "    v = value.contents[0].strip()\n",
    "    wx_values.append(v)"
   ]
  },
  {
   "cell_type": "code",
   "execution_count": 8,
   "metadata": {},
   "outputs": [
    {
     "name": "stdout",
     "output_type": "stream",
     "text": [
      "['2017-12-07 08:53:00', u'14.0', u'14', u'0.0', u'NE', u'0.0', u'12', u'90', u'0.00', u'0.00', u'30.90', u'16']\n"
     ]
    }
   ],
   "source": [
    "import datetime\n",
    "now = datetime.datetime.now()\n",
    "date_time = now.strftime(\"%Y-%m-%d %H:%M:%S\")\n",
    "date_time\n",
    "\n",
    "wx_values = [date_time] + wx_values\n",
    "print(wx_values)"
   ]
  },
  {
   "cell_type": "code",
   "execution_count": 9,
   "metadata": {
    "collapsed": true
   },
   "outputs": [],
   "source": [
    "# Import pandas to use DataFrame\n",
    "import pandas as pd"
   ]
  },
  {
   "cell_type": "code",
   "execution_count": 10,
   "metadata": {
    "collapsed": true,
    "scrolled": true
   },
   "outputs": [],
   "source": [
    "# Combine categories (wx_cat) and values (wx_values) into DataFrame\n",
    "df = pd.DataFrame(data=[wx_values], columns=wx_cats)"
   ]
  },
  {
   "cell_type": "code",
   "execution_count": 11,
   "metadata": {
    "collapsed": true
   },
   "outputs": [],
   "source": [
    "import os\n",
    "\n",
    "dirname = ''\n",
    "filename = 'KMTFLORE2_171201.csv'\n",
    "\n",
    "if os.path.exists(dirname+filename):\n",
    "    with open(dirname + filename, 'a') as f:\n",
    "        df.to_csv(f, header=False, index=False)\n",
    "else:        \n",
    "    df.to_csv(dirname + filename, index=False)\n"
   ]
  }
 ],
 "metadata": {
  "kernelspec": {
   "display_name": "Python 2",
   "language": "python",
   "name": "python2"
  },
  "language_info": {
   "codemirror_mode": {
    "name": "ipython",
    "version": 2
   },
   "file_extension": ".py",
   "mimetype": "text/x-python",
   "name": "python",
   "nbconvert_exporter": "python",
   "pygments_lexer": "ipython2",
   "version": "2.7.13"
  }
 },
 "nbformat": 4,
 "nbformat_minor": 2
}
