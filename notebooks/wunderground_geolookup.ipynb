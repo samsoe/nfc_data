{
 "cells": [
  {
   "cell_type": "markdown",
   "metadata": {
    "collapsed": true
   },
   "source": [
    "## Wunderground Geolookup\n",
    "\n",
    "This notebook queries the wunderground api for station ids within a 40 km range of Florence, Stevensville Montana.  This information is then used to query weather data for each station.\n",
    "\n",
    "#### api reference page :\n",
    "https://www.wunderground.com/weather/api/d/docs?d=resources/code-samples"
   ]
  },
  {
   "cell_type": "code",
   "execution_count": 4,
   "metadata": {
    "collapsed": true
   },
   "outputs": [],
   "source": [
    "from urllib.request import urlopen\n",
    "import json\n",
    "import pandas as pd"
   ]
  },
  {
   "cell_type": "code",
   "execution_count": 5,
   "metadata": {
    "collapsed": true
   },
   "outputs": [],
   "source": [
    "private_key = 'x'"
   ]
  },
  {
   "cell_type": "markdown",
   "metadata": {},
   "source": [
    "The following api calls return all weather stations within 40km of 'MT/town.json'"
   ]
  },
  {
   "cell_type": "code",
   "execution_count": 6,
   "metadata": {
    "collapsed": true
   },
   "outputs": [],
   "source": [
    "main_call = 'http://api.wunderground.com/api/' + private_key + '/geolookup/conditions/q/'\n",
    "hamilton_query = 'MT/Hamilton.json'\n",
    "florence_query = 'MT/Florence.json'\n",
    "stevi_query = 'MT/Stevensville.json'"
   ]
  },
  {
   "cell_type": "code",
   "execution_count": 7,
   "metadata": {
    "collapsed": true
   },
   "outputs": [],
   "source": [
    "def api_call(url):\n",
    "    f = urlopen(url)\n",
    "    json_string = f.read() \n",
    "    parsed_json = json.loads(json_string)\n",
    "    return parsed_json"
   ]
  },
  {
   "cell_type": "code",
   "execution_count": 8,
   "metadata": {
    "collapsed": true
   },
   "outputs": [],
   "source": [
    "florence_json = api_call(main_call + florence_query)\n",
    "hamilton_json = api_call(main_call + hamilton_query)\n",
    "stevi_json = api_call(main_call + stevi_query)"
   ]
  },
  {
   "cell_type": "code",
   "execution_count": 9,
   "metadata": {
    "collapsed": true
   },
   "outputs": [],
   "source": [
    "nearby_florence = florence_json['location']['nearby_weather_stations']\n",
    "nearby_hamilton = hamilton_json['location']['nearby_weather_stations']\n",
    "nearby_stevi = stevi_json['location']['nearby_weather_stations']"
   ]
  },
  {
   "cell_type": "code",
   "execution_count": 10,
   "metadata": {},
   "outputs": [
    {
     "data": {
      "text/plain": [
       "26"
      ]
     },
     "execution_count": 10,
     "metadata": {},
     "output_type": "execute_result"
    }
   ],
   "source": [
    "len(nearby_stevi['pws']['station'])"
   ]
  },
  {
   "cell_type": "code",
   "execution_count": 11,
   "metadata": {
    "collapsed": true
   },
   "outputs": [],
   "source": [
    "airports = []"
   ]
  },
  {
   "cell_type": "code",
   "execution_count": 12,
   "metadata": {
    "collapsed": true
   },
   "outputs": [],
   "source": [
    "airports.append(nearby_hamilton['airport']['station'][1])\n",
    "airports.append(nearby_hamilton['airport']['station'][3])"
   ]
  },
  {
   "cell_type": "code",
   "execution_count": 13,
   "metadata": {
    "scrolled": true
   },
   "outputs": [
    {
     "data": {
      "text/plain": [
       "[{'city': 'Missoula',\n",
       "  'country': 'US',\n",
       "  'icao': 'KMSO',\n",
       "  'lat': '46.91999817',\n",
       "  'lon': '-114.08999634',\n",
       "  'state': 'MT'},\n",
       " {'city': 'Lowell',\n",
       "  'country': 'US',\n",
       "  'icao': 'KP69',\n",
       "  'lat': '46.13999939',\n",
       "  'lon': '-115.59999847',\n",
       "  'state': 'ID'}]"
      ]
     },
     "execution_count": 13,
     "metadata": {},
     "output_type": "execute_result"
    }
   ],
   "source": [
    "airports"
   ]
  },
  {
   "cell_type": "code",
   "execution_count": 14,
   "metadata": {
    "collapsed": true
   },
   "outputs": [],
   "source": [
    "florence_pws = nearby_florence['pws']['station']\n",
    "stevi_pws = nearby_stevi['pws']['station']\n",
    "hamilton_pws = nearby_hamilton['pws']['station']"
   ]
  },
  {
   "cell_type": "code",
   "execution_count": 15,
   "metadata": {
    "collapsed": true
   },
   "outputs": [],
   "source": [
    "broot_pws = florence_pws + hamilton_pws + stevi_pws"
   ]
  },
  {
   "cell_type": "code",
   "execution_count": 16,
   "metadata": {},
   "outputs": [
    {
     "data": {
      "text/plain": [
       "{'city': 'Florence',\n",
       " 'country': 'US',\n",
       " 'distance_km': 1,\n",
       " 'distance_mi': 0,\n",
       " 'id': 'KMTFLORE12',\n",
       " 'lat': 46.642807,\n",
       " 'lon': -114.084084,\n",
       " 'neighborhood': 'Florence west side',\n",
       " 'state': 'MT'}"
      ]
     },
     "execution_count": 16,
     "metadata": {},
     "output_type": "execute_result"
    }
   ],
   "source": [
    "broot_pws[0]"
   ]
  },
  {
   "cell_type": "code",
   "execution_count": 17,
   "metadata": {
    "collapsed": true,
    "scrolled": true
   },
   "outputs": [],
   "source": [
    "# put list of dictionaries into a dataframe\n",
    "df = pd.DataFrame(broot_pws)"
   ]
  },
  {
   "cell_type": "code",
   "execution_count": 18,
   "metadata": {},
   "outputs": [
    {
     "name": "stdout",
     "output_type": "stream",
     "text": [
      "<class 'pandas.core.frame.DataFrame'>\n",
      "RangeIndex: 68 entries, 0 to 67\n",
      "Data columns (total 9 columns):\n",
      "city            68 non-null object\n",
      "country         68 non-null object\n",
      "distance_km     68 non-null int64\n",
      "distance_mi     68 non-null int64\n",
      "id              68 non-null object\n",
      "lat             68 non-null float64\n",
      "lon             68 non-null float64\n",
      "neighborhood    68 non-null object\n",
      "state           68 non-null object\n",
      "dtypes: float64(2), int64(2), object(5)\n",
      "memory usage: 4.9+ KB\n"
     ]
    }
   ],
   "source": [
    "df.info()"
   ]
  },
  {
   "cell_type": "code",
   "execution_count": 19,
   "metadata": {
    "collapsed": true
   },
   "outputs": [],
   "source": [
    "df = df.drop_duplicates(subset='id', keep='first')"
   ]
  },
  {
   "cell_type": "code",
   "execution_count": 20,
   "metadata": {
    "collapsed": true
   },
   "outputs": [],
   "source": [
    "df = df.sort_values(by=['city']).reset_index(drop=True)"
   ]
  },
  {
   "cell_type": "code",
   "execution_count": 22,
   "metadata": {},
   "outputs": [
    {
     "data": {
      "text/html": [
       "<div>\n",
       "<style>\n",
       "    .dataframe thead tr:only-child th {\n",
       "        text-align: right;\n",
       "    }\n",
       "\n",
       "    .dataframe thead th {\n",
       "        text-align: left;\n",
       "    }\n",
       "\n",
       "    .dataframe tbody tr th {\n",
       "        vertical-align: top;\n",
       "    }\n",
       "</style>\n",
       "<table border=\"1\" class=\"dataframe\">\n",
       "  <thead>\n",
       "    <tr style=\"text-align: right;\">\n",
       "      <th></th>\n",
       "      <th>city</th>\n",
       "      <th>country</th>\n",
       "      <th>distance_km</th>\n",
       "      <th>distance_mi</th>\n",
       "      <th>id</th>\n",
       "      <th>lat</th>\n",
       "      <th>lon</th>\n",
       "      <th>neighborhood</th>\n",
       "      <th>state</th>\n",
       "    </tr>\n",
       "  </thead>\n",
       "  <tbody>\n",
       "    <tr>\n",
       "      <th>0</th>\n",
       "      <td>Corvallis</td>\n",
       "      <td>US</td>\n",
       "      <td>9</td>\n",
       "      <td>5</td>\n",
       "      <td>KMTCORVA9</td>\n",
       "      <td>46.277557</td>\n",
       "      <td>-114.045059</td>\n",
       "      <td>Hamilton Heights</td>\n",
       "      <td>MT</td>\n",
       "    </tr>\n",
       "    <tr>\n",
       "      <th>1</th>\n",
       "      <td>Corvallis</td>\n",
       "      <td>US</td>\n",
       "      <td>11</td>\n",
       "      <td>6</td>\n",
       "      <td>KMTCORVA12</td>\n",
       "      <td>46.323433</td>\n",
       "      <td>-114.058067</td>\n",
       "      <td>Soft Rock</td>\n",
       "      <td>MT</td>\n",
       "    </tr>\n",
       "    <tr>\n",
       "      <th>2</th>\n",
       "      <td>Corvallis</td>\n",
       "      <td>US</td>\n",
       "      <td>9</td>\n",
       "      <td>5</td>\n",
       "      <td>KMTCORVA21</td>\n",
       "      <td>46.301487</td>\n",
       "      <td>-114.061974</td>\n",
       "      <td>Willow Creek Rd</td>\n",
       "      <td>MT</td>\n",
       "    </tr>\n",
       "    <tr>\n",
       "      <th>3</th>\n",
       "      <td>Corvallis</td>\n",
       "      <td>US</td>\n",
       "      <td>7</td>\n",
       "      <td>4</td>\n",
       "      <td>KMTCORVA15</td>\n",
       "      <td>46.314114</td>\n",
       "      <td>-114.119720</td>\n",
       "      <td>Corvallis - West Edge of Town</td>\n",
       "      <td>MT</td>\n",
       "    </tr>\n",
       "    <tr>\n",
       "      <th>4</th>\n",
       "      <td>Corvallis</td>\n",
       "      <td>US</td>\n",
       "      <td>5</td>\n",
       "      <td>3</td>\n",
       "      <td>KMTCORVA10</td>\n",
       "      <td>46.284927</td>\n",
       "      <td>-114.106499</td>\n",
       "      <td>All View Lane</td>\n",
       "      <td>MT</td>\n",
       "    </tr>\n",
       "  </tbody>\n",
       "</table>\n",
       "</div>"
      ],
      "text/plain": [
       "        city country  distance_km  distance_mi          id        lat  \\\n",
       "0  Corvallis      US            9            5   KMTCORVA9  46.277557   \n",
       "1  Corvallis      US           11            6  KMTCORVA12  46.323433   \n",
       "2  Corvallis      US            9            5  KMTCORVA21  46.301487   \n",
       "3  Corvallis      US            7            4  KMTCORVA15  46.314114   \n",
       "4  Corvallis      US            5            3  KMTCORVA10  46.284927   \n",
       "\n",
       "          lon                   neighborhood state  \n",
       "0 -114.045059               Hamilton Heights    MT  \n",
       "1 -114.058067                      Soft Rock    MT  \n",
       "2 -114.061974                Willow Creek Rd    MT  \n",
       "3 -114.119720  Corvallis - West Edge of Town    MT  \n",
       "4 -114.106499                  All View Lane    MT  "
      ]
     },
     "execution_count": 22,
     "metadata": {},
     "output_type": "execute_result"
    }
   ],
   "source": [
    "df.head()"
   ]
  },
  {
   "cell_type": "code",
   "execution_count": 23,
   "metadata": {},
   "outputs": [
    {
     "data": {
      "text/html": [
       "<div style=\"width:100%;\"><div style=\"position:relative;width:100%;height:0;padding-bottom:60%;\"><iframe src=\"data:text/html;charset=utf-8;base64,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\" style=\"position:absolute;width:100%;height:100%;left:0;top:0;border:none !important;\" allowfullscreen webkitallowfullscreen mozallowfullscreen></iframe></div></div>"
      ],
      "text/plain": [
       "<folium.folium.Map at 0x108648e80>"
      ]
     },
     "execution_count": 23,
     "metadata": {},
     "output_type": "execute_result"
    }
   ],
   "source": [
    "# stations within 40km\n",
    "import folium\n",
    "\n",
    "station_map = folium.Map(\n",
    "    width=900, height=900,\n",
    "    location=[46.574031, -114.006500],\n",
    "    zoom_start=9,\n",
    "    tiles='Stamen Terrain'\n",
    ")\n",
    "\n",
    "for index, row in df.iterrows():\n",
    "    popup_text = row['neighborhood'] + '</br>' + row['id']\n",
    "    marker = folium.Marker(location=[row['lat'], row['lon']], popup=popup_text)\n",
    "    marker.add_to(station_map)\n",
    "\n",
    "station_map"
   ]
  },
  {
   "cell_type": "code",
   "execution_count": 123,
   "metadata": {
    "collapsed": true
   },
   "outputs": [],
   "source": [
    "# output complete lookup csv\n",
    "dirname = '../output/'\n",
    "filename = 'geolookup-mso_stev_ham.csv'\n",
    "outputfile = dirname + filename\n",
    "\n",
    "# df.to_csv(outputfile, index=False)"
   ]
  },
  {
   "cell_type": "code",
   "execution_count": 24,
   "metadata": {},
   "outputs": [
    {
     "data": {
      "text/plain": [
       "0      KMTCORVA9\n",
       "1     KMTCORVA12\n",
       "2     KMTCORVA21\n",
       "3     KMTCORVA15\n",
       "4     KMTCORVA10\n",
       "5     KMTCORVA14\n",
       "6      KMTFLORE7\n",
       "7      KMTFLORE4\n",
       "8     KMTFLORE12\n",
       "9      KMTFLORE5\n",
       "10    KMTFLORE11\n",
       "11    KMTFLORE17\n",
       "12     KMTFLORE2\n",
       "13     KMTFLORE3\n",
       "14    KMTHAMIL22\n",
       "15    KMTHAMIL12\n",
       "16    KMTHAMIL21\n",
       "17    KMTHAMIL16\n",
       "18    KMTHAMIL13\n",
       "19      KMTLOLO6\n",
       "20      KMTLOLO7\n",
       "21      KMTLOLO8\n",
       "22    KMTMISSO62\n",
       "23    KMTMISSO55\n",
       "24    KMTMISSO44\n",
       "25    KMTMISSO50\n",
       "26    KMTMISSO41\n",
       "27    KMTMISSO15\n",
       "28    KMTMISSO87\n",
       "29     KMTSTEVE8\n",
       "30    KMTSTEVE13\n",
       "31    KMTSTEVE17\n",
       "32    KMTSTEVE19\n",
       "33    KMTSTEVE12\n",
       "34    KMTVICTO12\n",
       "35    KMTVICTO11\n",
       "Name: id, dtype: object"
      ]
     },
     "execution_count": 24,
     "metadata": {},
     "output_type": "execute_result"
    }
   ],
   "source": [
    "ids = df['id']\n",
    "ids"
   ]
  },
  {
   "cell_type": "code",
   "execution_count": 133,
   "metadata": {
    "collapsed": true
   },
   "outputs": [],
   "source": [
    "# output station IDs\n",
    "dirname = '../output/'\n",
    "filename = 'station_id-list.csv'\n",
    "\n",
    "outputfile = dirname + filename\n",
    "ids.to_csv(outputfile, index=False)"
   ]
  }
 ],
 "metadata": {
  "kernelspec": {
   "display_name": "Python 3",
   "language": "python",
   "name": "python3"
  },
  "language_info": {
   "codemirror_mode": {
    "name": "ipython",
    "version": 3
   },
   "file_extension": ".py",
   "mimetype": "text/x-python",
   "name": "python",
   "nbconvert_exporter": "python",
   "pygments_lexer": "ipython3",
   "version": "3.6.3"
  }
 },
 "nbformat": 4,
 "nbformat_minor": 2
}
