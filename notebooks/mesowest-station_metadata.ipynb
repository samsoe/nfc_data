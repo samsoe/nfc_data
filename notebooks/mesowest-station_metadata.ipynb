{
 "cells": [
  {
   "cell_type": "markdown",
   "metadata": {},
   "source": [
    "* Mesoweb API : https://synopticlabs.org/api/tutorials/\n",
    "* Downloads Page : https://blog.synopticlabs.org/blog/2016/06/07/new-download-page.html\n",
    "* Montana Map : https://mesowest.utah.edu/cgi-bin/droman/mesomap.cgi?state=MT&rawsflag=3"
   ]
  },
  {
   "cell_type": "code",
   "execution_count": 32,
   "metadata": {
    "collapsed": true
   },
   "outputs": [],
   "source": [
    "import credentials_mesowest as creds\n",
    "from urllib.request import urlopen\n",
    "import json\n",
    "import pandas as pd"
   ]
  },
  {
   "cell_type": "code",
   "execution_count": 26,
   "metadata": {
    "collapsed": true
   },
   "outputs": [],
   "source": [
    "meso_key = creds.api['key']\n",
    "meso_token = creds.api['token']"
   ]
  },
  {
   "cell_type": "markdown",
   "metadata": {},
   "source": [
    "### Identify Stations of Interest"
   ]
  },
  {
   "cell_type": "code",
   "execution_count": 99,
   "metadata": {
    "collapsed": true
   },
   "outputs": [],
   "source": [
    "station_array = [{'name' : 'west fork', 'code' : 'WSFM8'}, \n",
    "                 {'name' : 'sula', 'code' : 'SUAM8'},\n",
    "                 {'name' : 'bitteroot qd1', 'code' : 'TR285'},                 \n",
    "                 {'name' : 'little rock creek', 'code' : 'LRCM8'},\n",
    "                 {'name' : 'deer mountain', 'code' : 'DEEM8'},\n",
    "                 {'name' : 'gird point', 'code' : 'GPRM8'},\n",
    "                 {'name' : 'smith creek', 'code' : 'SMTM8'},\n",
    "                 {'name' : 'sawmill creek', 'code' : 'TR564'},\n",
    "                 {'name' : 'stevi', 'code' : 'STVM8'},\n",
    "                 {'name' : 'fire effects porta', 'code' : 'MOMM8'},\n",
    "                 {'name' : 'blue mtn', 'code' : 'TS934'},\n",
    "                 {'name' : 'missoula internati', 'code' : 'KMSO'}]"
   ]
  },
  {
   "cell_type": "markdown",
   "metadata": {},
   "source": [
    "### Query Mesowest station metadata"
   ]
  },
  {
   "cell_type": "code",
   "execution_count": 55,
   "metadata": {
    "collapsed": true
   },
   "outputs": [],
   "source": [
    "def api_call(url):\n",
    "    f = urlopen(url)\n",
    "    json_string = f.read() \n",
    "    parsed_json = json.loads(json_string)\n",
    "    return parsed_json"
   ]
  },
  {
   "cell_type": "code",
   "execution_count": 100,
   "metadata": {
    "collapsed": true
   },
   "outputs": [
    {
     "name": "stdout",
     "output_type": "stream",
     "text": [
      "{'NWSFIREZONE': 'MSO109', 'ELEV_DEM': '4432.4', 'TIMEZONE': 'America/Denver', 'SGID': 'NR06', 'SHORTNAME': 'RAWS', 'ELEVATION': '4420', 'STID': 'WSFM8', 'WIMS_ID': '242907', 'GACC': 'NRCC', 'STATUS': 'ACTIVE', 'PERIOD_OF_RECORD': {'start': '2001-05-10T00:00:00Z', 'end': '2018-09-19T13:14:00Z'}, 'LONGITUDE': '-114.258333', 'COUNTY': 'Ravalli', 'STATE': 'MT', 'CWA': 'MSO', 'NWSZONE': 'MT006', 'ID': '2917', 'MNET_ID': '2', 'NAME': 'WEST FORK', 'COUNTRY': 'US', 'RESTRICTED': False, 'LATITUDE': ' 45.815556'}\n",
      "{'NWSFIREZONE': 'MSO109', 'ELEV_DEM': '4767.1', 'TIMEZONE': 'America/Denver', 'SGID': 'NR06', 'SHORTNAME': 'RAWS', 'ELEVATION': '4570', 'STID': 'SUAM8', 'WIMS_ID': '242905', 'GACC': 'NRCC', 'STATUS': 'ACTIVE', 'PERIOD_OF_RECORD': {'start': '2005-03-25T00:00:00Z', 'end': '2018-09-18T22:28:00Z'}, 'LONGITUDE': '-113.953831', 'COUNTY': 'Ravalli', 'STATE': 'MT', 'CWA': 'MSO', 'NWSZONE': 'MT006', 'ID': '13522', 'MNET_ID': '2', 'NAME': 'SULA', 'COUNTRY': 'US', 'RESTRICTED': False, 'LATITUDE': ' 45.820728'}\n",
      "{'NWSFIREZONE': 'MSO109', 'ELEV_DEM': '4540.7', 'TIMEZONE': 'America/Denver', 'SGID': 'NR06', 'SHORTNAME': 'RAWS', 'ELEVATION': '4500', 'STID': 'TR285', 'WIMS_ID': None, 'GACC': 'NRCC', 'STATUS': 'ACTIVE', 'PERIOD_OF_RECORD': {'start': '2001-07-14T00:00:00Z', 'end': '2018-09-19T18:18:00Z'}, 'LONGITUDE': '-114.216250', 'COUNTY': 'Ravalli', 'STATE': 'MT', 'CWA': 'MSO', 'NWSZONE': 'MT005', 'ID': '3407', 'MNET_ID': '2', 'NAME': 'BITTERROOT QD#1 - PORT', 'COUNTRY': 'US', 'RESTRICTED': False, 'LATITUDE': '45.982667'}\n",
      "{'NWSFIREZONE': 'MSO109', 'ELEV_DEM': '5554.5', 'TIMEZONE': 'America/Denver', 'SGID': 'NR06', 'SHORTNAME': 'RAWS', 'ELEVATION': '5507', 'STID': 'LRCM8', 'WIMS_ID': '242914', 'GACC': 'NRCC', 'STATUS': 'ACTIVE', 'PERIOD_OF_RECORD': {'start': '2003-05-14T00:00:00Z', 'end': '2018-09-19T13:09:00Z'}, 'LONGITUDE': '-114.262708', 'COUNTY': 'Ravalli', 'STATE': 'MT', 'CWA': 'MSO', 'NWSZONE': 'MT005', 'ID': '6477', 'MNET_ID': '2', 'NAME': 'LITTLE ROCK CREEK', 'COUNTRY': 'US', 'RESTRICTED': False, 'LATITUDE': '46.037828'}\n",
      "{'NWSFIREZONE': 'MSO109', 'ELEV_DEM': '7257.2', 'TIMEZONE': 'America/Denver', 'SGID': 'NR06', 'SHORTNAME': 'RAWS', 'ELEVATION': '7282', 'STID': 'DEEM8', 'WIMS_ID': '242902', 'GACC': 'NRCC', 'STATUS': 'ACTIVE', 'PERIOD_OF_RECORD': {'start': '2001-06-01T00:00:00Z', 'end': '2018-09-19T18:06:00Z'}, 'LONGITUDE': '-114.055208', 'COUNTY': 'Ravalli', 'STATE': 'MT', 'CWA': 'MSO', 'NWSZONE': 'MT006', 'ID': '2856', 'MNET_ID': '2', 'NAME': 'DEER MOUNTAIN', 'COUNTRY': 'US', 'RESTRICTED': False, 'LATITUDE': '46.025492'}\n",
      "{'NWSFIREZONE': 'MSO109', 'ELEV_DEM': '6945.5', 'TIMEZONE': 'America/Denver', 'SGID': 'NR06', 'SHORTNAME': 'RAWS', 'ELEVATION': '6950', 'STID': 'GPRM8', 'WIMS_ID': '242911', 'GACC': 'NRCC', 'STATUS': 'ACTIVE', 'PERIOD_OF_RECORD': {'start': '2001-04-03T00:00:00Z', 'end': '2018-09-19T13:14:00Z'}, 'LONGITUDE': '-113.922581', 'COUNTY': 'Ravalli', 'STATE': 'MT', 'CWA': 'MSO', 'NWSZONE': 'MT006', 'ID': '2857', 'MNET_ID': '2', 'NAME': 'GIRD POINT', 'COUNTRY': 'US', 'RESTRICTED': False, 'LATITUDE': '46.193217'}\n",
      "{'NWSFIREZONE': 'MSO109', 'ELEV_DEM': '5731.6', 'TIMEZONE': 'America/Denver', 'SGID': 'NR06', 'SHORTNAME': 'RAWS', 'ELEVATION': '5650', 'STID': 'SMTM8', 'WIMS_ID': '242912', 'GACC': 'NRCC', 'STATUS': 'ACTIVE', 'PERIOD_OF_RECORD': {'start': '2001-04-03T00:00:00Z', 'end': '2018-09-19T17:02:00Z'}, 'LONGITUDE': '-114.226822', 'COUNTY': 'Ravalli', 'STATE': 'MT', 'CWA': 'MSO', 'NWSZONE': 'MT005', 'ID': '1758', 'MNET_ID': '2', 'NAME': 'SMITH CREEK', 'COUNTRY': 'US', 'RESTRICTED': False, 'LATITUDE': '46.439581'}\n",
      "{'NWSFIREZONE': 'MSO109', 'ELEV_DEM': '5416.7', 'TIMEZONE': 'America/Denver', 'SGID': 'NR06', 'SHORTNAME': 'RAWS', 'ELEVATION': '5540', 'STID': 'TR564', 'WIMS_ID': None, 'GACC': 'NRCC', 'STATUS': 'ACTIVE', 'PERIOD_OF_RECORD': {'start': '2001-08-14T00:00:00Z', 'end': '2018-09-18T22:58:00Z'}, 'LONGITUDE': '-113.890278', 'COUNTY': 'Ravalli', 'STATE': 'MT', 'CWA': 'MSO', 'NWSZONE': 'MT006', 'ID': '3580', 'MNET_ID': '2', 'NAME': 'SAWMILL CREEK', 'COUNTRY': 'US', 'RESTRICTED': False, 'LATITUDE': '46.451111'}\n",
      "{'NWSFIREZONE': 'MSO109', 'ELEV_DEM': '3320.2', 'TIMEZONE': 'America/Denver', 'SGID': 'NR06', 'SHORTNAME': 'RAWS', 'ELEVATION': '3365', 'STID': 'STVM8', 'WIMS_ID': '242904', 'GACC': 'NRCC', 'STATUS': 'ACTIVE', 'PERIOD_OF_RECORD': {'start': '2001-04-03T00:00:00Z', 'end': '2018-09-18T23:14:00Z'}, 'LONGITUDE': '-114.090881', 'COUNTY': 'Ravalli', 'STATE': 'MT', 'CWA': 'MSO', 'NWSZONE': 'MT005', 'ID': '2866', 'MNET_ID': '2', 'NAME': 'STEVI', 'COUNTRY': 'US', 'RESTRICTED': False, 'LATITUDE': '46.513514'}\n",
      "{'NWSFIREZONE': 'MSO108', 'ELEV_DEM': '5141.1', 'TIMEZONE': 'America/Denver', 'SGID': 'NR04', 'SHORTNAME': 'RAWS', 'ELEVATION': '3966', 'STID': 'MOMM8', 'WIMS_ID': None, 'GACC': 'NRCC', 'STATUS': 'ACTIVE', 'PERIOD_OF_RECORD': {'start': '2007-05-17T00:00:00Z', 'end': '2018-09-19T18:26:00Z'}, 'LONGITUDE': '-114.157311', 'COUNTY': 'Missoula', 'STATE': 'MT', 'CWA': 'MSO', 'NWSZONE': 'MT006', 'ID': '21239', 'MNET_ID': '2', 'NAME': 'FIRE EFFECTS PORTABLE #2', 'COUNTRY': 'US', 'RESTRICTED': False, 'LATITUDE': '46.718531'}\n",
      "{'NWSFIREZONE': 'MSO106', 'ELEV_DEM': '3412.1', 'TIMEZONE': 'America/Denver', 'SGID': 'NR04', 'SHORTNAME': 'RAWS', 'ELEVATION': '3412', 'STID': 'TS934', 'WIMS_ID': '241513', 'GACC': 'NRCC', 'STATUS': 'ACTIVE', 'PERIOD_OF_RECORD': {'start': '2001-04-03T00:00:00Z', 'end': '2018-09-18T23:01:00Z'}, 'LONGITUDE': '-114.100889', 'COUNTY': 'Missoula', 'STATE': 'MT', 'CWA': 'MSO', 'NWSZONE': 'MT005', 'ID': '2862', 'MNET_ID': '2', 'NAME': 'BLUE MTN', 'COUNTRY': 'US', 'RESTRICTED': False, 'LATITUDE': '46.820725'}\n",
      "{'NWSFIREZONE': 'MSO108', 'ELEV_DEM': '3192.3', 'TIMEZONE': 'America/Denver', 'SGID': 'NR04', 'SHORTNAME': 'NWS/FAA', 'ELEVATION': '3199', 'STID': 'KMSO', 'WIMS_ID': None, 'GACC': 'NRCC', 'STATUS': 'ACTIVE', 'PERIOD_OF_RECORD': {'start': '1997-04-12T00:00:00Z', 'end': '2018-09-19T17:10:00Z'}, 'LONGITUDE': '-114.09250', 'COUNTY': 'Missoula', 'STATE': 'MT', 'CWA': 'MSO', 'NWSZONE': 'MT005', 'ID': '277', 'MNET_ID': '1', 'NAME': 'Missoula, Missoula International Airport', 'COUNTRY': 'US', 'RESTRICTED': False, 'LATITUDE': '46.92083'}\n"
     ]
    }
   ],
   "source": [
    "# Query Mesowest API and store in array\n",
    "station_metadata = []\n",
    "\n",
    "for stid in station_array:\n",
    "    query_url = 'https://api.mesowest.net/v2/stations/metadata?stid=' + stid['code'] + '&complete=1&token=' + meso_token\n",
    "    metadata_query = api_call(query_url)\n",
    "    print(metadata_query['STATION'][0])\n",
    "    station_metadata.append(metadata_query['STATION'][0])"
   ]
  },
  {
   "cell_type": "code",
   "execution_count": 64,
   "metadata": {
    "collapsed": true
   },
   "outputs": [
    {
     "name": "stdout",
     "output_type": "stream",
     "text": [
      "**** WEST FORK ****\n",
      "lat:  45.815556\n",
      "lon: -114.258333 \n",
      "\n",
      "**** SULA ****\n",
      "lat:  45.820728\n",
      "lon: -113.953831 \n",
      "\n",
      "**** WEST FORK ****\n",
      "lat:  45.815556\n",
      "lon: -114.258333 \n",
      "\n",
      "**** BITTERROOT QD#1 - PORT ****\n",
      "lat: 45.982667\n",
      "lon: -114.216250 \n",
      "\n",
      "**** LITTLE ROCK CREEK ****\n",
      "lat: 46.037828\n",
      "lon: -114.262708 \n",
      "\n",
      "**** DEER MOUNTAIN ****\n",
      "lat: 46.025492\n",
      "lon: -114.055208 \n",
      "\n",
      "**** GIRD POINT ****\n",
      "lat: 46.193217\n",
      "lon: -113.922581 \n",
      "\n",
      "**** SMITH CREEK ****\n",
      "lat: 46.439581\n",
      "lon: -114.226822 \n",
      "\n",
      "**** SAWMILL CREEK ****\n",
      "lat: 46.451111\n",
      "lon: -113.890278 \n",
      "\n",
      "**** STEVI ****\n",
      "lat: 46.513514\n",
      "lon: -114.090881 \n",
      "\n",
      "**** FIRE EFFECTS PORTABLE #2 ****\n",
      "lat: 46.718531\n",
      "lon: -114.157311 \n",
      "\n",
      "**** BLUE MTN ****\n",
      "lat: 46.820725\n",
      "lon: -114.100889 \n",
      "\n",
      "**** Missoula, Missoula International Airport ****\n",
      "lat: 46.92083\n",
      "lon: -114.09250 \n",
      "\n"
     ]
    }
   ],
   "source": [
    "for station in station_metadata:\n",
    "    print('**** ' + station['NAME'] + ' ****')\n",
    "    print('lat: ' + station['LATITUDE'])\n",
    "    print('lon: ' + station['LONGITUDE'], '\\n')"
   ]
  },
  {
   "cell_type": "markdown",
   "metadata": {},
   "source": [
    "### Display Map"
   ]
  },
  {
   "cell_type": "code",
   "execution_count": 102,
   "metadata": {},
   "outputs": [
    {
     "data": {
      "text/html": [
       "<div style=\"width:100%;\"><div style=\"position:relative;width:100%;height:0;padding-bottom:60%;\"><iframe src=\"data:text/html;charset=utf-8;base64,PCFET0NUWVBFIGh0bWw+CjxoZWFkPiAgICAKICAgIDxtZXRhIGh0dHAtZXF1aXY9ImNvbnRlbnQtdHlwZSIgY29udGVudD0idGV4dC9odG1sOyBjaGFyc2V0PVVURi04IiAvPgogICAgPHNjcmlwdD5MX1BSRUZFUl9DQU5WQVMgPSBmYWxzZTsgTF9OT19UT1VDSCA9IGZhbHNlOyBMX0RJU0FCTEVfM0QgPSBmYWxzZTs8L3NjcmlwdD4KICAgIDxzY3JpcHQgc3JjPSJodHRwczovL2Nkbi5qc2RlbGl2ci5uZXQvbnBtL2xlYWZsZXRAMS4yLjAvZGlzdC9sZWFmbGV0LmpzIj48L3NjcmlwdD4KICAgIDxzY3JpcHQgc3JjPSJodHRwczovL2FqYXguZ29vZ2xlYXBpcy5jb20vYWpheC9saWJzL2pxdWVyeS8xLjExLjEvanF1ZXJ5Lm1pbi5qcyI+PC9zY3JpcHQ+CiAgICA8c2NyaXB0IHNyYz0iaHR0cHM6Ly9tYXhjZG4uYm9vdHN0cmFwY2RuLmNvbS9ib290c3RyYXAvMy4yLjAvanMvYm9vdHN0cmFwLm1pbi5qcyI+PC9zY3JpcHQ+CiAgICA8c2NyaXB0IHNyYz0iaHR0cHM6Ly9jZG5qcy5jbG91ZGZsYXJlLmNvbS9hamF4L2xpYnMvTGVhZmxldC5hd2Vzb21lLW1hcmtlcnMvMi4wLjIvbGVhZmxldC5hd2Vzb21lLW1hcmtlcnMuanMiPjwvc2NyaXB0PgogICAgPGxpbmsgcmVsPSJzdHlsZXNoZWV0IiBocmVmPSJodHRwczovL2Nkbi5qc2RlbGl2ci5uZXQvbnBtL2xlYWZsZXRAMS4yLjAvZGlzdC9sZWFmbGV0LmNzcyIgLz4KICAgIDxsaW5rIHJlbD0ic3R5bGVzaGVldCIgaHJlZj0iaHR0cHM6Ly9tYXhjZG4uYm9vdHN0cmFwY2RuLmNvbS9ib290c3RyYXAvMy4yLjAvY3NzL2Jvb3RzdHJhcC5taW4uY3NzIiAvPgogICAgPGxpbmsgcmVsPSJzdHlsZXNoZWV0IiBocmVmPSJodHRwczovL21heGNkbi5ib290c3RyYXBjZG4uY29tL2Jvb3RzdHJhcC8zLjIuMC9jc3MvYm9vdHN0cmFwLXRoZW1lLm1pbi5jc3MiIC8+CiAgICA8bGluayByZWw9InN0eWxlc2hlZXQiIGhyZWY9Imh0dHBzOi8vbWF4Y2RuLmJvb3RzdHJhcGNkbi5jb20vZm9udC1hd2Vzb21lLzQuNi4zL2Nzcy9mb250LWF3ZXNvbWUubWluLmNzcyIgLz4KICAgIDxsaW5rIHJlbD0ic3R5bGVzaGVldCIgaHJlZj0iaHR0cHM6Ly9jZG5qcy5jbG91ZGZsYXJlLmNvbS9hamF4L2xpYnMvTGVhZmxldC5hd2Vzb21lLW1hcmtlcnMvMi4wLjIvbGVhZmxldC5hd2Vzb21lLW1hcmtlcnMuY3NzIiAvPgogICAgPGxpbmsgcmVsPSJzdHlsZXNoZWV0IiBocmVmPSJodHRwczovL3Jhd2dpdC5jb20vcHl0aG9uLXZpc3VhbGl6YXRpb24vZm9saXVtL21hc3Rlci9mb2xpdW0vdGVtcGxhdGVzL2xlYWZsZXQuYXdlc29tZS5yb3RhdGUuY3NzIiAvPgogICAgPHN0eWxlPmh0bWwsIGJvZHkge3dpZHRoOiAxMDAlO2hlaWdodDogMTAwJTttYXJnaW46IDA7cGFkZGluZzogMDt9PC9zdHlsZT4KICAgIDxzdHlsZT4jbWFwIHtwb3NpdGlvbjphYnNvbHV0ZTt0b3A6MDtib3R0b206MDtyaWdodDowO2xlZnQ6MDt9PC9zdHlsZT4KICAgIAogICAgICAgICAgICA8c3R5bGU+ICNtYXBfMTdjOWU5NTc4Mzg2NGEyMmFlMzUwYWMxNDQzZjE1ZjQgewogICAgICAgICAgICAgICAgcG9zaXRpb24gOiByZWxhdGl2ZTsKICAgICAgICAgICAgICAgIHdpZHRoIDogOTAwLjBweDsKICAgICAgICAgICAgICAgIGhlaWdodDogOTAwLjBweDsKICAgICAgICAgICAgICAgIGxlZnQ6IDAuMCU7CiAgICAgICAgICAgICAgICB0b3A6IDAuMCU7CiAgICAgICAgICAgICAgICB9CiAgICAgICAgICAgIDwvc3R5bGU+CiAgICAgICAgCjwvaGVhZD4KPGJvZHk+ICAgIAogICAgCiAgICAgICAgICAgIDxkaXYgY2xhc3M9ImZvbGl1bS1tYXAiIGlkPSJtYXBfMTdjOWU5NTc4Mzg2NGEyMmFlMzUwYWMxNDQzZjE1ZjQiID48L2Rpdj4KICAgICAgICAKPC9ib2R5Pgo8c2NyaXB0PiAgICAKICAgIAoKICAgICAgICAgICAgCiAgICAgICAgICAgICAgICB2YXIgYm91bmRzID0gbnVsbDsKICAgICAgICAgICAgCgogICAgICAgICAgICB2YXIgbWFwXzE3YzllOTU3ODM4NjRhMjJhZTM1MGFjMTQ0M2YxNWY0ID0gTC5tYXAoCiAgICAgICAgICAgICAgICAgICAgICAgICAgICAgICAgICAnbWFwXzE3YzllOTU3ODM4NjRhMjJhZTM1MGFjMTQ0M2YxNWY0JywKICAgICAgICAgICAgICAgICAgICAgICAgICAgICAgICAgIHtjZW50ZXI6IFs0NS44NzQwMzEsLTExNC4wMDY1XSwKICAgICAgICAgICAgICAgICAgICAgICAgICAgICAgICAgIHpvb206IDgsCiAgICAgICAgICAgICAgICAgICAgICAgICAgICAgICAgICBtYXhCb3VuZHM6IGJvdW5kcywKICAgICAgICAgICAgICAgICAgICAgICAgICAgICAgICAgIGxheWVyczogW10sCiAgICAgICAgICAgICAgICAgICAgICAgICAgICAgICAgICB3b3JsZENvcHlKdW1wOiBmYWxzZSwKICAgICAgICAgICAgICAgICAgICAgICAgICAgICAgICAgIGNyczogTC5DUlMuRVBTRzM4NTcKICAgICAgICAgICAgICAgICAgICAgICAgICAgICAgICAgfSk7CiAgICAgICAgICAgIAogICAgICAgIAogICAgCiAgICAgICAgICAgIHZhciB0aWxlX2xheWVyXzViYzMzODZhN2E3ZTQyYWRhYzU0N2ZiNGFlNmRkOGRlID0gTC50aWxlTGF5ZXIoCiAgICAgICAgICAgICAgICAnaHR0cHM6Ly9zdGFtZW4tdGlsZXMte3N9LmEuc3NsLmZhc3RseS5uZXQvdGVycmFpbi97en0ve3h9L3t5fS5qcGcnLAogICAgICAgICAgICAgICAgewogICJhdHRyaWJ1dGlvbiI6IG51bGwsCiAgImRldGVjdFJldGluYSI6IGZhbHNlLAogICJtYXhab29tIjogMTgsCiAgIm1pblpvb20iOiAxLAogICJub1dyYXAiOiBmYWxzZSwKICAic3ViZG9tYWlucyI6ICJhYmMiCn0KICAgICAgICAgICAgICAgICkuYWRkVG8obWFwXzE3YzllOTU3ODM4NjRhMjJhZTM1MGFjMTQ0M2YxNWY0KTsKICAgICAgICAKICAgIAoKICAgICAgICAgICAgdmFyIG1hcmtlcl83MDU5ZTI4MzhmYjE0NmYzYTZkNzBhYmNhOTg3NjY2MiA9IEwubWFya2VyKAogICAgICAgICAgICAgICAgWzQ1LjgxNTU1NiwtMTE0LjI1ODMzM10sCiAgICAgICAgICAgICAgICB7CiAgICAgICAgICAgICAgICAgICAgaWNvbjogbmV3IEwuSWNvbi5EZWZhdWx0KCkKICAgICAgICAgICAgICAgICAgICB9CiAgICAgICAgICAgICAgICApCiAgICAgICAgICAgICAgICAuYWRkVG8obWFwXzE3YzllOTU3ODM4NjRhMjJhZTM1MGFjMTQ0M2YxNWY0KTsKICAgICAgICAgICAgCiAgICAKICAgICAgICAgICAgdmFyIHBvcHVwXzJhNzBlMTc3MzY4ZDQ4NzZiZWMyMzk2NTEwMjZmZWVmID0gTC5wb3B1cCh7bWF4V2lkdGg6ICczMDAnfSk7CgogICAgICAgICAgICAKICAgICAgICAgICAgICAgIHZhciBodG1sXzdkYmJlMWQyOGM2OTRkNTBiYWRhYWZhODExYzJmY2YzID0gJCgnPGRpdiBpZD0iaHRtbF83ZGJiZTFkMjhjNjk0ZDUwYmFkYWFmYTgxMWMyZmNmMyIgc3R5bGU9IndpZHRoOiAxMDAuMCU7IGhlaWdodDogMTAwLjAlOyI+V0VTVCBGT1JLPC9kaXY+JylbMF07CiAgICAgICAgICAgICAgICBwb3B1cF8yYTcwZTE3NzM2OGQ0ODc2YmVjMjM5NjUxMDI2ZmVlZi5zZXRDb250ZW50KGh0bWxfN2RiYmUxZDI4YzY5NGQ1MGJhZGFhZmE4MTFjMmZjZjMpOwogICAgICAgICAgICAKCiAgICAgICAgICAgIG1hcmtlcl83MDU5ZTI4MzhmYjE0NmYzYTZkNzBhYmNhOTg3NjY2Mi5iaW5kUG9wdXAocG9wdXBfMmE3MGUxNzczNjhkNDg3NmJlYzIzOTY1MTAyNmZlZWYpOwoKICAgICAgICAgICAgCiAgICAgICAgCiAgICAKCiAgICAgICAgICAgIHZhciBtYXJrZXJfZTdmNDRkNGI3MWQ4NGYyNmE2NDcxZjBiYWU0NDVlNzMgPSBMLm1hcmtlcigKICAgICAgICAgICAgICAgIFs0NS44MjA3MjgsLTExMy45NTM4MzFdLAogICAgICAgICAgICAgICAgewogICAgICAgICAgICAgICAgICAgIGljb246IG5ldyBMLkljb24uRGVmYXVsdCgpCiAgICAgICAgICAgICAgICAgICAgfQogICAgICAgICAgICAgICAgKQogICAgICAgICAgICAgICAgLmFkZFRvKG1hcF8xN2M5ZTk1NzgzODY0YTIyYWUzNTBhYzE0NDNmMTVmNCk7CiAgICAgICAgICAgIAogICAgCiAgICAgICAgICAgIHZhciBwb3B1cF8yZjY5NmRiNjc5YmU0NGY0ODNiNDE3MWMyOTU5M2ZlZCA9IEwucG9wdXAoe21heFdpZHRoOiAnMzAwJ30pOwoKICAgICAgICAgICAgCiAgICAgICAgICAgICAgICB2YXIgaHRtbF85ODQ0MzlhYzM4ZmU0NDcyYmU1ZmI1ZWZmMzVmNTA3MSA9ICQoJzxkaXYgaWQ9Imh0bWxfOTg0NDM5YWMzOGZlNDQ3MmJlNWZiNWVmZjM1ZjUwNzEiIHN0eWxlPSJ3aWR0aDogMTAwLjAlOyBoZWlnaHQ6IDEwMC4wJTsiPlNVTEE8L2Rpdj4nKVswXTsKICAgICAgICAgICAgICAgIHBvcHVwXzJmNjk2ZGI2NzliZTQ0ZjQ4M2I0MTcxYzI5NTkzZmVkLnNldENvbnRlbnQoaHRtbF85ODQ0MzlhYzM4ZmU0NDcyYmU1ZmI1ZWZmMzVmNTA3MSk7CiAgICAgICAgICAgIAoKICAgICAgICAgICAgbWFya2VyX2U3ZjQ0ZDRiNzFkODRmMjZhNjQ3MWYwYmFlNDQ1ZTczLmJpbmRQb3B1cChwb3B1cF8yZjY5NmRiNjc5YmU0NGY0ODNiNDE3MWMyOTU5M2ZlZCk7CgogICAgICAgICAgICAKICAgICAgICAKICAgIAoKICAgICAgICAgICAgdmFyIG1hcmtlcl9kZWQ5M2NjMzFiNzU0ZWRkYmY0ZWI4YzcyZDdhNDA2ZSA9IEwubWFya2VyKAogICAgICAgICAgICAgICAgWzQ1Ljk4MjY2NywtMTE0LjIxNjI1XSwKICAgICAgICAgICAgICAgIHsKICAgICAgICAgICAgICAgICAgICBpY29uOiBuZXcgTC5JY29uLkRlZmF1bHQoKQogICAgICAgICAgICAgICAgICAgIH0KICAgICAgICAgICAgICAgICkKICAgICAgICAgICAgICAgIC5hZGRUbyhtYXBfMTdjOWU5NTc4Mzg2NGEyMmFlMzUwYWMxNDQzZjE1ZjQpOwogICAgICAgICAgICAKICAgIAogICAgICAgICAgICB2YXIgcG9wdXBfMDFkOGUxM2Q4NTRlNDRmMzllZGJhYWFkOGQxZTdjYzEgPSBMLnBvcHVwKHttYXhXaWR0aDogJzMwMCd9KTsKCiAgICAgICAgICAgIAogICAgICAgICAgICAgICAgdmFyIGh0bWxfNDk1ODEyNDgyOTcxNGM5MWJlN2UyM2FmNWEwN2YwMWUgPSAkKCc8ZGl2IGlkPSJodG1sXzQ5NTgxMjQ4Mjk3MTRjOTFiZTdlMjNhZjVhMDdmMDFlIiBzdHlsZT0id2lkdGg6IDEwMC4wJTsgaGVpZ2h0OiAxMDAuMCU7Ij5CSVRURVJST09UIFFEIzEgLSBQT1JUPC9kaXY+JylbMF07CiAgICAgICAgICAgICAgICBwb3B1cF8wMWQ4ZTEzZDg1NGU0NGYzOWVkYmFhYWQ4ZDFlN2NjMS5zZXRDb250ZW50KGh0bWxfNDk1ODEyNDgyOTcxNGM5MWJlN2UyM2FmNWEwN2YwMWUpOwogICAgICAgICAgICAKCiAgICAgICAgICAgIG1hcmtlcl9kZWQ5M2NjMzFiNzU0ZWRkYmY0ZWI4YzcyZDdhNDA2ZS5iaW5kUG9wdXAocG9wdXBfMDFkOGUxM2Q4NTRlNDRmMzllZGJhYWFkOGQxZTdjYzEpOwoKICAgICAgICAgICAgCiAgICAgICAgCiAgICAKCiAgICAgICAgICAgIHZhciBtYXJrZXJfNGY4Mjg0NDUxNjMyNDJlNGJjMGFiNzU2NTc4YTNjYWEgPSBMLm1hcmtlcigKICAgICAgICAgICAgICAgIFs0Ni4wMzc4MjgsLTExNC4yNjI3MDhdLAogICAgICAgICAgICAgICAgewogICAgICAgICAgICAgICAgICAgIGljb246IG5ldyBMLkljb24uRGVmYXVsdCgpCiAgICAgICAgICAgICAgICAgICAgfQogICAgICAgICAgICAgICAgKQogICAgICAgICAgICAgICAgLmFkZFRvKG1hcF8xN2M5ZTk1NzgzODY0YTIyYWUzNTBhYzE0NDNmMTVmNCk7CiAgICAgICAgICAgIAogICAgCiAgICAgICAgICAgIHZhciBwb3B1cF9hZGE1Nzc2NTZkZjQ0MjNmOGEwMmQ1ZWY3Y2JiYWZmNiA9IEwucG9wdXAoe21heFdpZHRoOiAnMzAwJ30pOwoKICAgICAgICAgICAgCiAgICAgICAgICAgICAgICB2YXIgaHRtbF82OTg1YTViZTg5ZmY0NDY3ODAwNjQ2YTQ5ZmE0MTYzMSA9ICQoJzxkaXYgaWQ9Imh0bWxfNjk4NWE1YmU4OWZmNDQ2NzgwMDY0NmE0OWZhNDE2MzEiIHN0eWxlPSJ3aWR0aDogMTAwLjAlOyBoZWlnaHQ6IDEwMC4wJTsiPkxJVFRMRSBST0NLIENSRUVLPC9kaXY+JylbMF07CiAgICAgICAgICAgICAgICBwb3B1cF9hZGE1Nzc2NTZkZjQ0MjNmOGEwMmQ1ZWY3Y2JiYWZmNi5zZXRDb250ZW50KGh0bWxfNjk4NWE1YmU4OWZmNDQ2NzgwMDY0NmE0OWZhNDE2MzEpOwogICAgICAgICAgICAKCiAgICAgICAgICAgIG1hcmtlcl80ZjgyODQ0NTE2MzI0MmU0YmMwYWI3NTY1NzhhM2NhYS5iaW5kUG9wdXAocG9wdXBfYWRhNTc3NjU2ZGY0NDIzZjhhMDJkNWVmN2NiYmFmZjYpOwoKICAgICAgICAgICAgCiAgICAgICAgCiAgICAKCiAgICAgICAgICAgIHZhciBtYXJrZXJfMDQ4MjM3OWVjYzk5NGYxZjk3NDE2YzdmYzQwZTk3YTEgPSBMLm1hcmtlcigKICAgICAgICAgICAgICAgIFs0Ni4wMjU0OTIsLTExNC4wNTUyMDhdLAogICAgICAgICAgICAgICAgewogICAgICAgICAgICAgICAgICAgIGljb246IG5ldyBMLkljb24uRGVmYXVsdCgpCiAgICAgICAgICAgICAgICAgICAgfQogICAgICAgICAgICAgICAgKQogICAgICAgICAgICAgICAgLmFkZFRvKG1hcF8xN2M5ZTk1NzgzODY0YTIyYWUzNTBhYzE0NDNmMTVmNCk7CiAgICAgICAgICAgIAogICAgCiAgICAgICAgICAgIHZhciBwb3B1cF84ZDZlMTA2ZjQ1MGQ0YzcxOTUzY2FhOTE3MTA0ZWJjMyA9IEwucG9wdXAoe21heFdpZHRoOiAnMzAwJ30pOwoKICAgICAgICAgICAgCiAgICAgICAgICAgICAgICB2YXIgaHRtbF8wNjU5YmVkYTMyNDk0ZDkxODMyMGIyOWY1MmYzZjY5NCA9ICQoJzxkaXYgaWQ9Imh0bWxfMDY1OWJlZGEzMjQ5NGQ5MTgzMjBiMjlmNTJmM2Y2OTQiIHN0eWxlPSJ3aWR0aDogMTAwLjAlOyBoZWlnaHQ6IDEwMC4wJTsiPkRFRVIgTU9VTlRBSU48L2Rpdj4nKVswXTsKICAgICAgICAgICAgICAgIHBvcHVwXzhkNmUxMDZmNDUwZDRjNzE5NTNjYWE5MTcxMDRlYmMzLnNldENvbnRlbnQoaHRtbF8wNjU5YmVkYTMyNDk0ZDkxODMyMGIyOWY1MmYzZjY5NCk7CiAgICAgICAgICAgIAoKICAgICAgICAgICAgbWFya2VyXzA0ODIzNzllY2M5OTRmMWY5NzQxNmM3ZmM0MGU5N2ExLmJpbmRQb3B1cChwb3B1cF84ZDZlMTA2ZjQ1MGQ0YzcxOTUzY2FhOTE3MTA0ZWJjMyk7CgogICAgICAgICAgICAKICAgICAgICAKICAgIAoKICAgICAgICAgICAgdmFyIG1hcmtlcl9mYjc2MDlmNzM0NjY0OTBkOWE4MzgzMmE5MWYxM2VjOCA9IEwubWFya2VyKAogICAgICAgICAgICAgICAgWzQ2LjE5MzIxNywtMTEzLjkyMjU4MV0sCiAgICAgICAgICAgICAgICB7CiAgICAgICAgICAgICAgICAgICAgaWNvbjogbmV3IEwuSWNvbi5EZWZhdWx0KCkKICAgICAgICAgICAgICAgICAgICB9CiAgICAgICAgICAgICAgICApCiAgICAgICAgICAgICAgICAuYWRkVG8obWFwXzE3YzllOTU3ODM4NjRhMjJhZTM1MGFjMTQ0M2YxNWY0KTsKICAgICAgICAgICAgCiAgICAKICAgICAgICAgICAgdmFyIHBvcHVwXzc1ODBhYWY1NTJmNDQwNWY4NDRmOGVhZTQwMjVjNmEwID0gTC5wb3B1cCh7bWF4V2lkdGg6ICczMDAnfSk7CgogICAgICAgICAgICAKICAgICAgICAgICAgICAgIHZhciBodG1sX2YzYmQyYzIxYzA5ZjQ3MjBiMmY0MGUzMWJhYTAzNWE2ID0gJCgnPGRpdiBpZD0iaHRtbF9mM2JkMmMyMWMwOWY0NzIwYjJmNDBlMzFiYWEwMzVhNiIgc3R5bGU9IndpZHRoOiAxMDAuMCU7IGhlaWdodDogMTAwLjAlOyI+R0lSRCBQT0lOVDwvZGl2PicpWzBdOwogICAgICAgICAgICAgICAgcG9wdXBfNzU4MGFhZjU1MmY0NDA1Zjg0NGY4ZWFlNDAyNWM2YTAuc2V0Q29udGVudChodG1sX2YzYmQyYzIxYzA5ZjQ3MjBiMmY0MGUzMWJhYTAzNWE2KTsKICAgICAgICAgICAgCgogICAgICAgICAgICBtYXJrZXJfZmI3NjA5ZjczNDY2NDkwZDlhODM4MzJhOTFmMTNlYzguYmluZFBvcHVwKHBvcHVwXzc1ODBhYWY1NTJmNDQwNWY4NDRmOGVhZTQwMjVjNmEwKTsKCiAgICAgICAgICAgIAogICAgICAgIAogICAgCgogICAgICAgICAgICB2YXIgbWFya2VyXzk1OGIxN2QzYWZkOTQ0YzJiNmEwZDFiZjlhNTE1NDdjID0gTC5tYXJrZXIoCiAgICAgICAgICAgICAgICBbNDYuNDM5NTgxLC0xMTQuMjI2ODIyXSwKICAgICAgICAgICAgICAgIHsKICAgICAgICAgICAgICAgICAgICBpY29uOiBuZXcgTC5JY29uLkRlZmF1bHQoKQogICAgICAgICAgICAgICAgICAgIH0KICAgICAgICAgICAgICAgICkKICAgICAgICAgICAgICAgIC5hZGRUbyhtYXBfMTdjOWU5NTc4Mzg2NGEyMmFlMzUwYWMxNDQzZjE1ZjQpOwogICAgICAgICAgICAKICAgIAogICAgICAgICAgICB2YXIgcG9wdXBfMGE1NzU4ODg4Nzk3NGIyM2E5ZTcxZDI1ZDYyMTYxNmEgPSBMLnBvcHVwKHttYXhXaWR0aDogJzMwMCd9KTsKCiAgICAgICAgICAgIAogICAgICAgICAgICAgICAgdmFyIGh0bWxfZjhjNjE0YWMxNzI4NDJhZjlhYTljN2NkYjRmYjQ1ODQgPSAkKCc8ZGl2IGlkPSJodG1sX2Y4YzYxNGFjMTcyODQyYWY5YWE5YzdjZGI0ZmI0NTg0IiBzdHlsZT0id2lkdGg6IDEwMC4wJTsgaGVpZ2h0OiAxMDAuMCU7Ij5TTUlUSCBDUkVFSzwvZGl2PicpWzBdOwogICAgICAgICAgICAgICAgcG9wdXBfMGE1NzU4ODg4Nzk3NGIyM2E5ZTcxZDI1ZDYyMTYxNmEuc2V0Q29udGVudChodG1sX2Y4YzYxNGFjMTcyODQyYWY5YWE5YzdjZGI0ZmI0NTg0KTsKICAgICAgICAgICAgCgogICAgICAgICAgICBtYXJrZXJfOTU4YjE3ZDNhZmQ5NDRjMmI2YTBkMWJmOWE1MTU0N2MuYmluZFBvcHVwKHBvcHVwXzBhNTc1ODg4ODc5NzRiMjNhOWU3MWQyNWQ2MjE2MTZhKTsKCiAgICAgICAgICAgIAogICAgICAgIAogICAgCgogICAgICAgICAgICB2YXIgbWFya2VyXzY2OGU3Y2QwYjAyMDRiYWNiNzBmZjk0NjlhYTdkM2YwID0gTC5tYXJrZXIoCiAgICAgICAgICAgICAgICBbNDYuNDUxMTExLC0xMTMuODkwMjc4XSwKICAgICAgICAgICAgICAgIHsKICAgICAgICAgICAgICAgICAgICBpY29uOiBuZXcgTC5JY29uLkRlZmF1bHQoKQogICAgICAgICAgICAgICAgICAgIH0KICAgICAgICAgICAgICAgICkKICAgICAgICAgICAgICAgIC5hZGRUbyhtYXBfMTdjOWU5NTc4Mzg2NGEyMmFlMzUwYWMxNDQzZjE1ZjQpOwogICAgICAgICAgICAKICAgIAogICAgICAgICAgICB2YXIgcG9wdXBfYzY2MGE5MmQ1NTU4NDE2NWE0ZWRiODg2YWJjYmQyNjcgPSBMLnBvcHVwKHttYXhXaWR0aDogJzMwMCd9KTsKCiAgICAgICAgICAgIAogICAgICAgICAgICAgICAgdmFyIGh0bWxfMGVkNGI0YzlhOWI5NDJlOWJmYzYyZDBlMzVhNjQ4NWQgPSAkKCc8ZGl2IGlkPSJodG1sXzBlZDRiNGM5YTliOTQyZTliZmM2MmQwZTM1YTY0ODVkIiBzdHlsZT0id2lkdGg6IDEwMC4wJTsgaGVpZ2h0OiAxMDAuMCU7Ij5TQVdNSUxMIENSRUVLPC9kaXY+JylbMF07CiAgICAgICAgICAgICAgICBwb3B1cF9jNjYwYTkyZDU1NTg0MTY1YTRlZGI4ODZhYmNiZDI2Ny5zZXRDb250ZW50KGh0bWxfMGVkNGI0YzlhOWI5NDJlOWJmYzYyZDBlMzVhNjQ4NWQpOwogICAgICAgICAgICAKCiAgICAgICAgICAgIG1hcmtlcl82NjhlN2NkMGIwMjA0YmFjYjcwZmY5NDY5YWE3ZDNmMC5iaW5kUG9wdXAocG9wdXBfYzY2MGE5MmQ1NTU4NDE2NWE0ZWRiODg2YWJjYmQyNjcpOwoKICAgICAgICAgICAgCiAgICAgICAgCiAgICAKCiAgICAgICAgICAgIHZhciBtYXJrZXJfYjIwYjc1NzRjMDdiNGMyOWIzODEyZDFiNjhkN2Y5YmYgPSBMLm1hcmtlcigKICAgICAgICAgICAgICAgIFs0Ni41MTM1MTQsLTExNC4wOTA4ODFdLAogICAgICAgICAgICAgICAgewogICAgICAgICAgICAgICAgICAgIGljb246IG5ldyBMLkljb24uRGVmYXVsdCgpCiAgICAgICAgICAgICAgICAgICAgfQogICAgICAgICAgICAgICAgKQogICAgICAgICAgICAgICAgLmFkZFRvKG1hcF8xN2M5ZTk1NzgzODY0YTIyYWUzNTBhYzE0NDNmMTVmNCk7CiAgICAgICAgICAgIAogICAgCiAgICAgICAgICAgIHZhciBwb3B1cF9lMGU3NDllMGM2MDg0M2Y2OTZhZjQyODhmZDRiMGQzOSA9IEwucG9wdXAoe21heFdpZHRoOiAnMzAwJ30pOwoKICAgICAgICAgICAgCiAgICAgICAgICAgICAgICB2YXIgaHRtbF85MmU1N2E3M2UyMWU0NjRjOTZkZmQ0MWNmNzllMGIwZSA9ICQoJzxkaXYgaWQ9Imh0bWxfOTJlNTdhNzNlMjFlNDY0Yzk2ZGZkNDFjZjc5ZTBiMGUiIHN0eWxlPSJ3aWR0aDogMTAwLjAlOyBoZWlnaHQ6IDEwMC4wJTsiPlNURVZJPC9kaXY+JylbMF07CiAgICAgICAgICAgICAgICBwb3B1cF9lMGU3NDllMGM2MDg0M2Y2OTZhZjQyODhmZDRiMGQzOS5zZXRDb250ZW50KGh0bWxfOTJlNTdhNzNlMjFlNDY0Yzk2ZGZkNDFjZjc5ZTBiMGUpOwogICAgICAgICAgICAKCiAgICAgICAgICAgIG1hcmtlcl9iMjBiNzU3NGMwN2I0YzI5YjM4MTJkMWI2OGQ3ZjliZi5iaW5kUG9wdXAocG9wdXBfZTBlNzQ5ZTBjNjA4NDNmNjk2YWY0Mjg4ZmQ0YjBkMzkpOwoKICAgICAgICAgICAgCiAgICAgICAgCiAgICAKCiAgICAgICAgICAgIHZhciBtYXJrZXJfOTZjMGI5NjNmZDNiNGEwZWJkNzg1MmI3YTZkMWI2YTkgPSBMLm1hcmtlcigKICAgICAgICAgICAgICAgIFs0Ni43MTg1MzEsLTExNC4xNTczMTFdLAogICAgICAgICAgICAgICAgewogICAgICAgICAgICAgICAgICAgIGljb246IG5ldyBMLkljb24uRGVmYXVsdCgpCiAgICAgICAgICAgICAgICAgICAgfQogICAgICAgICAgICAgICAgKQogICAgICAgICAgICAgICAgLmFkZFRvKG1hcF8xN2M5ZTk1NzgzODY0YTIyYWUzNTBhYzE0NDNmMTVmNCk7CiAgICAgICAgICAgIAogICAgCiAgICAgICAgICAgIHZhciBwb3B1cF9mYWVlNjc5YTVjZGM0ODhjYTZjZDU0ZWZhMjYyMDdlMCA9IEwucG9wdXAoe21heFdpZHRoOiAnMzAwJ30pOwoKICAgICAgICAgICAgCiAgICAgICAgICAgICAgICB2YXIgaHRtbF9jOTg2YmY5NjM5Mjg0ZmNmODJhNTYxOTkzNDYxMGFhMiA9ICQoJzxkaXYgaWQ9Imh0bWxfYzk4NmJmOTYzOTI4NGZjZjgyYTU2MTk5MzQ2MTBhYTIiIHN0eWxlPSJ3aWR0aDogMTAwLjAlOyBoZWlnaHQ6IDEwMC4wJTsiPkZJUkUgRUZGRUNUUyBQT1JUQUJMRSAjMjwvZGl2PicpWzBdOwogICAgICAgICAgICAgICAgcG9wdXBfZmFlZTY3OWE1Y2RjNDg4Y2E2Y2Q1NGVmYTI2MjA3ZTAuc2V0Q29udGVudChodG1sX2M5ODZiZjk2MzkyODRmY2Y4MmE1NjE5OTM0NjEwYWEyKTsKICAgICAgICAgICAgCgogICAgICAgICAgICBtYXJrZXJfOTZjMGI5NjNmZDNiNGEwZWJkNzg1MmI3YTZkMWI2YTkuYmluZFBvcHVwKHBvcHVwX2ZhZWU2NzlhNWNkYzQ4OGNhNmNkNTRlZmEyNjIwN2UwKTsKCiAgICAgICAgICAgIAogICAgICAgIAogICAgCgogICAgICAgICAgICB2YXIgbWFya2VyX2NmNGZlMWYwMGNkOTQ4MTQ4YzJkMjBmMzIzYWRlMDUzID0gTC5tYXJrZXIoCiAgICAgICAgICAgICAgICBbNDYuODIwNzI1LC0xMTQuMTAwODg5XSwKICAgICAgICAgICAgICAgIHsKICAgICAgICAgICAgICAgICAgICBpY29uOiBuZXcgTC5JY29uLkRlZmF1bHQoKQogICAgICAgICAgICAgICAgICAgIH0KICAgICAgICAgICAgICAgICkKICAgICAgICAgICAgICAgIC5hZGRUbyhtYXBfMTdjOWU5NTc4Mzg2NGEyMmFlMzUwYWMxNDQzZjE1ZjQpOwogICAgICAgICAgICAKICAgIAogICAgICAgICAgICB2YXIgcG9wdXBfNDViNTQ5ODM2NTQwNDVmMDhiOTlhYzlhZWIzY2ZhOGMgPSBMLnBvcHVwKHttYXhXaWR0aDogJzMwMCd9KTsKCiAgICAgICAgICAgIAogICAgICAgICAgICAgICAgdmFyIGh0bWxfZmE0ZmRmYWM0ZDU5NGNjNTk0MmYzOWE2NGVjZWFmZWEgPSAkKCc8ZGl2IGlkPSJodG1sX2ZhNGZkZmFjNGQ1OTRjYzU5NDJmMzlhNjRlY2VhZmVhIiBzdHlsZT0id2lkdGg6IDEwMC4wJTsgaGVpZ2h0OiAxMDAuMCU7Ij5CTFVFIE1UTjwvZGl2PicpWzBdOwogICAgICAgICAgICAgICAgcG9wdXBfNDViNTQ5ODM2NTQwNDVmMDhiOTlhYzlhZWIzY2ZhOGMuc2V0Q29udGVudChodG1sX2ZhNGZkZmFjNGQ1OTRjYzU5NDJmMzlhNjRlY2VhZmVhKTsKICAgICAgICAgICAgCgogICAgICAgICAgICBtYXJrZXJfY2Y0ZmUxZjAwY2Q5NDgxNDhjMmQyMGYzMjNhZGUwNTMuYmluZFBvcHVwKHBvcHVwXzQ1YjU0OTgzNjU0MDQ1ZjA4Yjk5YWM5YWViM2NmYThjKTsKCiAgICAgICAgICAgIAogICAgICAgIAogICAgCgogICAgICAgICAgICB2YXIgbWFya2VyXzJjZjM0NzQyNDliNzQxMzM4NzcxZmQ3MTU0NTUyZGYwID0gTC5tYXJrZXIoCiAgICAgICAgICAgICAgICBbNDYuOTIwODMsLTExNC4wOTI1XSwKICAgICAgICAgICAgICAgIHsKICAgICAgICAgICAgICAgICAgICBpY29uOiBuZXcgTC5JY29uLkRlZmF1bHQoKQogICAgICAgICAgICAgICAgICAgIH0KICAgICAgICAgICAgICAgICkKICAgICAgICAgICAgICAgIC5hZGRUbyhtYXBfMTdjOWU5NTc4Mzg2NGEyMmFlMzUwYWMxNDQzZjE1ZjQpOwogICAgICAgICAgICAKICAgIAogICAgICAgICAgICB2YXIgcG9wdXBfMDk5N2MwZWY5ZDBmNDA4ZWI5MWQyNGQzZDdlOTAzZGQgPSBMLnBvcHVwKHttYXhXaWR0aDogJzMwMCd9KTsKCiAgICAgICAgICAgIAogICAgICAgICAgICAgICAgdmFyIGh0bWxfNTUzNmQ1MWRiODEwNGRlMGExNWZjNjEyOGFhODZiODUgPSAkKCc8ZGl2IGlkPSJodG1sXzU1MzZkNTFkYjgxMDRkZTBhMTVmYzYxMjhhYTg2Yjg1IiBzdHlsZT0id2lkdGg6IDEwMC4wJTsgaGVpZ2h0OiAxMDAuMCU7Ij5NaXNzb3VsYSwgTWlzc291bGEgSW50ZXJuYXRpb25hbCBBaXJwb3J0PC9kaXY+JylbMF07CiAgICAgICAgICAgICAgICBwb3B1cF8wOTk3YzBlZjlkMGY0MDhlYjkxZDI0ZDNkN2U5MDNkZC5zZXRDb250ZW50KGh0bWxfNTUzNmQ1MWRiODEwNGRlMGExNWZjNjEyOGFhODZiODUpOwogICAgICAgICAgICAKCiAgICAgICAgICAgIG1hcmtlcl8yY2YzNDc0MjQ5Yjc0MTMzODc3MWZkNzE1NDU1MmRmMC5iaW5kUG9wdXAocG9wdXBfMDk5N2MwZWY5ZDBmNDA4ZWI5MWQyNGQzZDdlOTAzZGQpOwoKICAgICAgICAgICAgCiAgICAgICAgCjwvc2NyaXB0Pg==\" style=\"position:absolute;width:100%;height:100%;left:0;top:0;border:none !important;\" allowfullscreen webkitallowfullscreen mozallowfullscreen></iframe></div></div>"
      ],
      "text/plain": [
       "<folium.folium.Map at 0x117aaef60>"
      ]
     },
     "execution_count": 102,
     "metadata": {},
     "output_type": "execute_result"
    }
   ],
   "source": [
    "import folium\n",
    "\n",
    "station_map = folium.Map(\n",
    "    width=900, height=900,\n",
    "    location=[45.874031, -114.006500],\n",
    "    zoom_start=8,\n",
    "    tiles='Stamen Terrain'\n",
    ")\n",
    "\n",
    "for station in station_metadata:\n",
    "    popup_text = station['NAME']\n",
    "    marker = folium.Marker(location=[float(station['LATITUDE']), float(station['LONGITUDE'])], popup=popup_text)\n",
    "    marker.add_to(station_map)\n",
    "\n",
    "station_map"
   ]
  },
  {
   "cell_type": "markdown",
   "metadata": {},
   "source": [
    "### Convert to DataFrame"
   ]
  },
  {
   "cell_type": "code",
   "execution_count": 103,
   "metadata": {
    "collapsed": true
   },
   "outputs": [],
   "source": [
    "df = pd.DataFrame.from_dict(station_metadata)"
   ]
  },
  {
   "cell_type": "code",
   "execution_count": 104,
   "metadata": {},
   "outputs": [
    {
     "name": "stdout",
     "output_type": "stream",
     "text": [
      "<class 'pandas.core.frame.DataFrame'>\n",
      "RangeIndex: 12 entries, 0 to 11\n",
      "Data columns (total 22 columns):\n",
      "COUNTRY             12 non-null object\n",
      "COUNTY              12 non-null object\n",
      "CWA                 12 non-null object\n",
      "ELEVATION           12 non-null object\n",
      "ELEV_DEM            12 non-null object\n",
      "GACC                12 non-null object\n",
      "ID                  12 non-null object\n",
      "LATITUDE            12 non-null object\n",
      "LONGITUDE           12 non-null object\n",
      "MNET_ID             12 non-null object\n",
      "NAME                12 non-null object\n",
      "NWSFIREZONE         12 non-null object\n",
      "NWSZONE             12 non-null object\n",
      "PERIOD_OF_RECORD    12 non-null object\n",
      "RESTRICTED          12 non-null bool\n",
      "SGID                12 non-null object\n",
      "SHORTNAME           12 non-null object\n",
      "STATE               12 non-null object\n",
      "STATUS              12 non-null object\n",
      "STID                12 non-null object\n",
      "TIMEZONE            12 non-null object\n",
      "WIMS_ID             8 non-null object\n",
      "dtypes: bool(1), object(21)\n",
      "memory usage: 2.1+ KB\n"
     ]
    }
   ],
   "source": [
    "df.info()"
   ]
  },
  {
   "cell_type": "code",
   "execution_count": 108,
   "metadata": {},
   "outputs": [
    {
     "data": {
      "text/html": [
       "<div>\n",
       "<style>\n",
       "    .dataframe thead tr:only-child th {\n",
       "        text-align: right;\n",
       "    }\n",
       "\n",
       "    .dataframe thead th {\n",
       "        text-align: left;\n",
       "    }\n",
       "\n",
       "    .dataframe tbody tr th {\n",
       "        vertical-align: top;\n",
       "    }\n",
       "</style>\n",
       "<table border=\"1\" class=\"dataframe\">\n",
       "  <thead>\n",
       "    <tr style=\"text-align: right;\">\n",
       "      <th></th>\n",
       "      <th>COUNTRY</th>\n",
       "      <th>COUNTY</th>\n",
       "      <th>CWA</th>\n",
       "      <th>ELEVATION</th>\n",
       "      <th>ELEV_DEM</th>\n",
       "      <th>GACC</th>\n",
       "      <th>ID</th>\n",
       "      <th>LATITUDE</th>\n",
       "      <th>LONGITUDE</th>\n",
       "      <th>MNET_ID</th>\n",
       "      <th>...</th>\n",
       "      <th>NWSZONE</th>\n",
       "      <th>PERIOD_OF_RECORD</th>\n",
       "      <th>RESTRICTED</th>\n",
       "      <th>SGID</th>\n",
       "      <th>SHORTNAME</th>\n",
       "      <th>STATE</th>\n",
       "      <th>STATUS</th>\n",
       "      <th>STID</th>\n",
       "      <th>TIMEZONE</th>\n",
       "      <th>WIMS_ID</th>\n",
       "    </tr>\n",
       "  </thead>\n",
       "  <tbody>\n",
       "    <tr>\n",
       "      <th>7</th>\n",
       "      <td>US</td>\n",
       "      <td>Ravalli</td>\n",
       "      <td>MSO</td>\n",
       "      <td>5540</td>\n",
       "      <td>5416.7</td>\n",
       "      <td>NRCC</td>\n",
       "      <td>3580</td>\n",
       "      <td>46.451111</td>\n",
       "      <td>-113.890278</td>\n",
       "      <td>2</td>\n",
       "      <td>...</td>\n",
       "      <td>MT006</td>\n",
       "      <td>{'start': '2001-08-14T00:00:00Z', 'end': '2018...</td>\n",
       "      <td>False</td>\n",
       "      <td>NR06</td>\n",
       "      <td>RAWS</td>\n",
       "      <td>MT</td>\n",
       "      <td>ACTIVE</td>\n",
       "      <td>TR564</td>\n",
       "      <td>America/Denver</td>\n",
       "      <td>None</td>\n",
       "    </tr>\n",
       "    <tr>\n",
       "      <th>8</th>\n",
       "      <td>US</td>\n",
       "      <td>Ravalli</td>\n",
       "      <td>MSO</td>\n",
       "      <td>3365</td>\n",
       "      <td>3320.2</td>\n",
       "      <td>NRCC</td>\n",
       "      <td>2866</td>\n",
       "      <td>46.513514</td>\n",
       "      <td>-114.090881</td>\n",
       "      <td>2</td>\n",
       "      <td>...</td>\n",
       "      <td>MT005</td>\n",
       "      <td>{'start': '2001-04-03T00:00:00Z', 'end': '2018...</td>\n",
       "      <td>False</td>\n",
       "      <td>NR06</td>\n",
       "      <td>RAWS</td>\n",
       "      <td>MT</td>\n",
       "      <td>ACTIVE</td>\n",
       "      <td>STVM8</td>\n",
       "      <td>America/Denver</td>\n",
       "      <td>242904</td>\n",
       "    </tr>\n",
       "    <tr>\n",
       "      <th>9</th>\n",
       "      <td>US</td>\n",
       "      <td>Missoula</td>\n",
       "      <td>MSO</td>\n",
       "      <td>3966</td>\n",
       "      <td>5141.1</td>\n",
       "      <td>NRCC</td>\n",
       "      <td>21239</td>\n",
       "      <td>46.718531</td>\n",
       "      <td>-114.157311</td>\n",
       "      <td>2</td>\n",
       "      <td>...</td>\n",
       "      <td>MT006</td>\n",
       "      <td>{'start': '2007-05-17T00:00:00Z', 'end': '2018...</td>\n",
       "      <td>False</td>\n",
       "      <td>NR04</td>\n",
       "      <td>RAWS</td>\n",
       "      <td>MT</td>\n",
       "      <td>ACTIVE</td>\n",
       "      <td>MOMM8</td>\n",
       "      <td>America/Denver</td>\n",
       "      <td>None</td>\n",
       "    </tr>\n",
       "    <tr>\n",
       "      <th>10</th>\n",
       "      <td>US</td>\n",
       "      <td>Missoula</td>\n",
       "      <td>MSO</td>\n",
       "      <td>3412</td>\n",
       "      <td>3412.1</td>\n",
       "      <td>NRCC</td>\n",
       "      <td>2862</td>\n",
       "      <td>46.820725</td>\n",
       "      <td>-114.100889</td>\n",
       "      <td>2</td>\n",
       "      <td>...</td>\n",
       "      <td>MT005</td>\n",
       "      <td>{'start': '2001-04-03T00:00:00Z', 'end': '2018...</td>\n",
       "      <td>False</td>\n",
       "      <td>NR04</td>\n",
       "      <td>RAWS</td>\n",
       "      <td>MT</td>\n",
       "      <td>ACTIVE</td>\n",
       "      <td>TS934</td>\n",
       "      <td>America/Denver</td>\n",
       "      <td>241513</td>\n",
       "    </tr>\n",
       "    <tr>\n",
       "      <th>11</th>\n",
       "      <td>US</td>\n",
       "      <td>Missoula</td>\n",
       "      <td>MSO</td>\n",
       "      <td>3199</td>\n",
       "      <td>3192.3</td>\n",
       "      <td>NRCC</td>\n",
       "      <td>277</td>\n",
       "      <td>46.92083</td>\n",
       "      <td>-114.09250</td>\n",
       "      <td>1</td>\n",
       "      <td>...</td>\n",
       "      <td>MT005</td>\n",
       "      <td>{'start': '1997-04-12T00:00:00Z', 'end': '2018...</td>\n",
       "      <td>False</td>\n",
       "      <td>NR04</td>\n",
       "      <td>NWS/FAA</td>\n",
       "      <td>MT</td>\n",
       "      <td>ACTIVE</td>\n",
       "      <td>KMSO</td>\n",
       "      <td>America/Denver</td>\n",
       "      <td>None</td>\n",
       "    </tr>\n",
       "  </tbody>\n",
       "</table>\n",
       "<p>5 rows × 22 columns</p>\n",
       "</div>"
      ],
      "text/plain": [
       "   COUNTRY    COUNTY  CWA ELEVATION ELEV_DEM  GACC     ID   LATITUDE  \\\n",
       "7       US   Ravalli  MSO      5540   5416.7  NRCC   3580  46.451111   \n",
       "8       US   Ravalli  MSO      3365   3320.2  NRCC   2866  46.513514   \n",
       "9       US  Missoula  MSO      3966   5141.1  NRCC  21239  46.718531   \n",
       "10      US  Missoula  MSO      3412   3412.1  NRCC   2862  46.820725   \n",
       "11      US  Missoula  MSO      3199   3192.3  NRCC    277   46.92083   \n",
       "\n",
       "      LONGITUDE MNET_ID   ...   NWSZONE  \\\n",
       "7   -113.890278       2   ...     MT006   \n",
       "8   -114.090881       2   ...     MT005   \n",
       "9   -114.157311       2   ...     MT006   \n",
       "10  -114.100889       2   ...     MT005   \n",
       "11   -114.09250       1   ...     MT005   \n",
       "\n",
       "                                     PERIOD_OF_RECORD RESTRICTED  SGID  \\\n",
       "7   {'start': '2001-08-14T00:00:00Z', 'end': '2018...      False  NR06   \n",
       "8   {'start': '2001-04-03T00:00:00Z', 'end': '2018...      False  NR06   \n",
       "9   {'start': '2007-05-17T00:00:00Z', 'end': '2018...      False  NR04   \n",
       "10  {'start': '2001-04-03T00:00:00Z', 'end': '2018...      False  NR04   \n",
       "11  {'start': '1997-04-12T00:00:00Z', 'end': '2018...      False  NR04   \n",
       "\n",
       "    SHORTNAME STATE  STATUS   STID        TIMEZONE WIMS_ID  \n",
       "7        RAWS    MT  ACTIVE  TR564  America/Denver    None  \n",
       "8        RAWS    MT  ACTIVE  STVM8  America/Denver  242904  \n",
       "9        RAWS    MT  ACTIVE  MOMM8  America/Denver    None  \n",
       "10       RAWS    MT  ACTIVE  TS934  America/Denver  241513  \n",
       "11    NWS/FAA    MT  ACTIVE   KMSO  America/Denver    None  \n",
       "\n",
       "[5 rows x 22 columns]"
      ]
     },
     "execution_count": 108,
     "metadata": {},
     "output_type": "execute_result"
    }
   ],
   "source": [
    "df.tail()"
   ]
  },
  {
   "cell_type": "markdown",
   "metadata": {},
   "source": [
    "### Save station metadata to file"
   ]
  },
  {
   "cell_type": "code",
   "execution_count": 105,
   "metadata": {
    "collapsed": true
   },
   "outputs": [],
   "source": [
    "filename = '../output/mesoweb-station_meta-180919.csv'\n",
    "df.to_csv(filename)"
   ]
  }
 ],
 "metadata": {
  "kernelspec": {
   "display_name": "Python 3",
   "language": "python",
   "name": "python3"
  },
  "language_info": {
   "codemirror_mode": {
    "name": "ipython",
    "version": 3
   },
   "file_extension": ".py",
   "mimetype": "text/x-python",
   "name": "python",
   "nbconvert_exporter": "python",
   "pygments_lexer": "ipython3",
   "version": "3.6.3"
  }
 },
 "nbformat": 4,
 "nbformat_minor": 2
}
