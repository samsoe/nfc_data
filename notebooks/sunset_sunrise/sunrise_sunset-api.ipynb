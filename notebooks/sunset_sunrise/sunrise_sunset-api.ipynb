{
 "cells": [
  {
   "cell_type": "markdown",
   "metadata": {},
   "source": [
<<<<<<< HEAD
=======
    "# The goal is to gather a table of sunset and sunrise times from an array of locations\n",
    "\n",
>>>>>>> 7a76d33651d0b517ad60b5a3acf91eb8a8299ff5
    "https://sunrise-sunset.org/api"
   ]
  },
  {
   "cell_type": "code",
<<<<<<< HEAD
   "execution_count": 2,
=======
   "execution_count": 114,
   "metadata": {},
   "outputs": [],
   "source": [
    "from urllib.request import urlopen\n",
    "from datetime import timedelta, date, datetime\n",
    "from dateutil import tz\n",
    "import json\n",
    "import pandas as pd"
   ]
  },
  {
   "cell_type": "code",
   "execution_count": 109,
>>>>>>> 7a76d33651d0b517ad60b5a3acf91eb8a8299ff5
   "metadata": {
    "collapsed": true
   },
   "outputs": [],
   "source": [
<<<<<<< HEAD
    "from urllib.request import urlopen\n",
    "import json"
=======
    "# date range selection\n",
    "start_date = date(2017, 7, 1)\n",
    "end_date = date(2017, 11, 1)\n",
    "selected_date = '2017-07-18'"
   ]
  },
  {
   "cell_type": "code",
   "execution_count": 118,
   "metadata": {
    "collapsed": true
   },
   "outputs": [],
   "source": [
    "def daterange(start_date, end_date):\n",
    "    for n in range(int ((end_date - start_date).days)):\n",
    "        yield start_date + timedelta(n)"
>>>>>>> 7a76d33651d0b517ad60b5a3acf91eb8a8299ff5
   ]
  },
  {
   "cell_type": "code",
<<<<<<< HEAD
   "execution_count": 3,
=======
   "execution_count": 110,
>>>>>>> 7a76d33651d0b517ad60b5a3acf91eb8a8299ff5
   "metadata": {
    "collapsed": true
   },
   "outputs": [],
   "source": [
<<<<<<< HEAD
    "url = 'https://api.sunrise-sunset.org/json?lat=36.7201600&lng=-4.4203400'"
=======
    "# location selection\n",
    "location = 'missoula'\n",
    "lat = '46.872'\n",
    "lon = '113.9940'"
>>>>>>> 7a76d33651d0b517ad60b5a3acf91eb8a8299ff5
   ]
  },
  {
   "cell_type": "code",
<<<<<<< HEAD
   "execution_count": null,
=======
   "execution_count": 102,
   "metadata": {},
   "outputs": [],
   "source": [
    "# url queries the sunrise-sunset.org api\n",
    "\n",
    "test_url = 'https://api.sunrise-sunset.org/json?lat=' + lat + '&' + lon + '&date=' + selected_date"
   ]
  },
  {
   "cell_type": "code",
   "execution_count": 103,
>>>>>>> 7a76d33651d0b517ad60b5a3acf91eb8a8299ff5
   "metadata": {
    "collapsed": true
   },
   "outputs": [],
<<<<<<< HEAD
   "source": []
=======
   "source": [
    "def api_call(url):\n",
    "    f = urlopen(url)\n",
    "    json_string = f.read() \n",
    "    parsed_json = json.loads(json_string)\n",
    "    return parsed_json"
   ]
  },
  {
   "cell_type": "code",
   "execution_count": 104,
   "metadata": {},
   "outputs": [],
   "source": [
    "results = api_call(url)"
   ]
  },
  {
   "cell_type": "code",
   "execution_count": 105,
   "metadata": {
    "collapsed": true
   },
   "outputs": [],
   "source": [
    "# Add date and location to dictionary\n",
    "\n",
    "results['results']['date'] = selected_date\n",
    "results['results']['location'] = location\n",
    "results['results']['lat'] = lat\n",
    "results['results']['lon'] = lon"
   ]
  },
  {
   "cell_type": "code",
   "execution_count": 106,
   "metadata": {
    "collapsed": true
   },
   "outputs": [
    {
     "name": "stdout",
     "output_type": "stream",
     "text": [
      "* All times UTC *\n",
      "\n",
      "sunrise: 8:48:14 PM\n",
      "sunset: 12:12:23 PM\n",
      "solar_noon: 4:30:18 AM\n",
      "day_length: 15:24:09\n",
      "civil_twilight_begin: 8:10:55 PM\n",
      "civil_twilight_end: 12:49:41 PM\n",
      "nautical_twilight_begin: 7:21:40 PM\n",
      "nautical_twilight_end: 1:38:56 PM\n",
      "astronomical_twilight_begin: 6:18:01 PM\n",
      "astronomical_twilight_end: 2:42:35 PM\n",
      "date: 2017-07-18\n",
      "location: missoula\n",
      "lat: 46.872\n",
      "lon: 113.9940\n"
     ]
    }
   ],
   "source": [
    "print('* All times UTC *\\n')\n",
    "\n",
    "for key, value in results['results'].items():\n",
    "    print(key + \": \" + value)"
   ]
  },
  {
   "cell_type": "code",
   "execution_count": 116,
   "metadata": {
    "collapsed": true
   },
   "outputs": [
    {
     "data": {
      "text/plain": [
       "['KMTCORVA9',\n",
       " 'KMTCORVA10',\n",
       " 'KMTCORVA12',\n",
       " 'KMTCORVA15',\n",
       " 'KMTFLORE4',\n",
       " 'KMTFLORE5',\n",
       " 'KMTFLORE7',\n",
       " 'KMTFLORE2',\n",
       " 'KMTFLORE17',\n",
       " 'KMTFLORE18',\n",
       " 'KMTFLORE13',\n",
       " 'KMTFLORE11',\n",
       " 'KMTFLORE3',\n",
       " 'KMTHAMIL12',\n",
       " 'MK6S5',\n",
       " 'M6S59',\n",
       " 'KMTHAMIL16',\n",
       " 'KMTHAMIL1',\n",
       " 'KMTHAMIL13',\n",
       " 'KMTHAMIL7',\n",
       " 'KMTHAMIL4',\n",
       " 'KMTLEISU2',\n",
       " 'KMTLOLO3',\n",
       " 'KMTLOLO7',\n",
       " 'KMTMISSO44',\n",
       " 'KMTMISSO50',\n",
       " 'KMTMISSO59',\n",
       " 'KMTMISSO41',\n",
       " 'KMTMISSO60',\n",
       " 'KMTMISSO15',\n",
       " 'KMTSTEVE12',\n",
       " 'KMTSTEVE13',\n",
       " 'KMTSTEVE8',\n",
       " 'KMTVICTO9']"
      ]
     },
     "execution_count": 116,
     "metadata": {},
     "output_type": "execute_result"
    }
   ],
   "source": [
    "# update station_id-list\n",
    "filename = \"../../output/station_id-list.csv\"\n",
    "station_list = open(filename).read().split('\\n')\n",
    "station_list.remove('')"
   ]
>>>>>>> 7a76d33651d0b517ad60b5a3acf91eb8a8299ff5
  }
 ],
 "metadata": {
  "kernelspec": {
   "display_name": "Python 3",
   "language": "python",
   "name": "python3"
  },
  "language_info": {
   "codemirror_mode": {
    "name": "ipython",
    "version": 3
   },
   "file_extension": ".py",
   "mimetype": "text/x-python",
   "name": "python",
   "nbconvert_exporter": "python",
   "pygments_lexer": "ipython3",
   "version": "3.6.3"
  }
 },
 "nbformat": 4,
 "nbformat_minor": 2
}
