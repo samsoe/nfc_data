{
 "cells": [
  {
   "cell_type": "markdown",
   "metadata": {},
   "source": [
    "## Goal\n",
    "* Gather sunset and sunrise times from an array of dates and locations and store results\n",
    "\n",
    "https://sunrise-sunset.org/api"
   ]
  },
  {
   "cell_type": "code",
   "execution_count": 2,
   "metadata": {
    "collapsed": true
   },
   "outputs": [],
   "source": [
    "# Import tools\n",
    "from urllib.request import urlopen\n",
    "from datetime import timedelta, date, datetime\n",
    "from dateutil import tz\n",
    "import json\n",
    "import pandas as pd\n",
    "import time\n",
    "import os.path"
   ]
  },
  {
   "cell_type": "markdown",
   "metadata": {},
   "source": [
    "## Build Date Array"
   ]
  },
  {
   "cell_type": "code",
   "execution_count": 2,
   "metadata": {},
   "outputs": [],
   "source": [
    "def daterange(start_date, end_date):\n",
    "    for n in range(int ((end_date - start_date).days)):\n",
    "        yield start_date + timedelta(n)\n",
    "\n",
    "# Initialize date range start at 6/30 to compensate for UTC\n",
    "start_date = date(2018, 6, 30)\n",
    "end_date = date(2017, 11, 1)\n",
    "\n",
    "dates = []\n",
    "\n",
    "for single_date in daterange(start_date, end_date):\n",
    "        dates.append(single_date.strftime(\"%Y-%m-%d\"))"
   ]
  },
  {
   "cell_type": "code",
   "execution_count": 3,
   "metadata": {},
   "outputs": [
    {
     "name": "stdout",
     "output_type": "stream",
     "text": [
      "[]\n",
      "[]\n"
     ]
    }
   ],
   "source": [
    "print(dates[:4])\n",
    "print(dates[-4:])"
   ]
  },
  {
   "cell_type": "markdown",
   "metadata": {},
   "source": [
    "## Load Location Dictionary"
   ]
  },
  {
   "cell_type": "code",
   "execution_count": 3,
   "metadata": {},
   "outputs": [],
   "source": [
    "# Load station location csv into a DataFrame\n",
    "stations = pd.read_csv('../output/mesoweb-station_meta-180919.csv')"
   ]
  },
  {
   "cell_type": "code",
   "execution_count": 5,
   "metadata": {
    "scrolled": true
   },
   "outputs": [
    {
     "data": {
      "text/html": [
       "<div>\n",
       "<style>\n",
       "    .dataframe thead tr:only-child th {\n",
       "        text-align: right;\n",
       "    }\n",
       "\n",
       "    .dataframe thead th {\n",
       "        text-align: left;\n",
       "    }\n",
       "\n",
       "    .dataframe tbody tr th {\n",
       "        vertical-align: top;\n",
       "    }\n",
       "</style>\n",
       "<table border=\"1\" class=\"dataframe\">\n",
       "  <thead>\n",
       "    <tr style=\"text-align: right;\">\n",
       "      <th></th>\n",
       "      <th>Unnamed: 0</th>\n",
       "      <th>COUNTRY</th>\n",
       "      <th>COUNTY</th>\n",
       "      <th>CWA</th>\n",
       "      <th>ELEVATION</th>\n",
       "      <th>ELEV_DEM</th>\n",
       "      <th>GACC</th>\n",
       "      <th>ID</th>\n",
       "      <th>LATITUDE</th>\n",
       "      <th>LONGITUDE</th>\n",
       "      <th>...</th>\n",
       "      <th>NWSZONE</th>\n",
       "      <th>PERIOD_OF_RECORD</th>\n",
       "      <th>RESTRICTED</th>\n",
       "      <th>SGID</th>\n",
       "      <th>SHORTNAME</th>\n",
       "      <th>STATE</th>\n",
       "      <th>STATUS</th>\n",
       "      <th>STID</th>\n",
       "      <th>TIMEZONE</th>\n",
       "      <th>WIMS_ID</th>\n",
       "    </tr>\n",
       "  </thead>\n",
       "  <tbody>\n",
       "    <tr>\n",
       "      <th>0</th>\n",
       "      <td>0</td>\n",
       "      <td>US</td>\n",
       "      <td>Ravalli</td>\n",
       "      <td>MSO</td>\n",
       "      <td>4420</td>\n",
       "      <td>4432.4</td>\n",
       "      <td>NRCC</td>\n",
       "      <td>2917</td>\n",
       "      <td>45.815556</td>\n",
       "      <td>-114.258333</td>\n",
       "      <td>...</td>\n",
       "      <td>MT006</td>\n",
       "      <td>{'start': '2001-05-10T00:00:00Z', 'end': '2018...</td>\n",
       "      <td>False</td>\n",
       "      <td>NR06</td>\n",
       "      <td>RAWS</td>\n",
       "      <td>MT</td>\n",
       "      <td>ACTIVE</td>\n",
       "      <td>WSFM8</td>\n",
       "      <td>America/Denver</td>\n",
       "      <td>242907.0</td>\n",
       "    </tr>\n",
       "    <tr>\n",
       "      <th>1</th>\n",
       "      <td>1</td>\n",
       "      <td>US</td>\n",
       "      <td>Ravalli</td>\n",
       "      <td>MSO</td>\n",
       "      <td>4570</td>\n",
       "      <td>4767.1</td>\n",
       "      <td>NRCC</td>\n",
       "      <td>13522</td>\n",
       "      <td>45.820728</td>\n",
       "      <td>-113.953831</td>\n",
       "      <td>...</td>\n",
       "      <td>MT006</td>\n",
       "      <td>{'start': '2005-03-25T00:00:00Z', 'end': '2018...</td>\n",
       "      <td>False</td>\n",
       "      <td>NR06</td>\n",
       "      <td>RAWS</td>\n",
       "      <td>MT</td>\n",
       "      <td>ACTIVE</td>\n",
       "      <td>SUAM8</td>\n",
       "      <td>America/Denver</td>\n",
       "      <td>242905.0</td>\n",
       "    </tr>\n",
       "    <tr>\n",
       "      <th>2</th>\n",
       "      <td>2</td>\n",
       "      <td>US</td>\n",
       "      <td>Ravalli</td>\n",
       "      <td>MSO</td>\n",
       "      <td>4500</td>\n",
       "      <td>4540.7</td>\n",
       "      <td>NRCC</td>\n",
       "      <td>3407</td>\n",
       "      <td>45.982667</td>\n",
       "      <td>-114.216250</td>\n",
       "      <td>...</td>\n",
       "      <td>MT005</td>\n",
       "      <td>{'start': '2001-07-14T00:00:00Z', 'end': '2018...</td>\n",
       "      <td>False</td>\n",
       "      <td>NR06</td>\n",
       "      <td>RAWS</td>\n",
       "      <td>MT</td>\n",
       "      <td>ACTIVE</td>\n",
       "      <td>TR285</td>\n",
       "      <td>America/Denver</td>\n",
       "      <td>NaN</td>\n",
       "    </tr>\n",
       "    <tr>\n",
       "      <th>3</th>\n",
       "      <td>3</td>\n",
       "      <td>US</td>\n",
       "      <td>Ravalli</td>\n",
       "      <td>MSO</td>\n",
       "      <td>5507</td>\n",
       "      <td>5554.5</td>\n",
       "      <td>NRCC</td>\n",
       "      <td>6477</td>\n",
       "      <td>46.037828</td>\n",
       "      <td>-114.262708</td>\n",
       "      <td>...</td>\n",
       "      <td>MT005</td>\n",
       "      <td>{'start': '2003-05-14T00:00:00Z', 'end': '2018...</td>\n",
       "      <td>False</td>\n",
       "      <td>NR06</td>\n",
       "      <td>RAWS</td>\n",
       "      <td>MT</td>\n",
       "      <td>ACTIVE</td>\n",
       "      <td>LRCM8</td>\n",
       "      <td>America/Denver</td>\n",
       "      <td>242914.0</td>\n",
       "    </tr>\n",
       "    <tr>\n",
       "      <th>4</th>\n",
       "      <td>4</td>\n",
       "      <td>US</td>\n",
       "      <td>Ravalli</td>\n",
       "      <td>MSO</td>\n",
       "      <td>7282</td>\n",
       "      <td>7257.2</td>\n",
       "      <td>NRCC</td>\n",
       "      <td>2856</td>\n",
       "      <td>46.025492</td>\n",
       "      <td>-114.055208</td>\n",
       "      <td>...</td>\n",
       "      <td>MT006</td>\n",
       "      <td>{'start': '2001-06-01T00:00:00Z', 'end': '2018...</td>\n",
       "      <td>False</td>\n",
       "      <td>NR06</td>\n",
       "      <td>RAWS</td>\n",
       "      <td>MT</td>\n",
       "      <td>ACTIVE</td>\n",
       "      <td>DEEM8</td>\n",
       "      <td>America/Denver</td>\n",
       "      <td>242902.0</td>\n",
       "    </tr>\n",
       "  </tbody>\n",
       "</table>\n",
       "<p>5 rows × 23 columns</p>\n",
       "</div>"
      ],
      "text/plain": [
       "   Unnamed: 0 COUNTRY   COUNTY  CWA  ELEVATION  ELEV_DEM  GACC     ID  \\\n",
       "0           0      US  Ravalli  MSO       4420    4432.4  NRCC   2917   \n",
       "1           1      US  Ravalli  MSO       4570    4767.1  NRCC  13522   \n",
       "2           2      US  Ravalli  MSO       4500    4540.7  NRCC   3407   \n",
       "3           3      US  Ravalli  MSO       5507    5554.5  NRCC   6477   \n",
       "4           4      US  Ravalli  MSO       7282    7257.2  NRCC   2856   \n",
       "\n",
       "    LATITUDE   LONGITUDE    ...     NWSZONE  \\\n",
       "0  45.815556 -114.258333    ...       MT006   \n",
       "1  45.820728 -113.953831    ...       MT006   \n",
       "2  45.982667 -114.216250    ...       MT005   \n",
       "3  46.037828 -114.262708    ...       MT005   \n",
       "4  46.025492 -114.055208    ...       MT006   \n",
       "\n",
       "                                    PERIOD_OF_RECORD RESTRICTED  SGID  \\\n",
       "0  {'start': '2001-05-10T00:00:00Z', 'end': '2018...      False  NR06   \n",
       "1  {'start': '2005-03-25T00:00:00Z', 'end': '2018...      False  NR06   \n",
       "2  {'start': '2001-07-14T00:00:00Z', 'end': '2018...      False  NR06   \n",
       "3  {'start': '2003-05-14T00:00:00Z', 'end': '2018...      False  NR06   \n",
       "4  {'start': '2001-06-01T00:00:00Z', 'end': '2018...      False  NR06   \n",
       "\n",
       "  SHORTNAME  STATE  STATUS   STID        TIMEZONE   WIMS_ID  \n",
       "0      RAWS     MT  ACTIVE  WSFM8  America/Denver  242907.0  \n",
       "1      RAWS     MT  ACTIVE  SUAM8  America/Denver  242905.0  \n",
       "2      RAWS     MT  ACTIVE  TR285  America/Denver       NaN  \n",
       "3      RAWS     MT  ACTIVE  LRCM8  America/Denver  242914.0  \n",
       "4      RAWS     MT  ACTIVE  DEEM8  America/Denver  242902.0  \n",
       "\n",
       "[5 rows x 23 columns]"
      ]
     },
     "execution_count": 5,
     "metadata": {},
     "output_type": "execute_result"
    }
   ],
   "source": [
    "stations.head()"
   ]
  },
  {
   "cell_type": "markdown",
   "metadata": {},
   "source": [
    "## Build URLs"
   ]
  },
  {
   "cell_type": "code",
   "execution_count": null,
   "metadata": {
    "collapsed": true
   },
   "outputs": [],
   "source": [
    "def build_url_df(stations, dates): \n",
    "    url_station = []\n",
    "    # loop through stations in weather_monitoring-locations.csv\n",
    "    for index, row in stations.iterrows():\n",
    "        # loop through date range set above\n",
    "        for date in dates:\n",
    "            row_id = row['STID']\n",
    "            lat = row['LATITUDE']\n",
    "            lon = row['LONGITUDE']\n",
    "            row_url = 'https://api.sunrise-sunset.org/json?lat=' + str(lat) + '&lng=' + str(lon) + '&date=' + date + '&formatted=0'\n",
    "            url_station.append(dict({'station_id': row_id, 'url': row_url, 'date': date}))\n",
    "    return(url_station)"
   ]
  },
  {
   "cell_type": "code",
   "execution_count": null,
   "metadata": {
    "collapsed": true
   },
   "outputs": [],
   "source": [
    "# Generate url list for api calls\n",
    "url_batch = build_url_df(stations, dates)"
   ]
  },
  {
   "cell_type": "code",
   "execution_count": null,
   "metadata": {
    "collapsed": true,
    "scrolled": true
   },
   "outputs": [],
   "source": [
    "print('Number of urls: ' + str(len(url_batch)))\n",
    "print('----\\n', url_batch[-1:])"
   ]
  },
  {
   "cell_type": "markdown",
   "metadata": {},
   "source": [
    "## Call API and store results"
   ]
  },
  {
   "cell_type": "code",
   "execution_count": null,
   "metadata": {
    "collapsed": true
   },
   "outputs": [],
   "source": [
    "def api_call(url):\n",
    "    f = urlopen(url)\n",
    "    json_string = f.read()\n",
    "    parsed_json = json.loads(json_string)\n",
    "    \n",
    "    return parsed_json['results']"
   ]
  },
  {
   "cell_type": "code",
   "execution_count": null,
   "metadata": {
    "collapsed": true
   },
   "outputs": [],
   "source": [
    "def save_results(df_day, filepath):\n",
    "    if os.path.isfile(filepath):\n",
    "        with open(filepath, 'a') as f:\n",
    "            df_day.to_csv(f, header=False, index=False)\n",
    "    else:\n",
    "        df_day.to_csv(filepath, index=False)"
   ]
  },
  {
   "cell_type": "code",
   "execution_count": null,
   "metadata": {
    "collapsed": true
   },
   "outputs": [],
   "source": [
    "%%time\n",
    "successfull_calls = 0\n",
    "\n",
    "# Loop over url_batch to call api and store results\n",
    "for url in url_batch:\n",
    "    # sleep to limit API call speed\n",
    "    #time.sleep(3)\n",
    "    \n",
    "    print(url['station_id'] + '\\n' + url['url'])\n",
    "    result = api_call(url['url'])\n",
    "    \n",
    "    # include station_id\n",
    "    result['station_id'] = url['station_id']\n",
    "    \n",
    "    # include date \n",
    "    result['date'] = url['date']\n",
    "    \n",
    "    df_day = pd.DataFrame.from_dict([result])\n",
    "\n",
    "    save_results(df_day, '../output/sunrise_sunset-mesowest-utc.csv')\n",
    "    \n",
    "    successfull_calls += 1\n",
    "    print('successfull_calls: ' + str(successfull_calls))"
   ]
  },
  {
   "cell_type": "markdown",
   "metadata": {},
   "source": [
    "#### Additional Resources\n",
    "[USNO](http://aa.usno.navy.mil/data/docs/RS_OneYear.php)"
   ]
  }
 ],
 "metadata": {
  "kernelspec": {
   "display_name": "Python 3",
   "language": "python",
   "name": "python3"
  },
  "language_info": {
   "codemirror_mode": {
    "name": "ipython",
    "version": 3
   },
   "file_extension": ".py",
   "mimetype": "text/x-python",
   "name": "python",
   "nbconvert_exporter": "python",
   "pygments_lexer": "ipython3",
   "version": "3.7.1"
  }
 },
 "nbformat": 4,
 "nbformat_minor": 2
}
