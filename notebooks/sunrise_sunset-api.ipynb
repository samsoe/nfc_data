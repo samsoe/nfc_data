{
 "cells": [
  {
   "cell_type": "markdown",
   "metadata": {},
   "source": [
    "## Goal\n",
    "* Gather a table of sunset and sunrise times from an array of locations\n",
    "\n",
    "https://sunrise-sunset.org/api"
   ]
  },
  {
   "cell_type": "code",
   "execution_count": 160,
   "metadata": {
    "collapsed": true
   },
   "outputs": [],
   "source": [
    "# Import tools\n",
    "from urllib.request import urlopen\n",
    "from datetime import timedelta, date, datetime\n",
    "from dateutil import tz\n",
    "import json\n",
    "import pandas as pd"
   ]
  },
  {
   "cell_type": "markdown",
   "metadata": {},
   "source": [
    "## Build Date Array"
   ]
  },
  {
   "cell_type": "code",
   "execution_count": 161,
   "metadata": {
    "collapsed": true
   },
   "outputs": [],
   "source": [
    "def daterange(start_date, end_date):\n",
    "    for n in range(int ((end_date - start_date).days)):\n",
    "        yield start_date + timedelta(n)\n",
    "\n",
    "# Initialize date range\n",
    "start_date = date(2017, 7, 1)\n",
    "end_date = date(2017, 11, 1)\n",
    "\n",
    "dates = []\n",
    "\n",
    "for single_date in daterange(start_date, end_date):\n",
    "        dates.append(single_date.strftime(\"%Y-%m-%d\"))"
   ]
  },
  {
   "cell_type": "code",
   "execution_count": 66,
   "metadata": {
    "scrolled": false
   },
   "outputs": [
    {
     "name": "stdout",
     "output_type": "stream",
     "text": [
      "2017-10-28\n",
      "2017-10-29\n",
      "2017-10-30\n",
      "2017-10-31\n"
     ]
    }
   ],
   "source": [
    "# display sample\n",
    "for date in dates[-4:]:\n",
    "    print (date)"
   ]
  },
  {
   "cell_type": "markdown",
   "metadata": {},
   "source": [
    "## Load Location Dictionary"
   ]
  },
  {
   "cell_type": "code",
   "execution_count": 68,
   "metadata": {
    "collapsed": true
   },
   "outputs": [],
   "source": [
    "# static location selection\n",
    "location = 'missoula'\n",
    "lat = '46.872'\n",
    "lon = '113.9940'"
   ]
  },
  {
   "cell_type": "code",
   "execution_count": 85,
   "metadata": {
    "collapsed": true
   },
   "outputs": [],
   "source": [
    "# load location df\n",
    "stations = pd.read_csv('../../output/weather_monitoring-locations.csv')"
   ]
  },
  {
   "cell_type": "code",
   "execution_count": 87,
   "metadata": {
    "scrolled": true
   },
   "outputs": [
    {
     "data": {
      "text/html": [
       "<div>\n",
       "<style>\n",
       "    .dataframe thead tr:only-child th {\n",
       "        text-align: right;\n",
       "    }\n",
       "\n",
       "    .dataframe thead th {\n",
       "        text-align: left;\n",
       "    }\n",
       "\n",
       "    .dataframe tbody tr th {\n",
       "        vertical-align: top;\n",
       "    }\n",
       "</style>\n",
       "<table border=\"1\" class=\"dataframe\">\n",
       "  <thead>\n",
       "    <tr style=\"text-align: right;\">\n",
       "      <th></th>\n",
       "      <th>id</th>\n",
       "      <th>lat</th>\n",
       "      <th>lon</th>\n",
       "      <th>neighborhood</th>\n",
       "      <th>city</th>\n",
       "    </tr>\n",
       "  </thead>\n",
       "  <tbody>\n",
       "    <tr>\n",
       "      <th>0</th>\n",
       "      <td>KMTCORVA9</td>\n",
       "      <td>46.277557</td>\n",
       "      <td>-114.045059</td>\n",
       "      <td>Hamilton Heights</td>\n",
       "      <td>Corvallis</td>\n",
       "    </tr>\n",
       "    <tr>\n",
       "      <th>1</th>\n",
       "      <td>KMTCORVA10</td>\n",
       "      <td>46.284927</td>\n",
       "      <td>-114.106499</td>\n",
       "      <td>All View Lane</td>\n",
       "      <td>Corvallis</td>\n",
       "    </tr>\n",
       "  </tbody>\n",
       "</table>\n",
       "</div>"
      ],
      "text/plain": [
       "           id        lat         lon      neighborhood       city\n",
       "0   KMTCORVA9  46.277557 -114.045059  Hamilton Heights  Corvallis\n",
       "1  KMTCORVA10  46.284927 -114.106499     All View Lane  Corvallis"
      ]
     },
     "execution_count": 87,
     "metadata": {},
     "output_type": "execute_result"
    }
   ],
   "source": [
    "# display sample\n",
    "stations.loc[:1]"
   ]
  },
  {
   "cell_type": "markdown",
   "metadata": {},
   "source": [
    "## Build URLs"
   ]
  },
  {
   "cell_type": "code",
   "execution_count": 139,
   "metadata": {},
   "outputs": [
    {
     "data": {
      "text/plain": [
       "id                     KMTCORVA9\n",
       "lat                      46.2776\n",
       "lon                     -114.045\n",
       "neighborhood    Hamilton Heights\n",
       "city                   Corvallis\n",
       "Name: 0, dtype: object"
      ]
     },
     "execution_count": 139,
     "metadata": {},
     "output_type": "execute_result"
    }
   ],
   "source": [
    "stations.loc[0]"
   ]
  },
  {
   "cell_type": "code",
   "execution_count": 155,
   "metadata": {
    "collapsed": true
   },
   "outputs": [],
   "source": [
    "def build_url(dates): \n",
    "    urls = []\n",
    "    # loop through stations in weather_monitoring-locations.csv\n",
    "    for index, row in stations.iterrows():\n",
    "        # loop through date range set above\n",
    "        for date in dates:\n",
    "            lat = row['lat']\n",
    "            lon = row['lon']\n",
    "            url = 'https://api.sunrise-sunset.org/json?lat=' + str(lat) + '&lng=' + str(lon) + '&date=' + date\n",
    "            urls.append(url)\n",
    "    return(urls)"
   ]
  },
  {
   "cell_type": "code",
   "execution_count": 156,
   "metadata": {
    "collapsed": true
   },
   "outputs": [],
   "source": [
    "url_batch = build_url(dates)"
   ]
  },
  {
   "cell_type": "code",
   "execution_count": 158,
   "metadata": {},
   "outputs": [
    {
     "name": "stdout",
     "output_type": "stream",
     "text": [
      "https://api.sunrise-sunset.org/json?lat=46.277557&lng=-114.045059&date=2017-07-01\n"
     ]
    }
   ],
   "source": [
    "print(url_batch[0])"
   ]
  },
  {
   "cell_type": "code",
   "execution_count": 159,
   "metadata": {},
   "outputs": [
    {
     "data": {
      "text/plain": [
       "4182"
      ]
     },
     "execution_count": 159,
     "metadata": {},
     "output_type": "execute_result"
    }
   ],
   "source": [
    "len(url_batch)"
   ]
  },
  {
   "cell_type": "markdown",
   "metadata": {},
   "source": [
    "## Scratch Work Below"
   ]
  },
  {
   "cell_type": "code",
   "execution_count": 82,
   "metadata": {
    "collapsed": true
   },
   "outputs": [],
   "source": [
    "# url queries the sunrise-sunset.org api\n",
    "\n",
    "test_url = 'https://api.sunrise-sunset.org/json?lat=' + str(lat) + '&' + str(lon) + '&date=' + selected_date"
   ]
  },
  {
   "cell_type": "code",
   "execution_count": 83,
   "metadata": {},
   "outputs": [
    {
     "data": {
      "text/plain": [
       "'https://api.sunrise-sunset.org/json?lat=46.364567&-114.242287&date=2017-07-18'"
      ]
     },
     "execution_count": 83,
     "metadata": {},
     "output_type": "execute_result"
    }
   ],
   "source": [
    "test_url"
   ]
  },
  {
   "cell_type": "code",
   "execution_count": 103,
   "metadata": {
    "collapsed": true
   },
   "outputs": [],
   "source": [
    "def api_call(url):\n",
    "    f = urlopen(url)\n",
    "    json_string = f.read() \n",
    "    parsed_json = json.loads(json_string)\n",
    "    return parsed_json"
   ]
  },
  {
   "cell_type": "code",
   "execution_count": 31,
   "metadata": {},
   "outputs": [
    {
     "ename": "NameError",
     "evalue": "name 'api_call' is not defined",
     "output_type": "error",
     "traceback": [
      "\u001b[0;31m---------------------------------------------------------------------------\u001b[0m",
      "\u001b[0;31mNameError\u001b[0m                                 Traceback (most recent call last)",
      "\u001b[0;32m<ipython-input-31-605a7d0fa431>\u001b[0m in \u001b[0;36m<module>\u001b[0;34m()\u001b[0m\n\u001b[0;32m----> 1\u001b[0;31m \u001b[0mresults\u001b[0m \u001b[0;34m=\u001b[0m \u001b[0mapi_call\u001b[0m\u001b[0;34m(\u001b[0m\u001b[0murl\u001b[0m\u001b[0;34m)\u001b[0m\u001b[0;34m\u001b[0m\u001b[0m\n\u001b[0m",
      "\u001b[0;31mNameError\u001b[0m: name 'api_call' is not defined"
     ]
    }
   ],
   "source": [
    "results = api_call(url)"
   ]
  },
  {
   "cell_type": "code",
   "execution_count": 105,
   "metadata": {
    "collapsed": true
   },
   "outputs": [],
   "source": [
    "# Add date and location to dictionary\n",
    "\n",
    "results['results']['date'] = selected_date\n",
    "results['results']['location'] = location\n",
    "results['results']['lat'] = lat\n",
    "results['results']['lon'] = lon"
   ]
  },
  {
   "cell_type": "code",
   "execution_count": 106,
   "metadata": {
    "collapsed": true
   },
   "outputs": [
    {
     "name": "stdout",
     "output_type": "stream",
     "text": [
      "* All times UTC *\n",
      "\n",
      "sunrise: 8:48:14 PM\n",
      "sunset: 12:12:23 PM\n",
      "solar_noon: 4:30:18 AM\n",
      "day_length: 15:24:09\n",
      "civil_twilight_begin: 8:10:55 PM\n",
      "civil_twilight_end: 12:49:41 PM\n",
      "nautical_twilight_begin: 7:21:40 PM\n",
      "nautical_twilight_end: 1:38:56 PM\n",
      "astronomical_twilight_begin: 6:18:01 PM\n",
      "astronomical_twilight_end: 2:42:35 PM\n",
      "date: 2017-07-18\n",
      "location: missoula\n",
      "lat: 46.872\n",
      "lon: 113.9940\n"
     ]
    }
   ],
   "source": [
    "print('* All times UTC *\\n')\n",
    "\n",
    "for key, value in results['results'].items():\n",
    "    print(key + \": \" + value)"
   ]
  }
 ],
 "metadata": {
  "kernelspec": {
   "display_name": "Python 3",
   "language": "python",
   "name": "python3"
  },
  "language_info": {
   "codemirror_mode": {
    "name": "ipython",
    "version": 3
   },
   "file_extension": ".py",
   "mimetype": "text/x-python",
   "name": "python",
   "nbconvert_exporter": "python",
   "pygments_lexer": "ipython3",
   "version": "3.6.3"
  }
 },
 "nbformat": 4,
 "nbformat_minor": 2
}
