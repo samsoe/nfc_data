{
 "cells": [
  {
   "cell_type": "markdown",
   "metadata": {},
   "source": [
    "## Goal\n",
    "* Gather sunset and sunrise times from an array of dates and locations and store results\n",
    "\n",
    "https://sunrise-sunset.org/api"
   ]
  },
  {
   "cell_type": "code",
   "execution_count": 2,
   "metadata": {
    "collapsed": true
   },
   "outputs": [],
   "source": [
    "# Import tools\n",
    "from urllib.request import urlopen\n",
    "from datetime import timedelta, date, datetime\n",
    "from dateutil import tz\n",
    "import json\n",
    "import pandas as pd\n",
    "import time\n",
    "import os.path"
   ]
  },
  {
   "cell_type": "markdown",
   "metadata": {},
   "source": [
    "## Build Date Array"
   ]
  },
  {
   "cell_type": "code",
   "execution_count": 3,
   "metadata": {
    "collapsed": true
   },
   "outputs": [],
   "source": [
    "def daterange(start_date, end_date):\n",
    "    for n in range(int ((end_date - start_date).days)):\n",
    "        yield start_date + timedelta(n)\n",
    "\n",
    "# Initialize date range\n",
    "start_date = date(2017, 7, 1)\n",
    "end_date = date(2017, 11, 1)\n",
    "\n",
    "dates = []\n",
    "\n",
    "for single_date in daterange(start_date, end_date):\n",
    "        dates.append(single_date.strftime(\"%Y-%m-%d\"))"
   ]
  },
  {
   "cell_type": "code",
   "execution_count": 4,
   "metadata": {},
   "outputs": [
    {
     "name": "stdout",
     "output_type": "stream",
     "text": [
      "['2017-07-01', '2017-07-02', '2017-07-03', '2017-07-04']\n",
      "['2017-10-28', '2017-10-29', '2017-10-30', '2017-10-31']\n"
     ]
    }
   ],
   "source": [
    "print(dates[:4])\n",
    "print(dates[-4:])"
   ]
  },
  {
   "cell_type": "markdown",
   "metadata": {},
   "source": [
    "## Load Location Dictionary"
   ]
  },
  {
   "cell_type": "code",
   "execution_count": 5,
   "metadata": {
    "collapsed": true
   },
   "outputs": [],
   "source": [
    "# Load station location csv into a DataFrame\n",
    "stations = pd.read_csv('../output/weather_monitoring-locations.csv')"
   ]
  },
  {
   "cell_type": "code",
   "execution_count": 7,
   "metadata": {
    "scrolled": true
   },
   "outputs": [
    {
     "data": {
      "text/html": [
       "<div>\n",
       "<style>\n",
       "    .dataframe thead tr:only-child th {\n",
       "        text-align: right;\n",
       "    }\n",
       "\n",
       "    .dataframe thead th {\n",
       "        text-align: left;\n",
       "    }\n",
       "\n",
       "    .dataframe tbody tr th {\n",
       "        vertical-align: top;\n",
       "    }\n",
       "</style>\n",
       "<table border=\"1\" class=\"dataframe\">\n",
       "  <thead>\n",
       "    <tr style=\"text-align: right;\">\n",
       "      <th></th>\n",
       "      <th>id</th>\n",
       "      <th>lat</th>\n",
       "      <th>lon</th>\n",
       "      <th>neighborhood</th>\n",
       "      <th>city</th>\n",
       "    </tr>\n",
       "  </thead>\n",
       "  <tbody>\n",
       "    <tr>\n",
       "      <th>0</th>\n",
       "      <td>KMTCORVA9</td>\n",
       "      <td>46.277557</td>\n",
       "      <td>-114.045059</td>\n",
       "      <td>Hamilton Heights</td>\n",
       "      <td>Corvallis</td>\n",
       "    </tr>\n",
       "    <tr>\n",
       "      <th>1</th>\n",
       "      <td>KMTCORVA10</td>\n",
       "      <td>46.284927</td>\n",
       "      <td>-114.106499</td>\n",
       "      <td>All View Lane</td>\n",
       "      <td>Corvallis</td>\n",
       "    </tr>\n",
       "    <tr>\n",
       "      <th>2</th>\n",
       "      <td>KMTCORVA12</td>\n",
       "      <td>46.323433</td>\n",
       "      <td>-114.058075</td>\n",
       "      <td>Soft Rock</td>\n",
       "      <td>Corvallis</td>\n",
       "    </tr>\n",
       "    <tr>\n",
       "      <th>3</th>\n",
       "      <td>KMTCORVA15</td>\n",
       "      <td>46.314114</td>\n",
       "      <td>-114.119720</td>\n",
       "      <td>Corvallis - West Edge of Town</td>\n",
       "      <td>Corvallis</td>\n",
       "    </tr>\n",
       "  </tbody>\n",
       "</table>\n",
       "</div>"
      ],
      "text/plain": [
       "           id        lat         lon                   neighborhood       city\n",
       "0   KMTCORVA9  46.277557 -114.045059               Hamilton Heights  Corvallis\n",
       "1  KMTCORVA10  46.284927 -114.106499                  All View Lane  Corvallis\n",
       "2  KMTCORVA12  46.323433 -114.058075                      Soft Rock  Corvallis\n",
       "3  KMTCORVA15  46.314114 -114.119720  Corvallis - West Edge of Town  Corvallis"
      ]
     },
     "execution_count": 7,
     "metadata": {},
     "output_type": "execute_result"
    }
   ],
   "source": [
    "stations.head(4)"
   ]
  },
  {
   "cell_type": "markdown",
   "metadata": {},
   "source": [
    "## Build URLs"
   ]
  },
  {
   "cell_type": "code",
   "execution_count": 8,
   "metadata": {
    "collapsed": true
   },
   "outputs": [],
   "source": [
    "def build_url_df(stations, dates): \n",
    "    url_station = []\n",
    "    # loop through stations in weather_monitoring-locations.csv\n",
    "    for index, row in stations.iterrows():\n",
    "        # loop through date range set above\n",
    "        for date in dates:\n",
    "            row_id = row['id']\n",
    "            lat = row['lat']\n",
    "            lon = row['lon']\n",
    "            row_url = 'https://api.sunrise-sunset.org/json?lat=' + str(lat) + '&lng=' + str(lon) + '&date=' + date + '&formatted=0'\n",
    "            url_station.append(dict({'station_id': row_id, 'url': row_url, 'date': date}))\n",
    "    return(url_station)"
   ]
  },
  {
   "cell_type": "code",
   "execution_count": 9,
   "metadata": {
    "collapsed": true
   },
   "outputs": [],
   "source": [
    "# Generate url list for api calls\n",
    "url_batch = build_url_df(stations, dates)"
   ]
  },
  {
   "cell_type": "code",
   "execution_count": 12,
   "metadata": {
    "scrolled": true
   },
   "outputs": [
    {
     "name": "stdout",
     "output_type": "stream",
     "text": [
      "Number of urls: 4182\n",
      "----\n",
      " [{'station_id': 'KMTCORVA9', 'url': 'https://api.sunrise-sunset.org/json?lat=46.277557&lng=-114.045059&date=2017-07-01&formatted=0', 'date': '2017-07-01'}]\n"
     ]
    }
   ],
   "source": [
    "print('Number of urls: ' + str(len(url_batch)))\n",
    "print('----\\n', url_batch[:1])"
   ]
  },
  {
   "cell_type": "markdown",
   "metadata": {},
   "source": [
    "## Call API and store results"
   ]
  },
  {
   "cell_type": "code",
   "execution_count": 13,
   "metadata": {
    "collapsed": true
   },
   "outputs": [],
   "source": [
    "def api_call(url):\n",
    "    f = urlopen(url)\n",
    "    json_string = f.read()\n",
    "    parsed_json = json.loads(json_string)\n",
    "    \n",
    "    return parsed_json['results']"
   ]
  },
  {
   "cell_type": "code",
   "execution_count": 14,
   "metadata": {
    "collapsed": true
   },
   "outputs": [],
   "source": [
    "def save_results(df_day, filepath):\n",
    "    if os.path.isfile(filepath):\n",
    "        with open(filepath, 'a') as f:\n",
    "            df_day.to_csv(f, header=False, index=False)\n",
    "    else:\n",
    "        df_day.to_csv(filepath, index=False)"
   ]
  },
  {
   "cell_type": "code",
   "execution_count": 15,
   "metadata": {},
   "outputs": [
    {
     "name": "stdout",
     "output_type": "stream",
     "text": [
      "KMTCORVA9\n",
      "https://api.sunrise-sunset.org/json?lat=46.277557&lng=-114.045059&date=2017-07-01&formatted=0\n",
      "successfull_calls: 1\n",
      "CPU times: user 29.3 ms, sys: 10.9 ms, total: 40.2 ms\n",
      "Wall time: 6.45 s\n"
     ]
    }
   ],
   "source": [
    "%%time\n",
    "successfull_calls = 0\n",
    "\n",
    "# Loop over url_batch to call api and store results\n",
    "for url in url_batch[:1]:\n",
    "    # sleep to limit API call speed\n",
    "    time.sleep(6)\n",
    "    \n",
    "    print(url['station_id'] + '\\n' + url['url'])\n",
    "    result = api_call(url['url'])\n",
    "    \n",
    "    # include station_id\n",
    "    result['station_id'] = url['station_id']\n",
    "    \n",
    "    # include date \n",
    "    result['date'] = url['date']\n",
    "    \n",
    "    df_day = pd.DataFrame.from_dict([result])\n",
    "\n",
    "    #save_results(df_day, '../output/sunrise_sunset-utc.csv')\n",
    "    \n",
    "    successfull_calls += 1\n",
    "    print('successfull_calls: ' + str(successfull_calls))"
   ]
  },
  {
   "cell_type": "markdown",
   "metadata": {},
   "source": [
    "#### Additional Resources\n",
    "[USNO](http://aa.usno.navy.mil/data/docs/RS_OneYear.php)"
   ]
  }
 ],
 "metadata": {
  "kernelspec": {
   "display_name": "Python 3",
   "language": "python",
   "name": "python3"
  },
  "language_info": {
   "codemirror_mode": {
    "name": "ipython",
    "version": 3
   },
   "file_extension": ".py",
   "mimetype": "text/x-python",
   "name": "python",
   "nbconvert_exporter": "python",
   "pygments_lexer": "ipython3",
   "version": "3.6.3"
  }
 },
 "nbformat": 4,
 "nbformat_minor": 2
}
