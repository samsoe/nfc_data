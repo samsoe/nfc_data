{
 "cells": [
  {
   "cell_type": "markdown",
   "metadata": {},
   "source": [
    "# Convert xlsx to csv"
   ]
  },
  {
   "cell_type": "markdown",
   "metadata": {},
   "source": [
    "Data Source: Sarah Coefield, M.S., M.A. Air Quality Specialist Missoula City-County Health Department\n",
    "\n",
    "\"I’ve attached a spreadsheet DEQ sent me this fall with data from all of the monitors deployed around Montana this wildfire season. The units are all ug/m3 and the data are all the 24-hour average PM2.5 concentration. I do not have data into October. DEQ may be able to provide that data (I’ve cc’d Stephen Coe at DEQ). The data in the attached spreadsheet have not been QA-d, but should still give a good general impression of the wildfire smoke this year.\""
   ]
  },
  {
   "cell_type": "code",
   "execution_count": 1,
   "metadata": {
    "collapsed": true
   },
   "outputs": [],
   "source": [
    "# Use pandas to convert\n",
    "import pandas as pd"
   ]
  },
  {
   "cell_type": "code",
   "execution_count": 6,
   "metadata": {
    "collapsed": true
   },
   "outputs": [],
   "source": [
    "# Source file location\n",
    "src_xlsx = '../source_data/AllStations_Data.xlsx'"
   ]
  },
  {
   "cell_type": "code",
   "execution_count": 3,
   "metadata": {
    "collapsed": true
   },
   "outputs": [],
   "source": [
    "# Read xlsx file\n",
    "data_xls = pd.read_excel(src_xlsx, index=False)"
   ]
  },
  {
   "cell_type": "code",
   "execution_count": 5,
   "metadata": {
    "collapsed": true
   },
   "outputs": [],
   "source": [
    "# Convert xlsx to csv\n",
    "data_xls.to_csv('../source_data/fallPM2_5_mt.csv', encoding='utf-8', index=False)"
   ]
  }
 ],
 "metadata": {
  "kernelspec": {
   "display_name": "Python 3",
   "language": "python",
   "name": "python3"
  },
  "language_info": {
   "codemirror_mode": {
    "name": "ipython",
    "version": 3
   },
   "file_extension": ".py",
   "mimetype": "text/x-python",
   "name": "python",
   "nbconvert_exporter": "python",
   "pygments_lexer": "ipython3",
   "version": "3.6.3"
  }
 },
 "nbformat": 4,
 "nbformat_minor": 2
}
