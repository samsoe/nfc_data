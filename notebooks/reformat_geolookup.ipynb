{
 "cells": [
  {
   "cell_type": "markdown",
   "metadata": {},
   "source": [
    "## Reformat geolookup-mso_stev_ham.csv \n",
    "* to include columns [id, lat, lon, neighborhood, city]\n",
    "* remove rows with no data (no data list generated previous while querying wunderground api)\n",
    "* geolookup-mso_stev_ham.csv : [hosted here](https://drive.google.com/open?id=1qnqq6sobFEaaqdUYL6V1g_8M_470borJ4-E6EUeieDY)"
   ]
  },
  {
   "cell_type": "code",
   "execution_count": 2,
   "metadata": {
    "collapsed": true
   },
   "outputs": [],
   "source": [
    "import pandas as pd"
   ]
  },
  {
   "cell_type": "code",
   "execution_count": 5,
   "metadata": {
    "collapsed": true
   },
   "outputs": [],
   "source": [
    "filename = \"../output/geolookup-mso_stev_ham.csv\""
   ]
  },
  {
   "cell_type": "code",
   "execution_count": 6,
   "metadata": {
    "collapsed": true
   },
   "outputs": [],
   "source": [
    "df = pd.read_csv(filename)"
   ]
  },
  {
   "cell_type": "code",
   "execution_count": 42,
   "metadata": {},
   "outputs": [
    {
     "data": {
      "text/html": [
       "<div>\n",
       "<style>\n",
       "    .dataframe thead tr:only-child th {\n",
       "        text-align: right;\n",
       "    }\n",
       "\n",
       "    .dataframe thead th {\n",
       "        text-align: left;\n",
       "    }\n",
       "\n",
       "    .dataframe tbody tr th {\n",
       "        vertical-align: top;\n",
       "    }\n",
       "</style>\n",
       "<table border=\"1\" class=\"dataframe\">\n",
       "  <thead>\n",
       "    <tr style=\"text-align: right;\">\n",
       "      <th></th>\n",
       "      <th>city</th>\n",
       "      <th>country</th>\n",
       "      <th>distance_km</th>\n",
       "      <th>distance_mi</th>\n",
       "      <th>id</th>\n",
       "      <th>lat</th>\n",
       "      <th>lon</th>\n",
       "      <th>neighborhood</th>\n",
       "      <th>state</th>\n",
       "    </tr>\n",
       "  </thead>\n",
       "  <tbody>\n",
       "    <tr>\n",
       "      <th>0</th>\n",
       "      <td>Corvallis</td>\n",
       "      <td>US</td>\n",
       "      <td>9</td>\n",
       "      <td>5</td>\n",
       "      <td>KMTCORVA9</td>\n",
       "      <td>46.277557</td>\n",
       "      <td>-114.045059</td>\n",
       "      <td>Hamilton Heights</td>\n",
       "      <td>MT</td>\n",
       "    </tr>\n",
       "    <tr>\n",
       "      <th>1</th>\n",
       "      <td>Corvallis</td>\n",
       "      <td>US</td>\n",
       "      <td>5</td>\n",
       "      <td>3</td>\n",
       "      <td>KMTCORVA10</td>\n",
       "      <td>46.284927</td>\n",
       "      <td>-114.106499</td>\n",
       "      <td>All View Lane</td>\n",
       "      <td>MT</td>\n",
       "    </tr>\n",
       "    <tr>\n",
       "      <th>2</th>\n",
       "      <td>Corvallis</td>\n",
       "      <td>US</td>\n",
       "      <td>6</td>\n",
       "      <td>3</td>\n",
       "      <td>KMTCORVA23</td>\n",
       "      <td>46.273411</td>\n",
       "      <td>-114.086159</td>\n",
       "      <td>corvallis orchard</td>\n",
       "      <td>MT</td>\n",
       "    </tr>\n",
       "    <tr>\n",
       "      <th>3</th>\n",
       "      <td>Corvallis</td>\n",
       "      <td>US</td>\n",
       "      <td>11</td>\n",
       "      <td>6</td>\n",
       "      <td>KMTCORVA12</td>\n",
       "      <td>46.323433</td>\n",
       "      <td>-114.058075</td>\n",
       "      <td>Soft Rock</td>\n",
       "      <td>MT</td>\n",
       "    </tr>\n",
       "    <tr>\n",
       "      <th>4</th>\n",
       "      <td>Corvallis</td>\n",
       "      <td>US</td>\n",
       "      <td>7</td>\n",
       "      <td>4</td>\n",
       "      <td>KMTCORVA15</td>\n",
       "      <td>46.314114</td>\n",
       "      <td>-114.119720</td>\n",
       "      <td>Corvallis - West Edge of Town</td>\n",
       "      <td>MT</td>\n",
       "    </tr>\n",
       "  </tbody>\n",
       "</table>\n",
       "</div>"
      ],
      "text/plain": [
       "        city country  distance_km  distance_mi          id        lat  \\\n",
       "0  Corvallis      US            9            5   KMTCORVA9  46.277557   \n",
       "1  Corvallis      US            5            3  KMTCORVA10  46.284927   \n",
       "2  Corvallis      US            6            3  KMTCORVA23  46.273411   \n",
       "3  Corvallis      US           11            6  KMTCORVA12  46.323433   \n",
       "4  Corvallis      US            7            4  KMTCORVA15  46.314114   \n",
       "\n",
       "          lon                   neighborhood state  \n",
       "0 -114.045059               Hamilton Heights    MT  \n",
       "1 -114.106499                  All View Lane    MT  \n",
       "2 -114.086159              corvallis orchard    MT  \n",
       "3 -114.058075                      Soft Rock    MT  \n",
       "4 -114.119720  Corvallis - West Edge of Town    MT  "
      ]
     },
     "execution_count": 42,
     "metadata": {},
     "output_type": "execute_result"
    }
   ],
   "source": [
    "df.head()"
   ]
  },
  {
   "cell_type": "code",
   "execution_count": 8,
   "metadata": {
    "collapsed": true
   },
   "outputs": [],
   "source": [
    "# select columns from geolookup-mso_stev_ham.csv for new df\n",
    "new_df = df[['id', 'lat', 'lon', 'neighborhood', 'city']].copy()"
   ]
  },
  {
   "cell_type": "code",
   "execution_count": 30,
   "metadata": {
    "collapsed": true
   },
   "outputs": [],
   "source": [
    "# station ids with null data\n",
    "no_data = ['KMTCORVA23', 'KMTCORVA21', 'KMTFLORE1', 'KMTFLORE12', 'KMTLOLO8', 'KMTMISSO62', 'KMTMISSO74', 'KMTSTEVE16']"
   ]
  },
  {
   "cell_type": "code",
   "execution_count": 31,
   "metadata": {
    "collapsed": true
   },
   "outputs": [],
   "source": [
    "# remove rows with no history data\n",
    "for x in no_data:\n",
    "    new_df = new_df[new_df.id != x]"
   ]
  },
  {
   "cell_type": "code",
   "execution_count": 37,
   "metadata": {
    "collapsed": true,
    "scrolled": true
   },
   "outputs": [],
   "source": [
    "new_df = new_df.reset_index(drop=True)"
   ]
  },
  {
   "cell_type": "code",
   "execution_count": 44,
   "metadata": {},
   "outputs": [
    {
     "data": {
      "text/html": [
       "<div>\n",
       "<style>\n",
       "    .dataframe thead tr:only-child th {\n",
       "        text-align: right;\n",
       "    }\n",
       "\n",
       "    .dataframe thead th {\n",
       "        text-align: left;\n",
       "    }\n",
       "\n",
       "    .dataframe tbody tr th {\n",
       "        vertical-align: top;\n",
       "    }\n",
       "</style>\n",
       "<table border=\"1\" class=\"dataframe\">\n",
       "  <thead>\n",
       "    <tr style=\"text-align: right;\">\n",
       "      <th></th>\n",
       "      <th>id</th>\n",
       "      <th>lat</th>\n",
       "      <th>lon</th>\n",
       "      <th>neighborhood</th>\n",
       "      <th>city</th>\n",
       "    </tr>\n",
       "  </thead>\n",
       "  <tbody>\n",
       "    <tr>\n",
       "      <th>0</th>\n",
       "      <td>KMTCORVA9</td>\n",
       "      <td>46.277557</td>\n",
       "      <td>-114.045059</td>\n",
       "      <td>Hamilton Heights</td>\n",
       "      <td>Corvallis</td>\n",
       "    </tr>\n",
       "    <tr>\n",
       "      <th>1</th>\n",
       "      <td>KMTCORVA10</td>\n",
       "      <td>46.284927</td>\n",
       "      <td>-114.106499</td>\n",
       "      <td>All View Lane</td>\n",
       "      <td>Corvallis</td>\n",
       "    </tr>\n",
       "    <tr>\n",
       "      <th>2</th>\n",
       "      <td>KMTCORVA12</td>\n",
       "      <td>46.323433</td>\n",
       "      <td>-114.058075</td>\n",
       "      <td>Soft Rock</td>\n",
       "      <td>Corvallis</td>\n",
       "    </tr>\n",
       "    <tr>\n",
       "      <th>3</th>\n",
       "      <td>KMTCORVA15</td>\n",
       "      <td>46.314114</td>\n",
       "      <td>-114.119720</td>\n",
       "      <td>Corvallis - West Edge of Town</td>\n",
       "      <td>Corvallis</td>\n",
       "    </tr>\n",
       "    <tr>\n",
       "      <th>4</th>\n",
       "      <td>KMTFLORE4</td>\n",
       "      <td>46.716743</td>\n",
       "      <td>-114.007782</td>\n",
       "      <td>MPG Ranch - Baldy Draw</td>\n",
       "      <td>Florence</td>\n",
       "    </tr>\n",
       "  </tbody>\n",
       "</table>\n",
       "</div>"
      ],
      "text/plain": [
       "           id        lat         lon                   neighborhood       city\n",
       "0   KMTCORVA9  46.277557 -114.045059               Hamilton Heights  Corvallis\n",
       "1  KMTCORVA10  46.284927 -114.106499                  All View Lane  Corvallis\n",
       "2  KMTCORVA12  46.323433 -114.058075                      Soft Rock  Corvallis\n",
       "3  KMTCORVA15  46.314114 -114.119720  Corvallis - West Edge of Town  Corvallis\n",
       "4   KMTFLORE4  46.716743 -114.007782         MPG Ranch - Baldy Draw   Florence"
      ]
     },
     "execution_count": 44,
     "metadata": {},
     "output_type": "execute_result"
    }
   ],
   "source": [
    "new_df.head()"
   ]
  },
  {
   "cell_type": "code",
   "execution_count": 39,
   "metadata": {
    "collapsed": true
   },
   "outputs": [],
   "source": [
    "save_as = '../output/weather_monitoring-locations.csv'    "
   ]
  },
  {
   "cell_type": "code",
   "execution_count": 41,
   "metadata": {
    "collapsed": true
   },
   "outputs": [],
   "source": [
    "new_df.to_csv(save_as, index=False)"
   ]
  }
 ],
 "metadata": {
  "kernelspec": {
   "display_name": "Python 3",
   "language": "python",
   "name": "python3"
  },
  "language_info": {
   "codemirror_mode": {
    "name": "ipython",
    "version": 3
   },
   "file_extension": ".py",
   "mimetype": "text/x-python",
   "name": "python",
   "nbconvert_exporter": "python",
   "pygments_lexer": "ipython3",
   "version": "3.6.3"
  }
 },
 "nbformat": 4,
 "nbformat_minor": 2
}
