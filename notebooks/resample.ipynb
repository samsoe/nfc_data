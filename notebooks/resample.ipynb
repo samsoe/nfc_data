{
 "cells": [
  {
   "cell_type": "markdown",
   "metadata": {},
   "source": [
    "### Resample to 30 and 60 minutes"
   ]
  },
  {
   "cell_type": "code",
   "execution_count": 3,
   "metadata": {
    "collapsed": true
   },
   "outputs": [],
   "source": [
    "import pandas as pd"
   ]
  },
  {
   "cell_type": "code",
   "execution_count": 17,
   "metadata": {},
   "outputs": [],
   "source": [
    "# import csv\n",
    "df = pd.read_csv('../output/mesowest-weather_night-2017_001.csv',\\\n",
    "                 parse_dates=['local_datetime', 'utc_date'])"
   ]
  },
  {
   "cell_type": "code",
   "execution_count": 18,
   "metadata": {},
   "outputs": [],
   "source": [
    "# set column to be timezone aware\n",
    "df['local_datetime'] = df.loc[:, 'local_datetime']\\\n",
    "                        .dt.tz_localize('utc')\\\n",
    "                        .dt.tz_convert('US/Mountain')"
   ]
  },
  {
   "cell_type": "code",
   "execution_count": 21,
   "metadata": {
    "collapsed": true
   },
   "outputs": [],
   "source": [
    "# set index to local time\n",
    "df = df.set_index('local_datetime')"
   ]
  },
  {
   "cell_type": "markdown",
   "metadata": {},
   "source": [
    "#### Resample to 30 minutes"
   ]
  },
  {
   "cell_type": "code",
   "execution_count": 31,
   "metadata": {
    "collapsed": true
   },
   "outputs": [],
   "source": [
    "# group by station column to keep timelines together and resample to 30m\n",
    "df_30m = df.groupby('Station_ID').resample('30min').bfill()"
   ]
  },
  {
   "cell_type": "code",
   "execution_count": 35,
   "metadata": {},
   "outputs": [],
   "source": [
    "# drop column which is currently duplicate of multiIndex\n",
    "df_30m = df_30m.drop(['Station_ID'], axis=1)"
   ]
  },
  {
   "cell_type": "code",
   "execution_count": 42,
   "metadata": {
    "collapsed": true,
    "scrolled": true
   },
   "outputs": [],
   "source": [
    "# reset dataframe for export\n",
    "df_30m = df_30m.reset_index()"
   ]
  },
  {
   "cell_type": "code",
   "execution_count": 45,
   "metadata": {
    "scrolled": true
   },
   "outputs": [
    {
     "data": {
      "text/html": [
       "<div>\n",
       "<style>\n",
       "    .dataframe thead tr:only-child th {\n",
       "        text-align: right;\n",
       "    }\n",
       "\n",
       "    .dataframe thead th {\n",
       "        text-align: left;\n",
       "    }\n",
       "\n",
       "    .dataframe tbody tr th {\n",
       "        vertical-align: top;\n",
       "    }\n",
       "</style>\n",
       "<table border=\"1\" class=\"dataframe\">\n",
       "  <thead>\n",
       "    <tr style=\"text-align: right;\">\n",
       "      <th></th>\n",
       "      <th>Station_ID</th>\n",
       "      <th>local_datetime</th>\n",
       "      <th>utc_date</th>\n",
       "      <th>air_temp_set_1</th>\n",
       "      <th>relative_humidity_set_1</th>\n",
       "      <th>wind_speed_set_1</th>\n",
       "      <th>wind_direction_set_1</th>\n",
       "      <th>wind_gust_set_1</th>\n",
       "      <th>peak_wind_speed_set_1</th>\n",
       "      <th>peak_wind_direction_set_1</th>\n",
       "      <th>dew_point_temperature_set_1d</th>\n",
       "      <th>wind_chill_set_1d</th>\n",
       "      <th>wind_cardinal_direction_set_1d</th>\n",
       "      <th>heat_index_set_1d</th>\n",
       "    </tr>\n",
       "  </thead>\n",
       "  <tbody>\n",
       "    <tr>\n",
       "      <th>0</th>\n",
       "      <td>DEEM8</td>\n",
       "      <td>2017-06-30 23:00:00-06:00</td>\n",
       "      <td>2017-07-01 05:06:00</td>\n",
       "      <td>57.99</td>\n",
       "      <td>46.0</td>\n",
       "      <td>4.33</td>\n",
       "      <td>360.0</td>\n",
       "      <td>12.17</td>\n",
       "      <td>12.17</td>\n",
       "      <td>17.0</td>\n",
       "      <td>37.18</td>\n",
       "      <td>NaN</td>\n",
       "      <td>N</td>\n",
       "      <td>NaN</td>\n",
       "    </tr>\n",
       "    <tr>\n",
       "      <th>1</th>\n",
       "      <td>DEEM8</td>\n",
       "      <td>2017-06-30 23:30:00-06:00</td>\n",
       "      <td>2017-07-01 06:06:00</td>\n",
       "      <td>57.99</td>\n",
       "      <td>43.0</td>\n",
       "      <td>7.81</td>\n",
       "      <td>340.0</td>\n",
       "      <td>11.29</td>\n",
       "      <td>11.29</td>\n",
       "      <td>331.0</td>\n",
       "      <td>35.46</td>\n",
       "      <td>NaN</td>\n",
       "      <td>NNW</td>\n",
       "      <td>NaN</td>\n",
       "    </tr>\n",
       "    <tr>\n",
       "      <th>2</th>\n",
       "      <td>DEEM8</td>\n",
       "      <td>2017-07-01 00:00:00-06:00</td>\n",
       "      <td>2017-07-01 06:06:00</td>\n",
       "      <td>57.99</td>\n",
       "      <td>43.0</td>\n",
       "      <td>7.81</td>\n",
       "      <td>340.0</td>\n",
       "      <td>11.29</td>\n",
       "      <td>11.29</td>\n",
       "      <td>331.0</td>\n",
       "      <td>35.46</td>\n",
       "      <td>NaN</td>\n",
       "      <td>NNW</td>\n",
       "      <td>NaN</td>\n",
       "    </tr>\n",
       "    <tr>\n",
       "      <th>3</th>\n",
       "      <td>DEEM8</td>\n",
       "      <td>2017-07-01 00:30:00-06:00</td>\n",
       "      <td>2017-07-01 07:06:00</td>\n",
       "      <td>57.00</td>\n",
       "      <td>42.0</td>\n",
       "      <td>7.81</td>\n",
       "      <td>321.0</td>\n",
       "      <td>12.17</td>\n",
       "      <td>12.17</td>\n",
       "      <td>349.0</td>\n",
       "      <td>33.97</td>\n",
       "      <td>NaN</td>\n",
       "      <td>NW</td>\n",
       "      <td>NaN</td>\n",
       "    </tr>\n",
       "  </tbody>\n",
       "</table>\n",
       "</div>"
      ],
      "text/plain": [
       "  Station_ID            local_datetime            utc_date  air_temp_set_1  \\\n",
       "0      DEEM8 2017-06-30 23:00:00-06:00 2017-07-01 05:06:00           57.99   \n",
       "1      DEEM8 2017-06-30 23:30:00-06:00 2017-07-01 06:06:00           57.99   \n",
       "2      DEEM8 2017-07-01 00:00:00-06:00 2017-07-01 06:06:00           57.99   \n",
       "3      DEEM8 2017-07-01 00:30:00-06:00 2017-07-01 07:06:00           57.00   \n",
       "\n",
       "   relative_humidity_set_1  wind_speed_set_1  wind_direction_set_1  \\\n",
       "0                     46.0              4.33                 360.0   \n",
       "1                     43.0              7.81                 340.0   \n",
       "2                     43.0              7.81                 340.0   \n",
       "3                     42.0              7.81                 321.0   \n",
       "\n",
       "   wind_gust_set_1  peak_wind_speed_set_1  peak_wind_direction_set_1  \\\n",
       "0            12.17                  12.17                       17.0   \n",
       "1            11.29                  11.29                      331.0   \n",
       "2            11.29                  11.29                      331.0   \n",
       "3            12.17                  12.17                      349.0   \n",
       "\n",
       "   dew_point_temperature_set_1d  wind_chill_set_1d  \\\n",
       "0                         37.18                NaN   \n",
       "1                         35.46                NaN   \n",
       "2                         35.46                NaN   \n",
       "3                         33.97                NaN   \n",
       "\n",
       "  wind_cardinal_direction_set_1d  heat_index_set_1d  \n",
       "0                              N                NaN  \n",
       "1                            NNW                NaN  \n",
       "2                            NNW                NaN  \n",
       "3                             NW                NaN  "
      ]
     },
     "execution_count": 45,
     "metadata": {},
     "output_type": "execute_result"
    }
   ],
   "source": [
    "df_30m.head(4)"
   ]
  },
  {
   "cell_type": "markdown",
   "metadata": {},
   "source": [
    "#### Resample to 60 mintues"
   ]
  },
  {
   "cell_type": "code",
   "execution_count": 46,
   "metadata": {
    "collapsed": true
   },
   "outputs": [],
   "source": [
    "# group by station column to keep timelines together and resample to 30m\n",
    "df_60m = df.groupby('Station_ID').resample('60min').bfill()"
   ]
  },
  {
   "cell_type": "code",
   "execution_count": 49,
   "metadata": {
    "collapsed": true
   },
   "outputs": [],
   "source": [
    "# drop column which is currently duplicate of multiIndex\n",
    "df_60m = df_60m.drop(['Station_ID'], axis=1)"
   ]
  },
  {
   "cell_type": "code",
   "execution_count": 51,
   "metadata": {
    "collapsed": true
   },
   "outputs": [],
   "source": [
    "# reset dataframe for export\n",
    "df_60m = df_60m.reset_index()"
   ]
  },
  {
   "cell_type": "code",
   "execution_count": 53,
   "metadata": {},
   "outputs": [
    {
     "data": {
      "text/html": [
       "<div>\n",
       "<style>\n",
       "    .dataframe thead tr:only-child th {\n",
       "        text-align: right;\n",
       "    }\n",
       "\n",
       "    .dataframe thead th {\n",
       "        text-align: left;\n",
       "    }\n",
       "\n",
       "    .dataframe tbody tr th {\n",
       "        vertical-align: top;\n",
       "    }\n",
       "</style>\n",
       "<table border=\"1\" class=\"dataframe\">\n",
       "  <thead>\n",
       "    <tr style=\"text-align: right;\">\n",
       "      <th></th>\n",
       "      <th>Station_ID</th>\n",
       "      <th>local_datetime</th>\n",
       "      <th>utc_date</th>\n",
       "      <th>air_temp_set_1</th>\n",
       "      <th>relative_humidity_set_1</th>\n",
       "      <th>wind_speed_set_1</th>\n",
       "      <th>wind_direction_set_1</th>\n",
       "      <th>wind_gust_set_1</th>\n",
       "      <th>peak_wind_speed_set_1</th>\n",
       "      <th>peak_wind_direction_set_1</th>\n",
       "      <th>dew_point_temperature_set_1d</th>\n",
       "      <th>wind_chill_set_1d</th>\n",
       "      <th>wind_cardinal_direction_set_1d</th>\n",
       "      <th>heat_index_set_1d</th>\n",
       "    </tr>\n",
       "  </thead>\n",
       "  <tbody>\n",
       "    <tr>\n",
       "      <th>0</th>\n",
       "      <td>DEEM8</td>\n",
       "      <td>2017-06-30 23:00:00-06:00</td>\n",
       "      <td>2017-07-01 05:06:00</td>\n",
       "      <td>57.99</td>\n",
       "      <td>46.0</td>\n",
       "      <td>4.33</td>\n",
       "      <td>360.0</td>\n",
       "      <td>12.17</td>\n",
       "      <td>12.17</td>\n",
       "      <td>17.0</td>\n",
       "      <td>37.18</td>\n",
       "      <td>NaN</td>\n",
       "      <td>N</td>\n",
       "      <td>NaN</td>\n",
       "    </tr>\n",
       "    <tr>\n",
       "      <th>1</th>\n",
       "      <td>DEEM8</td>\n",
       "      <td>2017-07-01 00:00:00-06:00</td>\n",
       "      <td>2017-07-01 06:06:00</td>\n",
       "      <td>57.99</td>\n",
       "      <td>43.0</td>\n",
       "      <td>7.81</td>\n",
       "      <td>340.0</td>\n",
       "      <td>11.29</td>\n",
       "      <td>11.29</td>\n",
       "      <td>331.0</td>\n",
       "      <td>35.46</td>\n",
       "      <td>NaN</td>\n",
       "      <td>NNW</td>\n",
       "      <td>NaN</td>\n",
       "    </tr>\n",
       "    <tr>\n",
       "      <th>2</th>\n",
       "      <td>DEEM8</td>\n",
       "      <td>2017-07-01 01:00:00-06:00</td>\n",
       "      <td>2017-07-01 07:06:00</td>\n",
       "      <td>57.00</td>\n",
       "      <td>42.0</td>\n",
       "      <td>7.81</td>\n",
       "      <td>321.0</td>\n",
       "      <td>12.17</td>\n",
       "      <td>12.17</td>\n",
       "      <td>349.0</td>\n",
       "      <td>33.97</td>\n",
       "      <td>NaN</td>\n",
       "      <td>NW</td>\n",
       "      <td>NaN</td>\n",
       "    </tr>\n",
       "    <tr>\n",
       "      <th>3</th>\n",
       "      <td>DEEM8</td>\n",
       "      <td>2017-07-01 02:00:00-06:00</td>\n",
       "      <td>2017-07-01 08:06:00</td>\n",
       "      <td>57.00</td>\n",
       "      <td>45.0</td>\n",
       "      <td>5.21</td>\n",
       "      <td>325.0</td>\n",
       "      <td>9.56</td>\n",
       "      <td>9.56</td>\n",
       "      <td>321.0</td>\n",
       "      <td>35.71</td>\n",
       "      <td>NaN</td>\n",
       "      <td>NW</td>\n",
       "      <td>NaN</td>\n",
       "    </tr>\n",
       "  </tbody>\n",
       "</table>\n",
       "</div>"
      ],
      "text/plain": [
       "  Station_ID            local_datetime            utc_date  air_temp_set_1  \\\n",
       "0      DEEM8 2017-06-30 23:00:00-06:00 2017-07-01 05:06:00           57.99   \n",
       "1      DEEM8 2017-07-01 00:00:00-06:00 2017-07-01 06:06:00           57.99   \n",
       "2      DEEM8 2017-07-01 01:00:00-06:00 2017-07-01 07:06:00           57.00   \n",
       "3      DEEM8 2017-07-01 02:00:00-06:00 2017-07-01 08:06:00           57.00   \n",
       "\n",
       "   relative_humidity_set_1  wind_speed_set_1  wind_direction_set_1  \\\n",
       "0                     46.0              4.33                 360.0   \n",
       "1                     43.0              7.81                 340.0   \n",
       "2                     42.0              7.81                 321.0   \n",
       "3                     45.0              5.21                 325.0   \n",
       "\n",
       "   wind_gust_set_1  peak_wind_speed_set_1  peak_wind_direction_set_1  \\\n",
       "0            12.17                  12.17                       17.0   \n",
       "1            11.29                  11.29                      331.0   \n",
       "2            12.17                  12.17                      349.0   \n",
       "3             9.56                   9.56                      321.0   \n",
       "\n",
       "   dew_point_temperature_set_1d  wind_chill_set_1d  \\\n",
       "0                         37.18                NaN   \n",
       "1                         35.46                NaN   \n",
       "2                         33.97                NaN   \n",
       "3                         35.71                NaN   \n",
       "\n",
       "  wind_cardinal_direction_set_1d  heat_index_set_1d  \n",
       "0                              N                NaN  \n",
       "1                            NNW                NaN  \n",
       "2                             NW                NaN  \n",
       "3                             NW                NaN  "
      ]
     },
     "execution_count": 53,
     "metadata": {},
     "output_type": "execute_result"
    }
   ],
   "source": [
    "df_60m.head(4)"
   ]
  },
  {
   "cell_type": "code",
   "execution_count": 168,
   "metadata": {
    "collapsed": true
   },
   "outputs": [],
   "source": [
    "# output results\n",
    "df_30m.to_csv('../output/mesowest-weather_night-2017_30m_002.csv', index=False)\n",
    "df_60m.to_csv('../output/mesowest-weather_night-2017_60m_003.csv', index=False)"
   ]
  }
 ],
 "metadata": {
  "kernelspec": {
   "display_name": "Python 3",
   "language": "python",
   "name": "python3"
  },
  "language_info": {
   "codemirror_mode": {
    "name": "ipython",
    "version": 3
   },
   "file_extension": ".py",
   "mimetype": "text/x-python",
   "name": "python",
   "nbconvert_exporter": "python",
   "pygments_lexer": "ipython3",
   "version": "3.6.3"
  }
 },
 "nbformat": 4,
 "nbformat_minor": 2
}
