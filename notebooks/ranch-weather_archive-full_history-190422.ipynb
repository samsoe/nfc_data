{
 "cells": [
  {
   "cell_type": "markdown",
   "metadata": {},
   "source": [
    "# Reshape raw weather data\n",
    "* Weather data is sourced from weather GUI on Orchard House machine"
   ]
  },
  {
   "cell_type": "markdown",
   "metadata": {},
   "source": [
    "### Load and format raw export"
   ]
  },
  {
   "cell_type": "code",
   "execution_count": 1,
   "metadata": {},
   "outputs": [],
   "source": [
    "import pandas as pd"
   ]
  },
  {
   "cell_type": "code",
   "execution_count": 2,
   "metadata": {},
   "outputs": [],
   "source": [
    "full_src = '../src/orchard_house/orchard_house-weather_export-full_history_001-190422.csv'"
   ]
  },
  {
   "cell_type": "code",
   "execution_count": 5,
   "metadata": {},
   "outputs": [],
   "source": [
    "df = pd.read_csv(full_src, parse_dates=['Date Time '])"
   ]
  },
  {
   "cell_type": "code",
   "execution_count": 12,
   "metadata": {},
   "outputs": [],
   "source": [
    "# remove columns\n",
    "df = df.drop(columns=['Day of the Week '])"
   ]
  },
  {
   "cell_type": "code",
   "execution_count": 16,
   "metadata": {},
   "outputs": [],
   "source": [
    "# remove space from 'Date Time ' column\n",
    "df = df.rename(index=str, columns={\"Date Time \": \"datetime\"})"
   ]
  },
  {
   "cell_type": "markdown",
   "metadata": {},
   "source": [
    "### Reshape DataFrame"
   ]
  },
  {
   "cell_type": "code",
   "execution_count": 20,
   "metadata": {},
   "outputs": [],
   "source": [
    "# Unpivots a DataFrame from wide format to long format\n",
    "df = pd.melt(df.reset_index()\n",
    "    , id_vars=['datetime']\n",
    "    , value_vars=['Outside Temperature TX1 (°F)',\n",
    "       'High Outside Temperature TX1 (°F)', 'Low Outside Temperature TX1 (°F)',\n",
    "       'Wind Speed TX1 (mph)', 'High Wind Speed TX1 (mph)',\n",
    "       'Rain Amount TX1 (in)', 'High Rain Rate TX1 (in/hr)',\n",
    "       'Outside Temperature TX2 (°F)', 'High Outside Temperature TX2 (°F)',\n",
    "       'Low Outside Temperature TX2 (°F)', 'Wind Speed TX2 (mph)',\n",
    "       'High Wind Speed TX2 (mph)', 'Rain Amount TX2 (in)',\n",
    "       'High Rain Rate TX2 (in/hr)', 'Outside Temperature TX3 (°F)',\n",
    "       'High Outside Temperature TX3 (°F)', 'Low Outside Temperature TX3 (°F)',\n",
    "       'Wind Speed TX3 (mph)', 'High Wind Speed TX3 (mph)',\n",
    "       'Rain Amount TX3 (in)', 'High Rain Rate TX3 (in/hr)',\n",
    "       'Outside Temperature TX4 (°F)', 'High Outside Temperature TX4 (°F)',\n",
    "       'Low Outside Temperature TX4 (°F)', 'Wind Speed TX4 (mph)',\n",
    "       'High Wind Speed TX4 (mph)', 'Rain Amount TX4 (in)',\n",
    "       'High Rain Rate TX4 (in/hr)', 'Outside Temperature TX5 (°F)',\n",
    "       'High Outside Temperature TX5 (°F)', 'Low Outside Temperature TX5 (°F)',\n",
    "       'Wind Speed TX5 (mph)', 'High Wind Speed TX5 (mph)',\n",
    "       'Rain Amount TX5 (in)', 'High Rain Rate TX5 (in/hr)',\n",
    "       'Outside Temperature TX6 (°F)', 'High Outside Temperature TX6 (°F)',\n",
    "       'Low Outside Temperature TX6 (°F)', 'Wind Speed TX6 (mph)',\n",
    "       'High Wind Speed TX6 (mph)', 'Rain Amount TX6 (in)',\n",
    "       'High Rain Rate TX6 (in/hr)'])"
   ]
  },
  {
   "cell_type": "markdown",
   "metadata": {},
   "source": [
    "### Translate row weather station ID to colloquial name"
   ]
  },
  {
   "cell_type": "code",
   "execution_count": 25,
   "metadata": {},
   "outputs": [],
   "source": [
    "# Add 'location_name' column colloquial convention\n",
    "df.loc[df['variable'].str.contains('TX1'), 'location_name'] = 'baldy summit'\n",
    "df.loc[df['variable'].str.contains('TX2'), 'location_name'] = 'baldy draw'\n",
    "df.loc[df['variable'].str.contains('TX3'), 'location_name'] = 'sanfoin bench'\n",
    "df.loc[df['variable'].str.contains('TX4'), 'location_name'] = 'south baldy ridge'\n",
    "df.loc[df['variable'].str.contains('TX5'), 'location_name'] = 'orchard house'\n",
    "df.loc[df['variable'].str.contains('TX6'), 'location_name'] = 'indian ridge'"
   ]
  },
  {
   "cell_type": "markdown",
   "metadata": {},
   "source": [
    "### remove TX# values\n",
    "* this will allow the columns to be combined"
   ]
  },
  {
   "cell_type": "code",
   "execution_count": 29,
   "metadata": {},
   "outputs": [],
   "source": [
    "val_arr = [' TX1', ' TX2', ' TX3', ' TX4', ' TX5', ' TX6']\n",
    "for val in val_arr:\n",
    "    df['variable'] = df.variable.replace({val:''}, regex=True)"
   ]
  },
  {
   "cell_type": "markdown",
   "metadata": {},
   "source": [
    "### Unstack variable column for legibility"
   ]
  },
  {
   "cell_type": "code",
   "execution_count": 40,
   "metadata": {},
   "outputs": [],
   "source": [
    "df = df.set_index(['location_name', 'datetime', 'variable'])['value'].unstack()\n",
    "df = new_df.sort_index()"
   ]
  },
  {
   "cell_type": "markdown",
   "metadata": {},
   "source": [
    "### Reset index for export"
   ]
  },
  {
   "cell_type": "code",
   "execution_count": 57,
   "metadata": {},
   "outputs": [],
   "source": [
    "df = df.reset_index().set_index('datetime').sort_index()"
   ]
  },
  {
   "cell_type": "code",
   "execution_count": 64,
   "metadata": {},
   "outputs": [
    {
     "data": {
      "text/html": [
       "<div>\n",
       "<style scoped>\n",
       "    .dataframe tbody tr th:only-of-type {\n",
       "        vertical-align: middle;\n",
       "    }\n",
       "\n",
       "    .dataframe tbody tr th {\n",
       "        vertical-align: top;\n",
       "    }\n",
       "\n",
       "    .dataframe thead th {\n",
       "        text-align: right;\n",
       "    }\n",
       "</style>\n",
       "<table border=\"1\" class=\"dataframe\">\n",
       "  <thead>\n",
       "    <tr style=\"text-align: right;\">\n",
       "      <th>variable</th>\n",
       "      <th>location_name</th>\n",
       "      <th>High Outside Temperature (°F)</th>\n",
       "      <th>High Rain Rate (in/hr)</th>\n",
       "      <th>High Wind Speed (mph)</th>\n",
       "      <th>Low Outside Temperature (°F)</th>\n",
       "      <th>Outside Temperature (°F)</th>\n",
       "      <th>Rain Amount (in)</th>\n",
       "      <th>Wind Speed (mph)</th>\n",
       "    </tr>\n",
       "    <tr>\n",
       "      <th>datetime</th>\n",
       "      <th></th>\n",
       "      <th></th>\n",
       "      <th></th>\n",
       "      <th></th>\n",
       "      <th></th>\n",
       "      <th></th>\n",
       "      <th></th>\n",
       "      <th></th>\n",
       "    </tr>\n",
       "  </thead>\n",
       "  <tbody>\n",
       "    <tr>\n",
       "      <th>2019-04-21 17:00:00</th>\n",
       "      <td>orchard house</td>\n",
       "      <td>49.6</td>\n",
       "      <td>0.0</td>\n",
       "      <td>8.0</td>\n",
       "      <td>48.7</td>\n",
       "      <td>49.6</td>\n",
       "      <td>0.0</td>\n",
       "      <td>2.3</td>\n",
       "    </tr>\n",
       "    <tr>\n",
       "      <th>2019-04-21 17:00:00</th>\n",
       "      <td>baldy summit</td>\n",
       "      <td>41.4</td>\n",
       "      <td>0.0</td>\n",
       "      <td>9.0</td>\n",
       "      <td>39.6</td>\n",
       "      <td>41.3</td>\n",
       "      <td>0.0</td>\n",
       "      <td>5.4</td>\n",
       "    </tr>\n",
       "    <tr>\n",
       "      <th>2019-04-21 17:00:00</th>\n",
       "      <td>baldy draw</td>\n",
       "      <td>46.5</td>\n",
       "      <td>0.0</td>\n",
       "      <td>12.0</td>\n",
       "      <td>44.9</td>\n",
       "      <td>46.4</td>\n",
       "      <td>0.0</td>\n",
       "      <td>7.1</td>\n",
       "    </tr>\n",
       "    <tr>\n",
       "      <th>2019-04-21 17:00:00</th>\n",
       "      <td>sanfoin bench</td>\n",
       "      <td>50.0</td>\n",
       "      <td>0.0</td>\n",
       "      <td>9.0</td>\n",
       "      <td>48.4</td>\n",
       "      <td>49.9</td>\n",
       "      <td>0.0</td>\n",
       "      <td>2.6</td>\n",
       "    </tr>\n",
       "    <tr>\n",
       "      <th>2019-04-21 17:00:00</th>\n",
       "      <td>south baldy ridge</td>\n",
       "      <td>45.5</td>\n",
       "      <td>0.0</td>\n",
       "      <td>8.0</td>\n",
       "      <td>43.2</td>\n",
       "      <td>45.5</td>\n",
       "      <td>0.0</td>\n",
       "      <td>3.4</td>\n",
       "    </tr>\n",
       "  </tbody>\n",
       "</table>\n",
       "</div>"
      ],
      "text/plain": [
       "variable                 location_name  High Outside Temperature (°F)  \\\n",
       "datetime                                                                \n",
       "2019-04-21 17:00:00      orchard house                           49.6   \n",
       "2019-04-21 17:00:00       baldy summit                           41.4   \n",
       "2019-04-21 17:00:00         baldy draw                           46.5   \n",
       "2019-04-21 17:00:00      sanfoin bench                           50.0   \n",
       "2019-04-21 17:00:00  south baldy ridge                           45.5   \n",
       "\n",
       "variable             High Rain Rate (in/hr)  High Wind Speed (mph)  \\\n",
       "datetime                                                             \n",
       "2019-04-21 17:00:00                     0.0                    8.0   \n",
       "2019-04-21 17:00:00                     0.0                    9.0   \n",
       "2019-04-21 17:00:00                     0.0                   12.0   \n",
       "2019-04-21 17:00:00                     0.0                    9.0   \n",
       "2019-04-21 17:00:00                     0.0                    8.0   \n",
       "\n",
       "variable             Low Outside Temperature (°F)  Outside Temperature (°F)  \\\n",
       "datetime                                                                      \n",
       "2019-04-21 17:00:00                          48.7                      49.6   \n",
       "2019-04-21 17:00:00                          39.6                      41.3   \n",
       "2019-04-21 17:00:00                          44.9                      46.4   \n",
       "2019-04-21 17:00:00                          48.4                      49.9   \n",
       "2019-04-21 17:00:00                          43.2                      45.5   \n",
       "\n",
       "variable             Rain Amount (in)  Wind Speed (mph)  \n",
       "datetime                                                 \n",
       "2019-04-21 17:00:00               0.0               2.3  \n",
       "2019-04-21 17:00:00               0.0               5.4  \n",
       "2019-04-21 17:00:00               0.0               7.1  \n",
       "2019-04-21 17:00:00               0.0               2.6  \n",
       "2019-04-21 17:00:00               0.0               3.4  "
      ]
     },
     "execution_count": 64,
     "metadata": {},
     "output_type": "execute_result"
    }
   ],
   "source": [
    "df.tail()"
   ]
  },
  {
   "cell_type": "markdown",
   "metadata": {},
   "source": [
    "### Export"
   ]
  },
  {
   "cell_type": "code",
   "execution_count": 67,
   "metadata": {},
   "outputs": [],
   "source": [
    "export_path = '../output/orchard_house/full/reshape/orchard_house-weather_archive-190422.csv'\n",
    "df.to_csv(export_path)"
   ]
  }
 ],
 "metadata": {
  "kernelspec": {
   "display_name": "Python 3",
   "language": "python",
   "name": "python3"
  },
  "language_info": {
   "codemirror_mode": {
    "name": "ipython",
    "version": 3
   },
   "file_extension": ".py",
   "mimetype": "text/x-python",
   "name": "python",
   "nbconvert_exporter": "python",
   "pygments_lexer": "ipython3",
   "version": "3.7.1"
  }
 },
 "nbformat": 4,
 "nbformat_minor": 2
}
