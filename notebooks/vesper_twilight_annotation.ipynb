{
 "cells": [
  {
   "cell_type": "markdown",
   "metadata": {},
   "source": [
    "# Add Classifier columns\n",
    "* Dusk, Dawn, Night\n",
    "* Twilight"
   ]
  },
  {
   "cell_type": "code",
   "execution_count": 1,
   "metadata": {},
   "outputs": [],
   "source": [
    "import pandas as pd"
   ]
  },
  {
   "cell_type": "code",
   "execution_count": 2,
   "metadata": {},
   "outputs": [],
   "source": [
    "df = pd.read_csv('../src/fall2017_aug1_oct31_tseep_thrush_original.csv')"
   ]
  },
  {
   "cell_type": "code",
   "execution_count": 4,
   "metadata": {},
   "outputs": [
    {
     "name": "stdout",
     "output_type": "stream",
     "text": [
      "<class 'pandas.core.frame.DataFrame'>\n",
      "RangeIndex: 189983 entries, 0 to 189982\n",
      "Data columns (total 23 columns):\n",
      "season                   189983 non-null object\n",
      "year                     189983 non-null int64\n",
      "detector                 189983 non-null object\n",
      "species                  188791 non-null object\n",
      "site                     189983 non-null object\n",
      "date                     189983 non-null object\n",
      "recording_start          189983 non-null object\n",
      "recording_length         189983 non-null object\n",
      "detection_time           189983 non-null object\n",
      "real_detection_time      189983 non-null object\n",
      "real_detection_time.1    189983 non-null object\n",
      "rounded_to_half_hour     189983 non-null object\n",
      "duplicate                187890 non-null object\n",
      "sunset                   189983 non-null object\n",
      "civil_dusk               189983 non-null object\n",
      "nautical_dusk            189983 non-null object\n",
      "astronomical_dusk        189983 non-null object\n",
      "astronomical_dawn        189983 non-null object\n",
      "nautical_dawn            189983 non-null object\n",
      "civil_dawn               189983 non-null object\n",
      "sunrise                  189983 non-null object\n",
      "moon_altitude            189983 non-null float64\n",
      "moon_illumination        189983 non-null float64\n",
      "dtypes: float64(2), int64(1), object(20)\n",
      "memory usage: 33.3+ MB\n"
     ]
    }
   ],
   "source": [
    "df.info()"
   ]
  },
  {
   "cell_type": "code",
   "execution_count": 5,
   "metadata": {},
   "outputs": [
    {
     "data": {
      "text/plain": [
       "0    04:41:19\n",
       "1    04:41:28\n",
       "Name: real_detection_time, dtype: object"
      ]
     },
     "execution_count": 5,
     "metadata": {},
     "output_type": "execute_result"
    }
   ],
   "source": [
    "df.real_detection_time.head(2)"
   ]
  },
  {
   "cell_type": "code",
   "execution_count": 6,
   "metadata": {},
   "outputs": [],
   "source": [
    "date_columns = ['real_detection_time.1', 'sunset', 'civil_dusk', 'nautical_dusk', 'astronomical_dusk',\\\n",
    "          'astronomical_dawn', 'nautical_dawn', 'civil_dawn', 'sunrise']"
   ]
  },
  {
   "cell_type": "markdown",
   "metadata": {},
   "source": [
    "### Assign local datetime type"
   ]
  },
  {
   "cell_type": "code",
   "execution_count": null,
   "metadata": {
    "scrolled": true
   },
   "outputs": [],
   "source": [
    "for column in date_columns:\n",
    "    print('Starting....')\n",
    "    df[column] = pd.to_datetime(df.loc[:, column]).dt.tz_localize('US/Mountain')\n",
    "    print(column + ' complete')"
   ]
  },
  {
   "cell_type": "markdown",
   "metadata": {},
   "source": [
    "## Time periods\n",
    "### Dusk and Dawn\n",
    "\n",
    "* 'sunset' <= civil_twilight, dusk < 'civil_dusk'\n",
    "* 'civil_dusk' <= nautical_twilight, dusk < 'nautical_dusk'\n",
    "* 'nautical_dusk' <= astronomical_twilight, dusk < 'astronomical_dusk'\n",
    "* 'astronomical_dusk' <= night, night < 'astronomical_dawn'\n",
    "* 'astronomical_dawn' <= astronomical_twilight, dawn < 'nautical_dawn'\n",
    "* 'nautical_dawn' <= nautical_twilight, dawn < 'civil_dawn'\n",
    "* 'civil_dawn' <= civil_twilight, dawn < 'sunrise'\n",
    "\n",
    "### Columns\n",
    "\n",
    "* twilight\n",
    "* dusk_dawn"
   ]
  },
  {
   "cell_type": "markdown",
   "metadata": {},
   "source": [
    "### Function for classifying detection time"
   ]
  },
  {
   "cell_type": "code",
   "execution_count": 9,
   "metadata": {},
   "outputs": [],
   "source": [
    "def dusk_dawn(row):\n",
    "    detection = row['real_detection_time.1']\n",
    "    \n",
    "    if row['sunset'] <= detection < row['civil_dusk']:\n",
    "        return 'civil_twilight, dusk'\n",
    "    elif row['civil_dusk'] <= detection < row['nautical_dusk']:\n",
    "        return 'nautical_twilight, dusk'\n",
    "    elif row['nautical_dusk'] <= detection < row['astronomical_dusk']:\n",
    "        return 'astronomical_twilight, dusk'\n",
    "    elif row['astronomical_dusk'] <= detection < row['astronomical_dawn']:\n",
    "        return 'night, night'\n",
    "    elif row['astronomical_dawn'] <= detection < row['nautical_dawn']:\n",
    "        return 'astronomical_twilight, dawn'\n",
    "    elif row['nautical_dawn'] <= detection < row['civil_dawn']:\n",
    "        return 'nautical_twilight, dawn'\n",
    "    elif row['civil_dawn'] <= detection < row['sunrise']:\n",
    "        return 'civil_twilight, dawn'\n",
    "    else:\n",
    "        print('Row out of range')"
   ]
  },
  {
   "cell_type": "code",
   "execution_count": 10,
   "metadata": {},
   "outputs": [],
   "source": [
    "df['dusk_dawn'] = df.apply(dusk_dawn, axis=1)"
   ]
  },
  {
   "cell_type": "code",
   "execution_count": 256,
   "metadata": {
    "collapsed": true
   },
   "outputs": [],
   "source": [
    "df = df.drop(['dusk_dawn'], axis=1)"
   ]
  },
  {
   "cell_type": "code",
   "execution_count": 265,
   "metadata": {
    "collapsed": true
   },
   "outputs": [],
   "source": [
    "df.loc[70:80, ['astronomical_dusk', 'real_detection_time.1', 'astronomical_dawn', 'dusk_dawn', 'twilight']];"
   ]
  },
  {
   "cell_type": "code",
   "execution_count": 234,
   "metadata": {
    "collapsed": true
   },
   "outputs": [],
   "source": [
    "df['twilight'], df['dusk_dawn_x'] = df['dusk_dawn'].str.split(', ', 1).str"
   ]
  },
  {
   "cell_type": "code",
   "execution_count": 267,
   "metadata": {},
   "outputs": [
    {
     "data": {
      "text/plain": [
       "night                    134300\n",
       "nautical_twilight         36151\n",
       "astronomical_twilight     17825\n",
       "civil_twilight             1707\n",
       "Name: twilight, dtype: int64"
      ]
     },
     "execution_count": 267,
     "metadata": {},
     "output_type": "execute_result"
    }
   ],
   "source": [
    "df.twilight.value_counts()"
   ]
  },
  {
   "cell_type": "code",
   "execution_count": 268,
   "metadata": {},
   "outputs": [
    {
     "data": {
      "text/plain": [
       "night    134300\n",
       "dawn      50346\n",
       "dusk       5337\n",
       "Name: dusk_dawn, dtype: int64"
      ]
     },
     "execution_count": 268,
     "metadata": {},
     "output_type": "execute_result"
    }
   ],
   "source": [
    "df.dusk_dawn.value_counts()"
   ]
  },
  {
   "cell_type": "code",
   "execution_count": 269,
   "metadata": {
    "collapsed": true
   },
   "outputs": [],
   "source": [
    "df.to_csv('../output/fall2017_aug1_oct31_tseep_thrush_twilight.csv', index=False)"
   ]
  }
 ],
 "metadata": {
  "kernelspec": {
   "display_name": "Python 3",
   "language": "python",
   "name": "python3"
  },
  "language_info": {
   "codemirror_mode": {
    "name": "ipython",
    "version": 3
   },
   "file_extension": ".py",
   "mimetype": "text/x-python",
   "name": "python",
   "nbconvert_exporter": "python",
   "pygments_lexer": "ipython3",
   "version": "3.7.1"
  }
 },
 "nbformat": 4,
 "nbformat_minor": 2
}
