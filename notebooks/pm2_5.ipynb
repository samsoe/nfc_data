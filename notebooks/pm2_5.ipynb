{
 "cells": [
  {
   "cell_type": "markdown",
   "metadata": {},
   "source": [
    "# 24-hour average PM2.5 concentration for MT"
   ]
  },
  {
   "cell_type": "code",
   "execution_count": 2,
   "metadata": {
    "collapsed": true
   },
   "outputs": [],
   "source": [
    "src_xlsx = '../source_data/AllStations_Data.xlsx'"
   ]
  },
  {
   "cell_type": "code",
   "execution_count": 1,
   "metadata": {
    "collapsed": true
   },
   "outputs": [],
   "source": [
    "# Use pandas dataframes\n",
    "import pandas as pd"
   ]
  },
  {
   "cell_type": "code",
   "execution_count": 4,
   "metadata": {},
   "outputs": [],
   "source": [
    "# Read xlsx file\n",
    "data_xls = pd.read_excel(src_xlsx, index=False)"
   ]
  },
  {
   "cell_type": "code",
   "execution_count": 6,
   "metadata": {
    "collapsed": true
   },
   "outputs": [],
   "source": [
    "# Convert xlsx to csv\n",
    "data_xls.to_csv('../source_data/AllStations_Data.csv', encoding='utf-8', index=False)"
   ]
  },
  {
   "cell_type": "code",
   "execution_count": 12,
   "metadata": {
    "collapsed": true
   },
   "outputs": [],
   "source": [
    "# Read csv\n",
    "src_csv = '../source_data/AllStations_Data.csv'\n",
    "df = pd.read_csv(src_csv, parse_dates=True, index_col='Date')"
   ]
  },
  {
   "cell_type": "code",
   "execution_count": 15,
   "metadata": {},
   "outputs": [
    {
     "name": "stdout",
     "output_type": "stream",
     "text": [
      "<class 'pandas.core.frame.DataFrame'>\n",
      "DatetimeIndex: 49 entries, 2017-08-01 to 2017-09-18\n",
      "Data columns (total 22 columns):\n",
      "Eureka                   49 non-null float64\n",
      "Lake McDonald            9 non-null float64\n",
      "Quartz Creek             13 non-null float64\n",
      "Trout Creek              14 non-null float64\n",
      "Arlee                    46 non-null float64\n",
      "Superior                 36 non-null float64\n",
      "Rock Creek               26 non-null float64\n",
      "Condon                   33 non-null float64\n",
      "Alberton                 24 non-null float64\n",
      "Drummond                 30 non-null float64\n",
      "Lolo                     38 non-null float64\n",
      "Stevensville             25 non-null float64\n",
      "Potomac                  18 non-null float64\n",
      "Heart Butte              10 non-null float64\n",
      "Florence                 42 non-null float64\n",
      "Philipsburg              31 non-null float64\n",
      "Lincoln                  32 non-null float64\n",
      "Cut Bank                 18 non-null float64\n",
      "White Sulphur Springs    27 non-null float64\n",
      "Clearwater               43 non-null float64\n",
      "Rainy Lake               39 non-null float64\n",
      "Darby                    12 non-null float64\n",
      "dtypes: float64(22)\n",
      "memory usage: 8.8 KB\n"
     ]
    }
   ],
   "source": [
    "df.info()"
   ]
  },
  {
   "cell_type": "markdown",
   "metadata": {},
   "source": [
    "Data Source:\n",
    "Sarah Coefield, M.S., M.A.\n",
    "Air Quality Specialist\n",
    "Missoula City-County Health Department\n",
    "\n",
    "\"I’ve attached a spreadsheet DEQ sent me this fall with data from all of the monitors deployed around Montana this wildfire season.  The units are all ug/m3 and the data are all the 24-hour average PM2.5 concentration.  I do not have data into October.  DEQ may be able to provide that data (I’ve cc’d Stephen Coe at DEQ).   The data in the attached spreadsheet have not been QA-d, but should still give a good general impression of the wildfire smoke this year.\""
   ]
  },
  {
   "cell_type": "markdown",
   "metadata": {},
   "source": [
    "Information on Particle Pollution\n",
    "\n",
    "https://airnow.gov/index.cfm?action=aqibasics.particle\n",
    "![title](../img/pmwidthgraphic.jpg)"
   ]
  },
  {
   "cell_type": "code",
   "execution_count": null,
   "metadata": {
    "collapsed": true
   },
   "outputs": [],
   "source": []
  }
 ],
 "metadata": {
  "kernelspec": {
   "display_name": "Python 3",
   "language": "python",
   "name": "python3"
  },
  "language_info": {
   "codemirror_mode": {
    "name": "ipython",
    "version": 3
   },
   "file_extension": ".py",
   "mimetype": "text/x-python",
   "name": "python",
   "nbconvert_exporter": "python",
   "pygments_lexer": "ipython3",
   "version": "3.6.3"
  }
 },
 "nbformat": 4,
 "nbformat_minor": 2
}
