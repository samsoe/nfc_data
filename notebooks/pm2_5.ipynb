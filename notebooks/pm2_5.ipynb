{
 "cells": [
  {
   "cell_type": "markdown",
   "metadata": {},
   "source": [
    "# 24-hour average PM2.5 concentration for MT Fall"
   ]
  },
  {
   "cell_type": "code",
   "execution_count": 2,
   "metadata": {
    "collapsed": true
   },
   "outputs": [],
   "source": [
    "# Use pandas dataframes for datastructure\n",
    "import pandas as pd\n",
    "# matplotlib for graphing \n",
    "import matplotlib.pyplot as plt"
   ]
  },
  {
   "cell_type": "code",
   "execution_count": 3,
   "metadata": {
    "collapsed": true
   },
   "outputs": [],
   "source": [
    "# Read csv into DataFrame\n",
    "src_csv = '../../source_data/fallPM2_5_mt.csv'\n",
    "df = pd.read_csv(src_csv, parse_dates=True, index_col='Date')\n",
    "df.columns.name = 'Site'"
   ]
  },
  {
   "cell_type": "code",
   "execution_count": 4,
   "metadata": {
    "scrolled": true
   },
   "outputs": [
    {
     "data": {
      "text/html": [
       "<div>\n",
       "<style>\n",
       "    .dataframe thead tr:only-child th {\n",
       "        text-align: right;\n",
       "    }\n",
       "\n",
       "    .dataframe thead th {\n",
       "        text-align: left;\n",
       "    }\n",
       "\n",
       "    .dataframe tbody tr th {\n",
       "        vertical-align: top;\n",
       "    }\n",
       "</style>\n",
       "<table border=\"1\" class=\"dataframe\">\n",
       "  <thead>\n",
       "    <tr style=\"text-align: right;\">\n",
       "      <th>Site</th>\n",
       "      <th>Eureka</th>\n",
       "      <th>Lake McDonald</th>\n",
       "      <th>Quartz Creek</th>\n",
       "      <th>Trout Creek</th>\n",
       "      <th>Arlee</th>\n",
       "      <th>Superior</th>\n",
       "      <th>Rock Creek</th>\n",
       "      <th>Condon</th>\n",
       "      <th>Alberton</th>\n",
       "      <th>Drummond</th>\n",
       "      <th>...</th>\n",
       "      <th>Potomac</th>\n",
       "      <th>Heart Butte</th>\n",
       "      <th>Florence</th>\n",
       "      <th>Philipsburg</th>\n",
       "      <th>Lincoln</th>\n",
       "      <th>Cut Bank</th>\n",
       "      <th>White Sulphur Springs</th>\n",
       "      <th>Clearwater</th>\n",
       "      <th>Rainy Lake</th>\n",
       "      <th>Darby</th>\n",
       "    </tr>\n",
       "    <tr>\n",
       "      <th>Date</th>\n",
       "      <th></th>\n",
       "      <th></th>\n",
       "      <th></th>\n",
       "      <th></th>\n",
       "      <th></th>\n",
       "      <th></th>\n",
       "      <th></th>\n",
       "      <th></th>\n",
       "      <th></th>\n",
       "      <th></th>\n",
       "      <th></th>\n",
       "      <th></th>\n",
       "      <th></th>\n",
       "      <th></th>\n",
       "      <th></th>\n",
       "      <th></th>\n",
       "      <th></th>\n",
       "      <th></th>\n",
       "      <th></th>\n",
       "      <th></th>\n",
       "      <th></th>\n",
       "    </tr>\n",
       "  </thead>\n",
       "  <tbody>\n",
       "    <tr>\n",
       "      <th>2017-08-01</th>\n",
       "      <td>3.083333</td>\n",
       "      <td>NaN</td>\n",
       "      <td>400.541667</td>\n",
       "      <td>NaN</td>\n",
       "      <td>35.2</td>\n",
       "      <td>399.2</td>\n",
       "      <td>NaN</td>\n",
       "      <td>NaN</td>\n",
       "      <td>NaN</td>\n",
       "      <td>NaN</td>\n",
       "      <td>...</td>\n",
       "      <td>NaN</td>\n",
       "      <td>NaN</td>\n",
       "      <td>NaN</td>\n",
       "      <td>54.2</td>\n",
       "      <td>NaN</td>\n",
       "      <td>NaN</td>\n",
       "      <td>NaN</td>\n",
       "      <td>NaN</td>\n",
       "      <td>NaN</td>\n",
       "      <td>NaN</td>\n",
       "    </tr>\n",
       "    <tr>\n",
       "      <th>2017-08-02</th>\n",
       "      <td>6.666667</td>\n",
       "      <td>NaN</td>\n",
       "      <td>240.666667</td>\n",
       "      <td>NaN</td>\n",
       "      <td>NaN</td>\n",
       "      <td>240.7</td>\n",
       "      <td>NaN</td>\n",
       "      <td>NaN</td>\n",
       "      <td>30.7</td>\n",
       "      <td>NaN</td>\n",
       "      <td>...</td>\n",
       "      <td>NaN</td>\n",
       "      <td>NaN</td>\n",
       "      <td>39.666667</td>\n",
       "      <td>21.6</td>\n",
       "      <td>NaN</td>\n",
       "      <td>NaN</td>\n",
       "      <td>NaN</td>\n",
       "      <td>NaN</td>\n",
       "      <td>NaN</td>\n",
       "      <td>NaN</td>\n",
       "    </tr>\n",
       "    <tr>\n",
       "      <th>2017-08-03</th>\n",
       "      <td>9.166667</td>\n",
       "      <td>NaN</td>\n",
       "      <td>156.583333</td>\n",
       "      <td>NaN</td>\n",
       "      <td>40.4</td>\n",
       "      <td>156.3</td>\n",
       "      <td>NaN</td>\n",
       "      <td>NaN</td>\n",
       "      <td>14.9</td>\n",
       "      <td>NaN</td>\n",
       "      <td>...</td>\n",
       "      <td>NaN</td>\n",
       "      <td>NaN</td>\n",
       "      <td>20.458333</td>\n",
       "      <td>8.8</td>\n",
       "      <td>NaN</td>\n",
       "      <td>NaN</td>\n",
       "      <td>NaN</td>\n",
       "      <td>NaN</td>\n",
       "      <td>NaN</td>\n",
       "      <td>NaN</td>\n",
       "    </tr>\n",
       "    <tr>\n",
       "      <th>2017-08-04</th>\n",
       "      <td>37.958333</td>\n",
       "      <td>NaN</td>\n",
       "      <td>471.086957</td>\n",
       "      <td>NaN</td>\n",
       "      <td>70.6</td>\n",
       "      <td>NaN</td>\n",
       "      <td>NaN</td>\n",
       "      <td>NaN</td>\n",
       "      <td>34.8</td>\n",
       "      <td>NaN</td>\n",
       "      <td>...</td>\n",
       "      <td>NaN</td>\n",
       "      <td>NaN</td>\n",
       "      <td>38.583333</td>\n",
       "      <td>54.5</td>\n",
       "      <td>NaN</td>\n",
       "      <td>NaN</td>\n",
       "      <td>NaN</td>\n",
       "      <td>NaN</td>\n",
       "      <td>NaN</td>\n",
       "      <td>NaN</td>\n",
       "    </tr>\n",
       "    <tr>\n",
       "      <th>2017-08-05</th>\n",
       "      <td>31.291667</td>\n",
       "      <td>NaN</td>\n",
       "      <td>198.333333</td>\n",
       "      <td>NaN</td>\n",
       "      <td>51.0</td>\n",
       "      <td>198.1</td>\n",
       "      <td>NaN</td>\n",
       "      <td>NaN</td>\n",
       "      <td>NaN</td>\n",
       "      <td>NaN</td>\n",
       "      <td>...</td>\n",
       "      <td>NaN</td>\n",
       "      <td>NaN</td>\n",
       "      <td>33.083333</td>\n",
       "      <td>21.8</td>\n",
       "      <td>NaN</td>\n",
       "      <td>NaN</td>\n",
       "      <td>NaN</td>\n",
       "      <td>14.0</td>\n",
       "      <td>NaN</td>\n",
       "      <td>NaN</td>\n",
       "    </tr>\n",
       "  </tbody>\n",
       "</table>\n",
       "<p>5 rows × 22 columns</p>\n",
       "</div>"
      ],
      "text/plain": [
       "Site           Eureka  Lake McDonald  Quartz Creek  Trout Creek  Arlee  \\\n",
       "Date                                                                     \n",
       "2017-08-01   3.083333            NaN    400.541667          NaN   35.2   \n",
       "2017-08-02   6.666667            NaN    240.666667          NaN    NaN   \n",
       "2017-08-03   9.166667            NaN    156.583333          NaN   40.4   \n",
       "2017-08-04  37.958333            NaN    471.086957          NaN   70.6   \n",
       "2017-08-05  31.291667            NaN    198.333333          NaN   51.0   \n",
       "\n",
       "Site        Superior  Rock Creek  Condon  Alberton  Drummond  ...    Potomac  \\\n",
       "Date                                                          ...              \n",
       "2017-08-01     399.2         NaN     NaN       NaN       NaN  ...        NaN   \n",
       "2017-08-02     240.7         NaN     NaN      30.7       NaN  ...        NaN   \n",
       "2017-08-03     156.3         NaN     NaN      14.9       NaN  ...        NaN   \n",
       "2017-08-04       NaN         NaN     NaN      34.8       NaN  ...        NaN   \n",
       "2017-08-05     198.1         NaN     NaN       NaN       NaN  ...        NaN   \n",
       "\n",
       "Site        Heart Butte   Florence  Philipsburg  Lincoln  Cut Bank  \\\n",
       "Date                                                                 \n",
       "2017-08-01          NaN        NaN         54.2      NaN       NaN   \n",
       "2017-08-02          NaN  39.666667         21.6      NaN       NaN   \n",
       "2017-08-03          NaN  20.458333          8.8      NaN       NaN   \n",
       "2017-08-04          NaN  38.583333         54.5      NaN       NaN   \n",
       "2017-08-05          NaN  33.083333         21.8      NaN       NaN   \n",
       "\n",
       "Site        White Sulphur Springs  Clearwater  Rainy Lake  Darby  \n",
       "Date                                                              \n",
       "2017-08-01                    NaN         NaN         NaN    NaN  \n",
       "2017-08-02                    NaN         NaN         NaN    NaN  \n",
       "2017-08-03                    NaN         NaN         NaN    NaN  \n",
       "2017-08-04                    NaN         NaN         NaN    NaN  \n",
       "2017-08-05                    NaN        14.0         NaN    NaN  \n",
       "\n",
       "[5 rows x 22 columns]"
      ]
     },
     "execution_count": 4,
     "metadata": {},
     "output_type": "execute_result"
    }
   ],
   "source": [
    "# DataFrame info\n",
    "df.head()"
   ]
  },
  {
   "cell_type": "code",
   "execution_count": 46,
   "metadata": {},
   "outputs": [
    {
     "data": {
      "text/plain": [
       "Index(['Eureka', 'Lake McDonald', 'Quartz Creek', 'Trout Creek', 'Arlee',\n",
       "       'Superior', 'Rock Creek', 'Condon', 'Alberton', 'Drummond', 'Lolo',\n",
       "       'Stevensville', 'Potomac', 'Heart Butte', 'Florence', 'Philipsburg',\n",
       "       'Lincoln', 'Cut Bank', 'White Sulphur Springs', 'Clearwater',\n",
       "       'Rainy Lake', 'Darby'],\n",
       "      dtype='object', name='Site')"
      ]
     },
     "execution_count": 46,
     "metadata": {},
     "output_type": "execute_result"
    }
   ],
   "source": [
    "df.columns"
   ]
  },
  {
   "cell_type": "code",
   "execution_count": 5,
   "metadata": {},
   "outputs": [
    {
     "data": {
      "text/html": [
       "<div>\n",
       "<style>\n",
       "    .dataframe thead tr:only-child th {\n",
       "        text-align: right;\n",
       "    }\n",
       "\n",
       "    .dataframe thead th {\n",
       "        text-align: left;\n",
       "    }\n",
       "\n",
       "    .dataframe tbody tr th {\n",
       "        vertical-align: top;\n",
       "    }\n",
       "</style>\n",
       "<table border=\"1\" class=\"dataframe\">\n",
       "  <thead>\n",
       "    <tr style=\"text-align: right;\">\n",
       "      <th></th>\n",
       "      <th></th>\n",
       "      <th>pm2_5</th>\n",
       "    </tr>\n",
       "    <tr>\n",
       "      <th>Site</th>\n",
       "      <th>Date</th>\n",
       "      <th></th>\n",
       "    </tr>\n",
       "  </thead>\n",
       "  <tbody>\n",
       "    <tr>\n",
       "      <th rowspan=\"5\" valign=\"top\">Alberton</th>\n",
       "      <th>2017-08-02</th>\n",
       "      <td>30.7</td>\n",
       "    </tr>\n",
       "    <tr>\n",
       "      <th>2017-08-03</th>\n",
       "      <td>14.9</td>\n",
       "    </tr>\n",
       "    <tr>\n",
       "      <th>2017-08-04</th>\n",
       "      <td>34.8</td>\n",
       "    </tr>\n",
       "    <tr>\n",
       "      <th>2017-08-06</th>\n",
       "      <td>13.0</td>\n",
       "    </tr>\n",
       "    <tr>\n",
       "      <th>2017-08-07</th>\n",
       "      <td>16.0</td>\n",
       "    </tr>\n",
       "  </tbody>\n",
       "</table>\n",
       "</div>"
      ],
      "text/plain": [
       "                     pm2_5\n",
       "Site     Date             \n",
       "Alberton 2017-08-02   30.7\n",
       "         2017-08-03   14.9\n",
       "         2017-08-04   34.8\n",
       "         2017-08-06   13.0\n",
       "         2017-08-07   16.0"
      ]
     },
     "execution_count": 5,
     "metadata": {},
     "output_type": "execute_result"
    }
   ],
   "source": [
    "# Restack by site and date\n",
    "new_stack = df.stack().swaplevel(0,1).sort_index()\n",
    "new_stack = pd.DataFrame(new_stack)\n",
    "new_stack.columns = ['pm2_5']\n",
    "new_stack.head()"
   ]
  },
  {
   "cell_type": "code",
   "execution_count": 40,
   "metadata": {},
   "outputs": [
    {
     "data": {
      "text/html": [
       "<div>\n",
       "<style>\n",
       "    .dataframe thead tr:only-child th {\n",
       "        text-align: right;\n",
       "    }\n",
       "\n",
       "    .dataframe thead th {\n",
       "        text-align: left;\n",
       "    }\n",
       "\n",
       "    .dataframe tbody tr th {\n",
       "        vertical-align: top;\n",
       "    }\n",
       "</style>\n",
       "<table border=\"1\" class=\"dataframe\">\n",
       "  <thead>\n",
       "    <tr style=\"text-align: right;\">\n",
       "      <th></th>\n",
       "      <th>Site</th>\n",
       "      <th>Date</th>\n",
       "      <th>pm2_5</th>\n",
       "    </tr>\n",
       "  </thead>\n",
       "  <tbody>\n",
       "    <tr>\n",
       "      <th>0</th>\n",
       "      <td>Florence</td>\n",
       "      <td>2017-08-02</td>\n",
       "      <td>39.666667</td>\n",
       "    </tr>\n",
       "    <tr>\n",
       "      <th>1</th>\n",
       "      <td>Florence</td>\n",
       "      <td>2017-08-03</td>\n",
       "      <td>20.458333</td>\n",
       "    </tr>\n",
       "    <tr>\n",
       "      <th>2</th>\n",
       "      <td>Florence</td>\n",
       "      <td>2017-08-04</td>\n",
       "      <td>38.583333</td>\n",
       "    </tr>\n",
       "    <tr>\n",
       "      <th>3</th>\n",
       "      <td>Florence</td>\n",
       "      <td>2017-08-05</td>\n",
       "      <td>33.083333</td>\n",
       "    </tr>\n",
       "    <tr>\n",
       "      <th>4</th>\n",
       "      <td>Florence</td>\n",
       "      <td>2017-08-06</td>\n",
       "      <td>26.541667</td>\n",
       "    </tr>\n",
       "  </tbody>\n",
       "</table>\n",
       "</div>"
      ],
      "text/plain": [
       "       Site       Date      pm2_5\n",
       "0  Florence 2017-08-02  39.666667\n",
       "1  Florence 2017-08-03  20.458333\n",
       "2  Florence 2017-08-04  38.583333\n",
       "3  Florence 2017-08-05  33.083333\n",
       "4  Florence 2017-08-06  26.541667"
      ]
     },
     "execution_count": 40,
     "metadata": {},
     "output_type": "execute_result"
    }
   ],
   "source": []
  },
  {
   "cell_type": "code",
   "execution_count": 53,
   "metadata": {},
   "outputs": [
    {
     "data": {
      "image/png": "[encoded data removed]",
      "text/plain": [
       "<matplotlib.figure.Figure at 0x11b098320>"
      ]
     },
     "metadata": {},
     "output_type": "display_data"
    },
    {
     "data": {
      "image/png": "[encoded data removed]",
      "text/plain": [
       "<matplotlib.figure.Figure at 0x11b16c400>"
      ]
     },
     "metadata": {},
     "output_type": "display_data"
    },
    {
     "data": {
      "image/png": "[encoded data removed]",
      "text/plain": [
       "<matplotlib.figure.Figure at 0x11b495c18>"
      ]
     },
     "metadata": {},
     "output_type": "display_data"
    }
   ],
   "source": [
    "# Set up matplotlib for plotting in the notebook.\n",
    "%matplotlib inline\n",
    "import matplotlib.pyplot as plt\n",
    "\n",
    "def plot_trends(station):\n",
    "    data = new_stack.loc[[station, 'Date'], :].reset_index()\n",
    "    ax = data.plot(x=\"Date\", y=\"pm2_5\")\n",
    "    ax.set_title(data['Site'][0])\n",
    "    return ax  # not sure this needs to be here\n",
    "\n",
    "# Plot trends for Florence weather station\n",
    "stations = ['Florence', 'Stevensville', 'Rock Creek']\n",
    "for station in stations:\n",
    "    plot_trends(station)"
   ]
  },
  {
   "cell_type": "markdown",
   "metadata": {},
   "source": [
    "Data Source:\n",
    "Sarah Coefield, M.S., M.A.\n",
    "Air Quality Specialist\n",
    "Missoula City-County Health Department\n",
    "\n",
    "\"I’ve attached a spreadsheet DEQ sent me this fall with data from all of the monitors deployed around Montana this wildfire season.  The units are all ug/m3 and the data are all the 24-hour average PM2.5 concentration.  I do not have data into October.  DEQ may be able to provide that data (I’ve cc’d Stephen Coe at DEQ).   The data in the attached spreadsheet have not been QA-d, but should still give a good general impression of the wildfire smoke this year.\""
   ]
  },
  {
   "cell_type": "markdown",
   "metadata": {},
   "source": [
    "Information on Particle Pollution\n",
    "\n",
    "https://airnow.gov/index.cfm?action=aqibasics.particle\n",
    "![title](../img/pmwidthgraphic.jpg)"
   ]
  }
 ],
 "metadata": {
  "kernelspec": {
   "display_name": "Python 3",
   "language": "python",
   "name": "python3"
  },
  "language_info": {
   "codemirror_mode": {
    "name": "ipython",
    "version": 3
   },
   "file_extension": ".py",
   "mimetype": "text/x-python",
   "name": "python",
   "nbconvert_exporter": "python",
   "pygments_lexer": "ipython3",
   "version": "3.6.3"
  }
 },
 "nbformat": 4,
 "nbformat_minor": 2
}
