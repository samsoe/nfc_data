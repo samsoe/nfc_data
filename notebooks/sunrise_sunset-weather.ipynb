{
 "cells": [
  {
   "cell_type": "markdown",
   "metadata": {},
   "source": [
    "![caption](https://www.codeproject.com/KB/database/Visual_SQL_Joins/INNER_JOIN.png)\n",
    "## Filter / Slice data from weather stations between sunset and sunrise\n",
    "* Datetime index weather and night_light / sunrise_sunset Data\n",
    "* Options\n",
    "    * [slice by date_time](https://www.reddit.com/r/learnpython/comments/4o6bsp/how_do_i_slice_a_pandas_data_frame_according_to_a/)\n",
    "    * Inner join sunrise_df with sunrise_df"
   ]
  },
  {
   "cell_type": "markdown",
   "metadata": {},
   "source": [
    "### Load Tools"
   ]
  },
  {
   "cell_type": "code",
   "execution_count": 3,
   "metadata": {
    "collapsed": true
   },
   "outputs": [],
   "source": [
    "import pandas as pd\n",
    "import os.path"
   ]
  },
  {
   "cell_type": "markdown",
   "metadata": {},
   "source": [
    "### Function for saving results"
   ]
  },
  {
   "cell_type": "code",
   "execution_count": 4,
   "metadata": {
    "collapsed": true
   },
   "outputs": [],
   "source": [
    "def save_results(weather_night):\n",
    "    filepath = '../output/weather_night-180801.csv'\n",
    "    if os.path.isfile(filepath):\n",
    "        with open(filepath, 'a') as f:\n",
    "            weather_night.to_csv(f, header=False, index=False)\n",
    "    else:\n",
    "        weather_night.to_csv(filepath, index=False)"
   ]
  },
  {
   "cell_type": "markdown",
   "metadata": {},
   "source": [
    "### Load weather data"
   ]
  },
  {
   "cell_type": "code",
   "execution_count": 5,
   "metadata": {
    "collapsed": true
   },
   "outputs": [],
   "source": [
    "# Load weather station data\n",
    "weather_src = '../output/weather-170701_171031.csv'\n",
    "weather_df = pd.read_csv(weather_src, parse_dates=['utc_date'])"
   ]
  },
  {
   "cell_type": "code",
   "execution_count": 38,
   "metadata": {
    "collapsed": true
   },
   "outputs": [
    {
     "name": "stdout",
     "output_type": "stream",
     "text": [
      "<class 'pandas.core.frame.DataFrame'>\n",
      "RangeIndex: 727764 entries, 0 to 727763\n",
      "Data columns (total 23 columns):\n",
      "utc_date         727764 non-null datetime64[ns]\n",
      "station_id       727764 non-null object\n",
      "dewpti           727764 non-null float64\n",
      "dewptm           727764 non-null float64\n",
      "heatindexi       727764 non-null float64\n",
      "heatindexm       727764 non-null float64\n",
      "hum              727764 non-null int64\n",
      "precip_ratei     727764 non-null float64\n",
      "precip_ratem     727764 non-null float64\n",
      "precip_totali    727764 non-null float64\n",
      "precip_totalm    727764 non-null float64\n",
      "pressurei        727764 non-null float64\n",
      "pressurem        727764 non-null float64\n",
      "tempi            727764 non-null float64\n",
      "tempm            727764 non-null float64\n",
      "wdird            727764 non-null int64\n",
      "wdire            727764 non-null object\n",
      "wgusti           727764 non-null float64\n",
      "wgustm           727764 non-null float64\n",
      "windchilli       727764 non-null float64\n",
      "windchillm       727764 non-null float64\n",
      "wspdi            727764 non-null float64\n",
      "wspdm            727764 non-null float64\n",
      "dtypes: datetime64[ns](1), float64(18), int64(2), object(2)\n",
      "memory usage: 127.7+ MB\n"
     ]
    }
   ],
   "source": [
    "weather_df.info()"
   ]
  },
  {
   "cell_type": "code",
   "execution_count": 39,
   "metadata": {
    "scrolled": true
   },
   "outputs": [
    {
     "data": {
      "text/html": [
       "<div>\n",
       "<style>\n",
       "    .dataframe thead tr:only-child th {\n",
       "        text-align: right;\n",
       "    }\n",
       "\n",
       "    .dataframe thead th {\n",
       "        text-align: left;\n",
       "    }\n",
       "\n",
       "    .dataframe tbody tr th {\n",
       "        vertical-align: top;\n",
       "    }\n",
       "</style>\n",
       "<table border=\"1\" class=\"dataframe\">\n",
       "  <thead>\n",
       "    <tr style=\"text-align: right;\">\n",
       "      <th></th>\n",
       "      <th>utc_date</th>\n",
       "      <th>station_id</th>\n",
       "      <th>dewpti</th>\n",
       "      <th>dewptm</th>\n",
       "      <th>heatindexi</th>\n",
       "      <th>heatindexm</th>\n",
       "      <th>hum</th>\n",
       "      <th>precip_ratei</th>\n",
       "      <th>precip_ratem</th>\n",
       "      <th>precip_totali</th>\n",
       "      <th>...</th>\n",
       "      <th>tempi</th>\n",
       "      <th>tempm</th>\n",
       "      <th>wdird</th>\n",
       "      <th>wdire</th>\n",
       "      <th>wgusti</th>\n",
       "      <th>wgustm</th>\n",
       "      <th>windchilli</th>\n",
       "      <th>windchillm</th>\n",
       "      <th>wspdi</th>\n",
       "      <th>wspdm</th>\n",
       "    </tr>\n",
       "  </thead>\n",
       "  <tbody>\n",
       "    <tr>\n",
       "      <th>0</th>\n",
       "      <td>2017-07-01 06:12:00</td>\n",
       "      <td>KMTCORVA9</td>\n",
       "      <td>47.5</td>\n",
       "      <td>8.6</td>\n",
       "      <td>-9999.0</td>\n",
       "      <td>-9999.0</td>\n",
       "      <td>66</td>\n",
       "      <td>-99.99</td>\n",
       "      <td>-2539.7</td>\n",
       "      <td>0.0</td>\n",
       "      <td>...</td>\n",
       "      <td>58.8</td>\n",
       "      <td>14.9</td>\n",
       "      <td>112</td>\n",
       "      <td>ESE</td>\n",
       "      <td>-999.0</td>\n",
       "      <td>-1607.4</td>\n",
       "      <td>-999.0</td>\n",
       "      <td>-999.0</td>\n",
       "      <td>0.0</td>\n",
       "      <td>0.0</td>\n",
       "    </tr>\n",
       "  </tbody>\n",
       "</table>\n",
       "<p>1 rows × 23 columns</p>\n",
       "</div>"
      ],
      "text/plain": [
       "             utc_date station_id  dewpti  dewptm  heatindexi  heatindexm  hum  \\\n",
       "0 2017-07-01 06:12:00  KMTCORVA9    47.5     8.6     -9999.0     -9999.0   66   \n",
       "\n",
       "   precip_ratei  precip_ratem  precip_totali  ...    tempi  tempm  wdird  \\\n",
       "0        -99.99       -2539.7            0.0  ...     58.8   14.9    112   \n",
       "\n",
       "   wdire  wgusti  wgustm windchilli  windchillm  wspdi  wspdm  \n",
       "0    ESE  -999.0 -1607.4     -999.0      -999.0    0.0    0.0  \n",
       "\n",
       "[1 rows x 23 columns]"
      ]
     },
     "execution_count": 39,
     "metadata": {},
     "output_type": "execute_result"
    }
   ],
   "source": [
    "weather_df.head(1)"
   ]
  },
  {
   "cell_type": "markdown",
   "metadata": {},
   "source": [
    "### Load night_light / sunrise_sunset data"
   ]
  },
  {
   "cell_type": "code",
   "execution_count": 6,
   "metadata": {
    "collapsed": true
   },
   "outputs": [],
   "source": [
    "# Load sunrise_sunset data\n",
    "sun_src = '../output/sunrise_sunset-utc_append.csv'\n",
    "sun_df = pd.read_csv(sun_src, parse_dates=['astronomical_twilight_begin', 'astronomical_twilight_end',\n",
    "       'civil_twilight_begin', 'civil_twilight_end', 'date', 'day_length',\n",
    "       'nautical_twilight_begin', 'nautical_twilight_end', 'solar_noon',\n",
    "       'station_id', 'sunrise', 'sunset'], index_col=[4])\n",
    "sun_df['utc_date'] = sun_df.index"
   ]
  },
  {
   "cell_type": "code",
   "execution_count": 8,
   "metadata": {
    "collapsed": true
   },
   "outputs": [
    {
     "name": "stdout",
     "output_type": "stream",
     "text": [
      "<class 'pandas.core.frame.DataFrame'>\n",
      "DatetimeIndex: 4216 entries, 2017-06-30 to 2017-10-31\n",
      "Data columns (total 12 columns):\n",
      "astronomical_twilight_begin    4216 non-null datetime64[ns]\n",
      "astronomical_twilight_end      4216 non-null datetime64[ns]\n",
      "civil_twilight_begin           4216 non-null datetime64[ns]\n",
      "civil_twilight_end             4216 non-null datetime64[ns]\n",
      "day_length                     4216 non-null object\n",
      "nautical_twilight_begin        4216 non-null datetime64[ns]\n",
      "nautical_twilight_end          4216 non-null datetime64[ns]\n",
      "solar_noon                     4216 non-null datetime64[ns]\n",
      "station_id                     4216 non-null object\n",
      "sunrise                        4216 non-null datetime64[ns]\n",
      "sunset                         4216 non-null datetime64[ns]\n",
      "utc_date                       4216 non-null datetime64[ns]\n",
      "dtypes: datetime64[ns](10), object(2)\n",
      "memory usage: 428.2+ KB\n"
     ]
    }
   ],
   "source": [
    "sun_df.info()"
   ]
  },
  {
   "cell_type": "code",
   "execution_count": 37,
   "metadata": {},
   "outputs": [
    {
     "data": {
      "text/html": [
       "<div>\n",
       "<style>\n",
       "    .dataframe thead tr:only-child th {\n",
       "        text-align: right;\n",
       "    }\n",
       "\n",
       "    .dataframe thead th {\n",
       "        text-align: left;\n",
       "    }\n",
       "\n",
       "    .dataframe tbody tr th {\n",
       "        vertical-align: top;\n",
       "    }\n",
       "</style>\n",
       "<table border=\"1\" class=\"dataframe\">\n",
       "  <thead>\n",
       "    <tr style=\"text-align: right;\">\n",
       "      <th></th>\n",
       "      <th>astronomical_twilight_begin</th>\n",
       "      <th>astronomical_twilight_end</th>\n",
       "      <th>civil_twilight_begin</th>\n",
       "      <th>civil_twilight_end</th>\n",
       "      <th>day_length</th>\n",
       "      <th>nautical_twilight_begin</th>\n",
       "      <th>nautical_twilight_end</th>\n",
       "      <th>solar_noon</th>\n",
       "      <th>station_id</th>\n",
       "      <th>sunrise</th>\n",
       "      <th>sunset</th>\n",
       "      <th>utc_date</th>\n",
       "    </tr>\n",
       "    <tr>\n",
       "      <th>date</th>\n",
       "      <th></th>\n",
       "      <th></th>\n",
       "      <th></th>\n",
       "      <th></th>\n",
       "      <th></th>\n",
       "      <th></th>\n",
       "      <th></th>\n",
       "      <th></th>\n",
       "      <th></th>\n",
       "      <th></th>\n",
       "      <th></th>\n",
       "      <th></th>\n",
       "    </tr>\n",
       "  </thead>\n",
       "  <tbody>\n",
       "    <tr>\n",
       "      <th>2017-06-30</th>\n",
       "      <td>2017-06-30 09:05:17</td>\n",
       "      <td>2017-07-01 06:14:50</td>\n",
       "      <td>2017-06-30 11:09:41</td>\n",
       "      <td>2017-07-01 04:10:26</td>\n",
       "      <td>56621</td>\n",
       "      <td>2017-06-30 10:17:42</td>\n",
       "      <td>2017-07-01 05:02:26</td>\n",
       "      <td>2017-06-30 19:40:04</td>\n",
       "      <td>KMTCORVA9</td>\n",
       "      <td>2017-06-30 11:48:13</td>\n",
       "      <td>2017-07-01 03:31:54</td>\n",
       "      <td>2017-06-30</td>\n",
       "    </tr>\n",
       "  </tbody>\n",
       "</table>\n",
       "</div>"
      ],
      "text/plain": [
       "           astronomical_twilight_begin astronomical_twilight_end  \\\n",
       "date                                                               \n",
       "2017-06-30         2017-06-30 09:05:17       2017-07-01 06:14:50   \n",
       "\n",
       "           civil_twilight_begin  civil_twilight_end day_length  \\\n",
       "date                                                             \n",
       "2017-06-30  2017-06-30 11:09:41 2017-07-01 04:10:26      56621   \n",
       "\n",
       "           nautical_twilight_begin nautical_twilight_end          solar_noon  \\\n",
       "date                                                                           \n",
       "2017-06-30     2017-06-30 10:17:42   2017-07-01 05:02:26 2017-06-30 19:40:04   \n",
       "\n",
       "           station_id             sunrise              sunset   utc_date  \n",
       "date                                                                      \n",
       "2017-06-30  KMTCORVA9 2017-06-30 11:48:13 2017-07-01 03:31:54 2017-06-30  "
      ]
     },
     "execution_count": 37,
     "metadata": {},
     "output_type": "execute_result"
    }
   ],
   "source": [
    "sun_df.head(1)"
   ]
  },
  {
   "cell_type": "markdown",
   "metadata": {},
   "source": [
    "### Go through DataFrame row by row\n",
    "* retrieve weather_df row 'station_id' and 'utc_date\n",
    "* if row datetime is in sunset to sunrise range, keep it"
   ]
  },
  {
   "cell_type": "code",
   "execution_count": 35,
   "metadata": {
    "collapsed": true
   },
   "outputs": [],
   "source": [
    "def light_weather(sun_df, weather_df):\n",
    "    # Setup empty DataFrame with weather_df columns\n",
    "    weather_night = pd.DataFrame(data=None, columns=weather_df.columns)\n",
    "    \n",
    "    for index, row in weather_df[:1].iterrows():\n",
    "        weather_station = row['station_id']\n",
    "        weather_date = row['utc_date']\n",
    "        \n",
    "        print('*****')\n",
    "        print('Station :', weather_station, 'Index :', index)\n",
    "        print('Weatherstation DateTime:', weather_date)\n",
    "        \n",
    "        # Set date range\n",
    "        max_date = pd.to_datetime('2017-11-01')\n",
    "        min_date = pd.to_datetime('2017-06-30')\n",
    "        \n",
    "        try:\n",
    "            # Retrieve Sunset datetime\n",
    "            sunset_select = sun_df.loc[weather_date.date() - pd.DateOffset(days=1)]\n",
    "            sunset_select = sunset_select.loc[sunset_select['station_id'] == weather_station]\n",
    "            sunset = sunset_select['sunset'][0]\n",
    "\n",
    "            # Retrieve Sunrise datetime\n",
    "            sunrise_select = sun_df.loc[weather_date.date()]\n",
    "            sunrise_select = sunrise_select.loc[sunrise_select['station_id'] == weather_station]\n",
    "            sunrise = sunrise_select['sunrise'][0]\n",
    "\n",
    "            print('-')\n",
    "            print('Sunset UTC DateTime:', sunset)\n",
    "\n",
    "            print('Sunrise UTC DateTime:', sunrise)\n",
    "\n",
    "            if (weather_date >= sunset and weather_date <= sunrise):\n",
    "                print('nightime : append')\n",
    "                weather_sample = weather_df.loc[weather_df['utc_date'] == weather_date]\n",
    "                weather_sample = weather_sample.loc[weather_sample['station_id'] == weather_station]\n",
    "                print('weather_sample:', type(weather_sample))\n",
    "                weather_night = weather_night.append(weather_sample)\n",
    "                #weather_night.append([index])\n",
    "            else:\n",
    "                print('daytime : null')\n",
    "\n",
    "            print('\\n')\n",
    "        except:\n",
    "            print('Exception')\n",
    "    return weather_night"
   ]
  },
  {
   "cell_type": "code",
   "execution_count": 36,
   "metadata": {},
   "outputs": [
    {
     "name": "stdout",
     "output_type": "stream",
     "text": [
      "*****\n",
      "Station : KMTCORVA9 Index : 0\n",
      "Weatherstation DateTime: 2017-07-01 06:12:00\n",
      "-\n",
      "Sunset UTC DateTime: 2017-07-01 03:31:54\n",
      "Sunrise UTC DateTime: 2017-07-01 11:48:49\n",
      "nightime : append\n",
      "weather_sample: <class 'pandas.core.frame.DataFrame'>\n",
      "\n",
      "\n"
     ]
    }
   ],
   "source": [
    "weather_night = light_weather(sun_df, weather_df)\n",
    "#save_results(weather_night)"
   ]
  },
  {
   "cell_type": "markdown",
   "metadata": {},
   "source": [
    "### Read Result"
   ]
  },
  {
   "cell_type": "code",
   "execution_count": 21,
   "metadata": {
    "collapsed": true
   },
   "outputs": [],
   "source": [
    "csv_weather_night = pd.read_csv('../output/weather_night-180801.csv')"
   ]
  },
  {
   "cell_type": "code",
   "execution_count": 32,
   "metadata": {},
   "outputs": [
    {
     "name": "stdout",
     "output_type": "stream",
     "text": [
      "weather_df        : 727764\n",
      "csv_weather_night : 325052\n",
      "difference        : 402712\n"
     ]
    }
   ],
   "source": [
    "print('weather_df        :', len(weather_df))\n",
    "print('csv_weather_night :', len(csv_weather_night))\n",
    "print('difference        :', len(weather_df) - len(csv_weather_night))"
   ]
  }
 ],
 "metadata": {
  "kernelspec": {
   "display_name": "Python 3",
   "language": "python",
   "name": "python3"
  },
  "language_info": {
   "codemirror_mode": {
    "name": "ipython",
    "version": 3
   },
   "file_extension": ".py",
   "mimetype": "text/x-python",
   "name": "python",
   "nbconvert_exporter": "python",
   "pygments_lexer": "ipython3",
   "version": "3.6.3"
  }
 },
 "nbformat": 4,
 "nbformat_minor": 2
}
